{
 "cells": [
  {
   "cell_type": "markdown",
   "metadata": {},
   "source": [
    "# Linked Lists\n",
    "https://leetcode.com/tag/linked-list/"
   ]
  },
  {
   "cell_type": "markdown",
   "metadata": {
    "heading_collapsed": true
   },
   "source": [
    "## Merge two sorted lists\n",
    "https://leetcode.com/problems/merge-two-sorted-lists/"
   ]
  },
  {
   "cell_type": "code",
   "execution_count": 35,
   "metadata": {
    "ExecuteTime": {
     "end_time": "2020-06-19T06:48:35.066912Z",
     "start_time": "2020-06-19T06:48:35.056937Z"
    },
    "hidden": true
   },
   "outputs": [
    {
     "name": "stdout",
     "output_type": "stream",
     "text": [
      "1->2->4\n",
      "1->3->4->5\n",
      "1->2->3->4->5->6\n"
     ]
    },
    {
     "data": {
      "text/plain": [
       "([1, 2, 4], [1, 3, 4, 5])"
      ]
     },
     "execution_count": 35,
     "metadata": {},
     "output_type": "execute_result"
    }
   ],
   "source": [
    "# Definition for singly-linked list.\n",
    "class ListNode:\n",
    "    def __init__(self, val=0, next=None):\n",
    "        self.val = val\n",
    "        self.next = next\n",
    "    def prnt(self):\n",
    "        ret = [self.val]\n",
    "        t = self\n",
    "        while t.next:\n",
    "            t = t.next\n",
    "            ret.append(t.val)\n",
    "        print('->'.join(map(str,ret)))\n",
    "        \n",
    "def list_to_ListNode(lst):\n",
    "    if not lst: return None\n",
    "    b_lst = lst[::-1]\n",
    "    t = ListNode(b_lst[0])\n",
    "    for el in b_lst[1:]:\n",
    "        temp = ListNode(el)\n",
    "        temp.next = t\n",
    "        t = temp\n",
    "    return t\n",
    "\n",
    "def ListNode_to_list(ln):\n",
    "    if not ln: return []\n",
    "    lst = [ln.val]\n",
    "    while(ln.next):\n",
    "        ln = ln.next\n",
    "        lst.append(ln.val)\n",
    "    return lst\n",
    "        \n",
    "l1 = ListNode(1, ListNode(2, ListNode(4)))\n",
    "l2 = ListNode(1, ListNode(3, ListNode(4, ListNode(5))))\n",
    "l1.prnt(), l2.prnt()\n",
    "list_to_ListNode([1,2,3,4,5,6]).prnt()\n",
    "ListNode_to_list(l1), ListNode_to_list(l2)\n"
   ]
  },
  {
   "cell_type": "code",
   "execution_count": 17,
   "metadata": {
    "ExecuteTime": {
     "end_time": "2020-06-19T06:24:16.461172Z",
     "start_time": "2020-06-19T06:24:16.456143Z"
    },
    "hidden": true
   },
   "outputs": [
    {
     "data": {
      "text/plain": [
       "[6, 5, 4, 3, 2, 1]"
      ]
     },
     "execution_count": 17,
     "metadata": {},
     "output_type": "execute_result"
    }
   ],
   "source": [
    "[1,2,3,4,5,6][::-1]"
   ]
  },
  {
   "cell_type": "code",
   "execution_count": 39,
   "metadata": {
    "ExecuteTime": {
     "end_time": "2020-06-19T06:49:27.622728Z",
     "start_time": "2020-06-19T06:49:27.616705Z"
    },
    "hidden": true
   },
   "outputs": [
    {
     "name": "stdout",
     "output_type": "stream",
     "text": [
      "[]\n"
     ]
    }
   ],
   "source": [
    "def mergeTwoLists(l1: ListNode, l2: ListNode) -> ListNode:\n",
    "    return list_to_ListNode(sorted(ListNode_to_list(l1) + ListNode_to_list(l2)))\n",
    "\n",
    "l1 = ListNode(1, ListNode(2, ListNode(4)))\n",
    "l2 = ListNode(1, ListNode(3, ListNode(4, ListNode(5))))\n",
    "l1, l2 = None, None\n",
    "print(ListNode_to_list(l1))\n",
    "# l1.prnt(), l2.prnt()\n",
    "mergeTwoLists(l1, l2)#.prnt()"
   ]
  },
  {
   "cell_type": "markdown",
   "metadata": {
    "heading_collapsed": true
   },
   "source": [
    "## Remove Nth Node From End of List\n",
    "https://leetcode.com/problems/remove-nth-node-from-end-of-list"
   ]
  },
  {
   "cell_type": "code",
   "execution_count": null,
   "metadata": {
    "hidden": true
   },
   "outputs": [],
   "source": [
    "## Definition for singly-linked list.\n",
    "# class ListNode:\n",
    "#     def __init__(self, val=0, next=None):\n",
    "#         self.val = val\n",
    "#         self.next = next\n",
    "class Solution:\n",
    "    def removeNthFromEnd(self, head: ListNode, n: int) -> ListNode:"
   ]
  },
  {
   "cell_type": "code",
   "execution_count": 99,
   "metadata": {
    "ExecuteTime": {
     "end_time": "2020-06-21T19:18:35.831609Z",
     "start_time": "2020-06-21T19:18:35.818613Z"
    },
    "hidden": true
   },
   "outputs": [
    {
     "name": "stdout",
     "output_type": "stream",
     "text": [
      "1->2->3->4 [1, 2, 3, 4] 1->2->3->4\n",
      "(1, [1, 2, 3])\n",
      "(2, [1, 2, 4])\n",
      "(3, [1, 3, 4])\n",
      "(4, [2, 3, 4])\n",
      "(5, [1, 2, 3, 4])\n"
     ]
    },
    {
     "data": {
      "text/plain": [
       "['1->[1, 2, 3]',\n",
       " '2->[1, 2, 4]',\n",
       " '3->[1, 3, 4]',\n",
       " '4->[2, 3, 4]',\n",
       " '5->[1, 2, 3, 4]']"
      ]
     },
     "execution_count": 99,
     "metadata": {},
     "output_type": "execute_result"
    }
   ],
   "source": [
    "# Definition for singly-linked list.\n",
    "class ListNode:\n",
    "    def __init__(self, val=0, next=None):\n",
    "        self.val = val\n",
    "        self.next = next\n",
    "        \n",
    "def ln_to_list(ln):\n",
    "    tmp = ln\n",
    "    lst = [ln.val]\n",
    "    while tmp.next:\n",
    "        tmp = tmp.next\n",
    "        lst.append(tmp.val)\n",
    "    return lst\n",
    "\n",
    "def print_ln(ln):\n",
    "    return '->'.join([str(el) for el in ln_to_list(ln)])\n",
    "    \n",
    "def ln_from_list(lst):\n",
    "    if not lst or len(lst) == 0: \n",
    "        return None\n",
    "    head = ListNode(lst[0])\n",
    "    tmp = head\n",
    "    for i in lst[1:]:\n",
    "        tmp.next = ListNode(i)\n",
    "        tmp = tmp.next\n",
    "    return head\n",
    "    \n",
    "        \n",
    "def removeNthFromEnd(head: ListNode, n: int) -> ListNode:\n",
    "    t = ln_to_list(head)\n",
    "    print((n, t[:-n] + t[(-n+1):] if n > 1 else t[:-n]))\n",
    "    return ln_from_list((n, t[:-n] + t[(-n+1):] if n > 1 else t[:-n])) \n",
    "\n",
    "tst = ListNode(1, ListNode(2, ListNode(3, ListNode(4))))\n",
    "print(print_ln(tst), ln_to_list(tst), print_ln(ln_from_list([1, 2, 3, 4])))\n",
    "[print_ln(removeNthFromEnd(tst, n)) for n in range(1, 6)]"
   ]
  },
  {
   "cell_type": "code",
   "execution_count": 40,
   "metadata": {
    "ExecuteTime": {
     "end_time": "2020-06-21T18:18:59.211431Z",
     "start_time": "2020-06-21T18:18:59.027393Z"
    },
    "hidden": true
   },
   "outputs": [
    {
     "ename": "AttributeError",
     "evalue": "'int' object has no attribute 'id'",
     "output_type": "error",
     "traceback": [
      "\u001b[1;31m---------------------------------------------------------------------------\u001b[0m",
      "\u001b[1;31mAttributeError\u001b[0m                            Traceback (most recent call last)",
      "\u001b[1;32m<ipython-input-40-e982ae570eef>\u001b[0m in \u001b[0;36m<module>\u001b[1;34m\u001b[0m\n\u001b[1;32m----> 1\u001b[1;33m \u001b[1;33m[\u001b[0m\u001b[0mi\u001b[0m\u001b[1;33m.\u001b[0m\u001b[0mid\u001b[0m \u001b[1;32mfor\u001b[0m \u001b[0mi\u001b[0m \u001b[1;32min\u001b[0m \u001b[1;33m[\u001b[0m\u001b[1;36m1\u001b[0m\u001b[1;33m,\u001b[0m\u001b[1;36m2\u001b[0m\u001b[1;33m,\u001b[0m\u001b[1;36m3\u001b[0m\u001b[1;33m]\u001b[0m\u001b[1;33m]\u001b[0m\u001b[1;33m\u001b[0m\u001b[0m\n\u001b[0m",
      "\u001b[1;32m<ipython-input-40-e982ae570eef>\u001b[0m in \u001b[0;36m<listcomp>\u001b[1;34m(.0)\u001b[0m\n\u001b[1;32m----> 1\u001b[1;33m \u001b[1;33m[\u001b[0m\u001b[0mi\u001b[0m\u001b[1;33m.\u001b[0m\u001b[0mid\u001b[0m \u001b[1;32mfor\u001b[0m \u001b[0mi\u001b[0m \u001b[1;32min\u001b[0m \u001b[1;33m[\u001b[0m\u001b[1;36m1\u001b[0m\u001b[1;33m,\u001b[0m\u001b[1;36m2\u001b[0m\u001b[1;33m,\u001b[0m\u001b[1;36m3\u001b[0m\u001b[1;33m]\u001b[0m\u001b[1;33m]\u001b[0m\u001b[1;33m\u001b[0m\u001b[0m\n\u001b[0m",
      "\u001b[1;31mAttributeError\u001b[0m: 'int' object has no attribute 'id'"
     ]
    }
   ],
   "source": [
    "[i.id for i in [1,2,3]]"
   ]
  },
  {
   "cell_type": "code",
   "execution_count": 95,
   "metadata": {
    "ExecuteTime": {
     "end_time": "2020-06-21T19:12:25.015182Z",
     "start_time": "2020-06-21T19:12:25.010183Z"
    },
    "hidden": true
   },
   "outputs": [
    {
     "data": {
      "text/plain": [
       "[(1, [1, 2, 3, 4]),\n",
       " (2, [1, 2, 3, 5]),\n",
       " (3, [1, 2, 4, 5]),\n",
       " (4, [1, 3, 4, 5]),\n",
       " (5, [2, 3, 4, 5])]"
      ]
     },
     "execution_count": 95,
     "metadata": {},
     "output_type": "execute_result"
    }
   ],
   "source": [
    "t = [1, 2, 3, 4, 5]\n",
    "n = 0\n",
    "[(n, t[:-n] + t[(-n+1):] if n > 1 else t[:-n]) for n in range(1, 6)]\n"
   ]
  },
  {
   "cell_type": "markdown",
   "metadata": {
    "heading_collapsed": true
   },
   "source": [
    "## Merge k sorted lists\n",
    "https://leetcode.com/problems/merge-k-sorted-lists/"
   ]
  },
  {
   "cell_type": "code",
   "execution_count": 111,
   "metadata": {
    "ExecuteTime": {
     "end_time": "2020-06-22T03:46:33.604503Z",
     "start_time": "2020-06-22T03:46:33.596504Z"
    },
    "hidden": true
   },
   "outputs": [
    {
     "name": "stdout",
     "output_type": "stream",
     "text": [
      "1->1->2->3->4->5\n"
     ]
    }
   ],
   "source": [
    "class ListNode:\n",
    "    def __init__(self, val=0, next=None):\n",
    "        self.val = val\n",
    "        self.next = next\n",
    "\n",
    "def ln_to_list(ln):\n",
    "    if not ln: return []\n",
    "    lst = [ln.val]\n",
    "    while ln.next:\n",
    "        ln = ln.next\n",
    "        lst.append(ln.val)\n",
    "    return lst\n",
    "\n",
    "def prnt(ln):\n",
    "    print('->'.join(map(str, ln_to_list(ln))))\n",
    "\n",
    "def list_to_ln(lst):\n",
    "    if not lst: return None\n",
    "    lst = lst[::-1]\n",
    "    ln = ListNode(lst[0])\n",
    "    for v in lst[1:]:\n",
    "        tmp = ListNode(v, ln)\n",
    "        ln = tmp\n",
    "    return ln\n",
    "\n",
    "class Solution:\n",
    "    def mergeKLists(self, lists) -> ListNode:\n",
    "        all_lst = []\n",
    "        for lst in lists:\n",
    "            all_lst += ln_to_list(lst)\n",
    "        return list_to_ln(sorted(all_lst))\n",
    "\n",
    "tst = ListNode(1, ListNode(2, ListNode(3, ListNode(5))))\n",
    "tst2 = ListNode(1, ListNode(4))\n",
    "# prnt(tst)\n",
    "# prnt(list_to_ln([1,2,3])), prnt(list_to_ln([]))\n",
    "\n",
    "sol = Solution()\n",
    "prnt(sol.mergeKLists([tst,tst2]))"
   ]
  },
  {
   "cell_type": "code",
   "execution_count": 103,
   "metadata": {
    "ExecuteTime": {
     "end_time": "2020-06-22T03:28:44.948295Z",
     "start_time": "2020-06-22T03:28:44.941294Z"
    },
    "hidden": true
   },
   "outputs": [
    {
     "data": {
      "text/plain": [
       "[4, 3, 2, 1]"
      ]
     },
     "execution_count": 103,
     "metadata": {},
     "output_type": "execute_result"
    }
   ],
   "source": [
    "[1,2,3,4][::-1]"
   ]
  },
  {
   "cell_type": "markdown",
   "metadata": {
    "heading_collapsed": true
   },
   "source": [
    "## Swap Nodes in Pairs\n",
    "https://leetcode.com/problems/swap-nodes-in-pairs/"
   ]
  },
  {
   "cell_type": "code",
   "execution_count": null,
   "metadata": {
    "hidden": true
   },
   "outputs": [],
   "source": [
    "# class ListNode:\n",
    "def __init__(self, val=0, next=None):\n",
    "    self.val = val\n",
    "    self.next = next\n",
    "        \n",
    "# class Solution:\n",
    "#     def swapPairs(self, head: ListNode) -> ListNode:\n"
   ]
  },
  {
   "cell_type": "code",
   "execution_count": 170,
   "metadata": {
    "ExecuteTime": {
     "end_time": "2020-06-22T18:49:03.912059Z",
     "start_time": "2020-06-22T18:49:03.860062Z"
    },
    "hidden": true
   },
   "outputs": [
    {
     "data": {
      "text/plain": [
       "['', '1', '2->1', '2->1->3', '2->1->4->3', '2->1->4->3->5']"
      ]
     },
     "execution_count": 170,
     "metadata": {},
     "output_type": "execute_result"
    }
   ],
   "source": [
    "def ln_to_list(ln):\n",
    "    if not ln: return []\n",
    "    lst = [ln.val]\n",
    "    while ln.next:\n",
    "        ln = ln.next\n",
    "        lst.append(ln.val)\n",
    "    return lst\n",
    "\n",
    "def prnt(ln):\n",
    "    return '->'.join(map(str, ln_to_list(ln)))\n",
    "\n",
    "def list_to_ln(lst):\n",
    "    if not lst: return None\n",
    "    lst = lst[::-1]\n",
    "    ln = ListNode(lst[0])\n",
    "    for el in lst[1:]:\n",
    "        tmp = ListNode(el, ln)\n",
    "        ln = tmp\n",
    "    return ln\n",
    "    \n",
    "def swap_list_pairs(old):\n",
    "    if not old: return []\n",
    "    lst = []\n",
    "    for ix in range(0, len(old), 2):\n",
    "        if len(old)%2 and ix == len(old)-1:\n",
    "            lst += [old[len(old)-1]]\n",
    "            break\n",
    "        lst += [old[ix+1], old[ix]]\n",
    "    return lst\n",
    "\n",
    "class Solution:\n",
    "    def swapPairs(self, head: ListNode) -> ListNode:\n",
    "#         print(ln_to_list(head)[::-1], swap_pairs(ln_to_list(head)[::-1]))\n",
    "        return list_to_ln(swap_list_pairs(ln_to_list(head)))\n",
    "        \n",
    "ln = ListNode(0, ListNode(1, ListNode(2)))\n",
    "prnt(ln), ln_to_list(ln), prnt(list_to_ln(ln_to_list(ln)))\n",
    "# [(ls, swap_list_pairs(ls)) for ls in [[],[1],[1,2],[1,2,3],[1,2,3,4], [1,2,3,4,5]]]\n",
    "solution = Solution()\n",
    "[prnt(solution.swapPairs(ln)) for ln in map(list_to_ln,[[],[1],[1,2],[1,2,3],[1,2,3,4], [1,2,3,4,5]])]"
   ]
  },
  {
   "cell_type": "code",
   "execution_count": 132,
   "metadata": {
    "ExecuteTime": {
     "end_time": "2020-06-22T14:52:22.735337Z",
     "start_time": "2020-06-22T14:52:22.729327Z"
    },
    "hidden": true
   },
   "outputs": [
    {
     "data": {
      "text/plain": [
       "[1, 0, 3, 2, 5, 4]"
      ]
     },
     "execution_count": 132,
     "metadata": {},
     "output_type": "execute_result"
    }
   ],
   "source": [
    "# lst []\n",
    "swap_pairs([ix for ix in range(6)])"
   ]
  },
  {
   "cell_type": "code",
   "execution_count": 159,
   "metadata": {
    "ExecuteTime": {
     "end_time": "2020-06-22T15:06:50.384002Z",
     "start_time": "2020-06-22T15:06:50.379974Z"
    },
    "hidden": true
   },
   "outputs": [
    {
     "data": {
      "text/plain": [
       "[]"
      ]
     },
     "execution_count": 159,
     "metadata": {},
     "output_type": "execute_result"
    }
   ],
   "source": [
    "[][::-1]"
   ]
  },
  {
   "cell_type": "markdown",
   "metadata": {
    "heading_collapsed": true
   },
   "source": [
    "## Reverse nodes in k groups\n",
    "https://leetcode.com/problems/reverse-nodes-in-k-group/"
   ]
  },
  {
   "cell_type": "code",
   "execution_count": 172,
   "metadata": {
    "ExecuteTime": {
     "end_time": "2020-06-23T14:26:36.172980Z",
     "start_time": "2020-06-23T14:26:36.105815Z"
    },
    "hidden": true
   },
   "outputs": [],
   "source": [
    "# Definition for singly-linked list.\n",
    "# class ListNode:\n",
    "#     def __init__(self, val=0, next=None):\n",
    "#         self.val = val\n",
    "#         self.next = next\n",
    "class Solution:\n",
    "    def reverseKGroup(self, head: ListNode, k: int) -> ListNode:\n",
    "        pass\n",
    "     "
   ]
  },
  {
   "cell_type": "code",
   "execution_count": 209,
   "metadata": {
    "ExecuteTime": {
     "end_time": "2020-06-23T15:04:35.149071Z",
     "start_time": "2020-06-23T15:04:35.136072Z"
    },
    "hidden": true
   },
   "outputs": [
    {
     "data": {
      "text/plain": [
       "'2->1->0->5->4->3->8->7->6->9->10'"
      ]
     },
     "execution_count": 209,
     "metadata": {},
     "output_type": "execute_result"
    }
   ],
   "source": [
    "def ln_to_list(ln):\n",
    "    if not ln: return []\n",
    "    lst = [ln.val]\n",
    "    while ln.next:\n",
    "        ln = ln.next\n",
    "        lst.append(ln.val)\n",
    "    return lst\n",
    "\n",
    "def prnt(ln):\n",
    "    return '->'.join(map(str, ln_to_list(ln)))\n",
    "\n",
    "def list_to_ln(lst):\n",
    "    if not lst: return None\n",
    "    lst = lst[::-1]\n",
    "    ln = ListNode(lst[0])\n",
    "    for i in lst[1:]:\n",
    "        tmp = ListNode(i, ln)\n",
    "#         ln.next = tmp\n",
    "        ln = tmp\n",
    "    return ln\n",
    "\n",
    "# ln = ListNode(0, ListNode(1, ListNode(2, ListNode(3))))\n",
    "# prnt(ln), prnt(list_to_ln(ln_to_list(ln)))\n",
    "\n",
    "def reverse_list_groups(lst, k):\n",
    "    if not lst: return lst\n",
    "    n = len(lst)\n",
    "    new_lst = []\n",
    "    for g in range(0, n//k):\n",
    "        new_lst += lst[g*k:(g+1)*k][::-1]\n",
    "    if n%k:\n",
    "        new_lst += lst[-(n%k):]\n",
    "    return new_lst\n",
    "\n",
    "class Solution:\n",
    "    def reverseKGroup(self, head: ListNode, k: int) -> ListNode:\n",
    "        return list_to_ln(reverse_list_groups(ln_to_list(head), k))\n",
    "\n",
    "n, k = 11, 3\n",
    "lst = [i for i in range(n)]\n",
    "reverse_list_groups(lst, k)\n",
    "solution = Solution()\n",
    "prnt(solution.reverseKGroup(list_to_ln(lst), k))"
   ]
  },
  {
   "cell_type": "markdown",
   "metadata": {
    "heading_collapsed": true
   },
   "source": [
    "## Rotate List\n",
    "https://leetcode.com/problems/rotate-list/"
   ]
  },
  {
   "cell_type": "code",
   "execution_count": 211,
   "metadata": {
    "ExecuteTime": {
     "end_time": "2020-06-23T16:20:02.323837Z",
     "start_time": "2020-06-23T16:20:02.201860Z"
    },
    "hidden": true
   },
   "outputs": [],
   "source": [
    "# Definition for singly-linked list.\n",
    "# class ListNode:\n",
    "#     def __init__(self, val=0, next=None):\n",
    "#         self.val = val\n",
    "#         self.next = next\n",
    "class Solution:\n",
    "    def rotateRight(self, head: ListNode, k: int) -> ListNode:\n",
    "        pass\n"
   ]
  },
  {
   "cell_type": "code",
   "execution_count": 234,
   "metadata": {
    "ExecuteTime": {
     "end_time": "2020-06-23T16:40:30.979914Z",
     "start_time": "2020-06-23T16:40:30.969890Z"
    },
    "hidden": true,
    "scrolled": true
   },
   "outputs": [
    {
     "data": {
      "text/plain": [
       "''"
      ]
     },
     "execution_count": 234,
     "metadata": {},
     "output_type": "execute_result"
    }
   ],
   "source": [
    "def ln_to_list(ln):\n",
    "    if not ln: return []\n",
    "    lst = [ln.val]\n",
    "    while ln.next:\n",
    "        ln = ln.next\n",
    "        lst.append(ln.val)\n",
    "    return lst\n",
    "\n",
    "def prnt(ln):\n",
    "    return '->'.join(map(str, ln_to_list(ln)))\n",
    "\n",
    "def list_to_ln(lst):\n",
    "    if not lst: return None\n",
    "    lst = lst[::-1]\n",
    "    ln = ListNode(lst[0])\n",
    "    for i in lst[1:]:\n",
    "        tmp = ListNode(i, ln)\n",
    "        ln = tmp\n",
    "    return ln        \n",
    "\n",
    "# ln =  ListNode(0, ListNode(1, ListNode(2, ListNode(3))))\n",
    "# ln_to_list(ln), prnt(ln), prnt(list_to_ln(ln_to_list(ln)))\n",
    "\n",
    "\n",
    "def rotate_list(lst, k):\n",
    "    if not lst: return []\n",
    "    r = k%len(lst)\n",
    "    return lst[-r:] + lst[:-r]\n",
    "\n",
    "# rotate_list(lst, k)\n",
    "\n",
    "class Solution:\n",
    "    def rotateRight(self, head: ListNode, k: int) -> ListNode:\n",
    "        return list_to_ln(rotate_list(ln_to_list(head), k))\n",
    "\n",
    "n = 0\n",
    "k = 4\n",
    "lst = list(range(n))\n",
    "ln = list_to_ln(lst)\n",
    "solution = Solution()\n",
    "prnt(solution.rotateRight(ln, k))"
   ]
  },
  {
   "cell_type": "markdown",
   "metadata": {
    "heading_collapsed": true
   },
   "source": [
    "## Remove Duplicates from Linked List (2)\n",
    "https://leetcode.com/problems/remove-duplicates-from-sorted-list-ii/"
   ]
  },
  {
   "cell_type": "code",
   "execution_count": 278,
   "metadata": {
    "ExecuteTime": {
     "end_time": "2020-06-23T22:26:57.206611Z",
     "start_time": "2020-06-23T22:26:57.195611Z"
    },
    "hidden": true
   },
   "outputs": [
    {
     "data": {
      "text/plain": [
       "'0->1->2->3'"
      ]
     },
     "execution_count": 278,
     "metadata": {},
     "output_type": "execute_result"
    }
   ],
   "source": [
    "def ln_to_list(ln):\n",
    "    if not ln: return []\n",
    "    lst = [ln.val]\n",
    "    while ln.next:\n",
    "        ln = ln.next\n",
    "        lst.append(ln.val)\n",
    "    return lst\n",
    "\n",
    "def prnt(ln):\n",
    "    return '->'.join(map(str, ln_to_list(ln)))\n",
    "\n",
    "def list_to_ln(lst):\n",
    "    if not lst: return None\n",
    "    lst = lst[::-1]\n",
    "    ln = ListNode(lst[0])\n",
    "    for i in lst[1:]:\n",
    "        tmp = ListNode(i, ln)\n",
    "        ln = tmp\n",
    "    return ln\n",
    "    \n",
    "from collections import Counter\n",
    "    \n",
    "def remove_dups_from_list(lst):\n",
    "    if not lst or len(lst) == 1: return lst\n",
    "    return [k for k, v in Counter(lst).items() if v == 1]\n",
    "\n",
    "\n",
    "class Solution:\n",
    "    def deleteDuplicates(self, head: ListNode) -> ListNode:\n",
    "        return list_to_ln(remove_dups_from_list(ln_to_list(head)))\n",
    "\n",
    "ln = ListNode(0, ListNode(1, ListNode(2, ListNode(3))))\n",
    "# ln_to_list(ln), prnt(ln), prnt(list_to_ln(ln_to_list(ln)))\n",
    "\n",
    "lst = [1,2,2,3,4,4,5,6,6,7]\n",
    "[remove_dups_from_list(lst) for lst in [[], [1], [1,1], [1,2], [1,2,3], [1,1,2], [1,2,2],\n",
    "                                       [1,2,3,4], [1,1,2,2], [1,2,2,3]]]\n",
    "\n",
    "solution = Solution()\n",
    "prnt(solution.deleteDuplicates(ln)) "
   ]
  },
  {
   "cell_type": "markdown",
   "metadata": {
    "heading_collapsed": true
   },
   "source": [
    "## Remove Duplicates from sorted Linked list (1)\n",
    "https://leetcode.com/problems/remove-duplicates-from-sorted-list/"
   ]
  },
  {
   "cell_type": "code",
   "execution_count": 281,
   "metadata": {
    "ExecuteTime": {
     "end_time": "2020-06-23T22:44:07.832519Z",
     "start_time": "2020-06-23T22:44:07.820510Z"
    },
    "hidden": true
   },
   "outputs": [
    {
     "data": {
      "text/plain": [
       "['',\n",
       " '1',\n",
       " '1',\n",
       " '1->2',\n",
       " '1->2->3',\n",
       " '1->2',\n",
       " '1->2',\n",
       " '1->2->3->4',\n",
       " '1->2',\n",
       " '1->2->3']"
      ]
     },
     "execution_count": 281,
     "metadata": {},
     "output_type": "execute_result"
    }
   ],
   "source": [
    "def ln_to_list(ln):\n",
    "    if not ln: return []\n",
    "    lst = [ln.val]\n",
    "    while ln.next:\n",
    "        ln = ln.next\n",
    "        lst.append(ln.val)\n",
    "    return lst\n",
    "\n",
    "def prnt(ln):\n",
    "    return '->'.join(map(str, ln_to_list(ln)))\n",
    "\n",
    "def list_to_ln(lst):\n",
    "    if not lst: return None\n",
    "    lst = lst[::-1]\n",
    "    ln = ListNode(lst[0])\n",
    "    for i in lst[1:]:\n",
    "        tmp = ListNode(i, ln)\n",
    "        ln = tmp\n",
    "    return ln\n",
    "\n",
    "\n",
    "def remove_dups_from_list(lst):\n",
    "    return sorted(list(set(lst)))\n",
    "\n",
    "\n",
    "class Solution:\n",
    "    def deleteDuplicates(self, head: ListNode) -> ListNode:\n",
    "        return list_to_ln(remove_dups_from_list(ln_to_list(head)))\n",
    "\n",
    "# [remove_dups_from_list(lst) for lst in [[], [1], [1,1], [1,2], [1,2,3], [1,1,2], [1,2,2],\n",
    "#                                        [1,2,3,4], [1,1,2,2], [1,2,2,3]]]\n",
    "\n",
    "solution = Solution()\n",
    "[prnt(solution.deleteDuplicates(list_to_ln(lst))) for lst in [[], [1], [1,1], [1,2], [1,2,3], [1,1,2], [1,2,2],\n",
    "                                       [1,2,3,4], [1,1,2,2], [1,2,2,3]]]"
   ]
  },
  {
   "cell_type": "markdown",
   "metadata": {
    "heading_collapsed": true
   },
   "source": [
    "## Partition List\n",
    "https://leetcode.com/problems/partition-list/"
   ]
  },
  {
   "cell_type": "code",
   "execution_count": 289,
   "metadata": {
    "ExecuteTime": {
     "end_time": "2020-06-23T23:06:03.870156Z",
     "start_time": "2020-06-23T23:06:03.861151Z"
    },
    "hidden": true
   },
   "outputs": [
    {
     "data": {
      "text/plain": [
       "['', '1', '1->2', '1->2->3', '1->3->4', '1->3->4', '1->2->1->1->2->1->3->5->4']"
      ]
     },
     "execution_count": 289,
     "metadata": {},
     "output_type": "execute_result"
    }
   ],
   "source": [
    "def ln_to_list(ln):\n",
    "    if not ln: return []\n",
    "    lst = [ln.val]\n",
    "    while ln.next:\n",
    "        ln = ln.next\n",
    "        lst.append(ln.val)\n",
    "    return lst\n",
    "\n",
    "def prnt(ln):\n",
    "    return '->'.join(map(str, ln_to_list(ln)))\n",
    "\n",
    "def list_to_ln(lst):\n",
    "    if not lst: return None\n",
    "    lst = lst[::-1]\n",
    "    ln = ListNode(lst[0])\n",
    "    for i in lst[1:]:\n",
    "        tmp = ListNode(i, ln)\n",
    "        ln = tmp\n",
    "    return ln\n",
    "    \n",
    "# lst = list(range(5))\n",
    "# prnt(list_to_ln(lst)), ln_to_list(list_to_ln(lst))\n",
    "\n",
    "def partition_list(lst, x):\n",
    "    if not lst: return []\n",
    "    before, after = [], []\n",
    "    for i in lst:\n",
    "        if i < x:\n",
    "            before.append(i)\n",
    "        else:\n",
    "            after.append(i)\n",
    "    return before + after\n",
    "\n",
    "# x = 3\n",
    "# [partition_list(lst, x) for lst in [[], [1], [1,2], [1,2,3], [1,3,4], [3,1,4], \n",
    "#                                     [1,3,2,1,5,1,2,4,1]]]\n",
    "\n",
    "class Solution:\n",
    "    def partition(self, head: ListNode, x: int) -> ListNode:\n",
    "        return list_to_ln(partition_list(ln_to_list(head), x))\n",
    "    \n",
    "solution = Solution()\n",
    "\n",
    "x = 3\n",
    "[prnt(solution.partition(list_to_ln(lst), x)) for lst in [[], [1], [1,2], [1,2,3], [1,3,4], [3,1,4], \n",
    "                                    [1,3,2,1,5,1,2,4,1]]]\n"
   ]
  },
  {
   "cell_type": "markdown",
   "metadata": {
    "heading_collapsed": true
   },
   "source": [
    "## Reverse Linked List (2)\n",
    "https://leetcode.com/problems/reverse-linked-list-ii/"
   ]
  },
  {
   "cell_type": "code",
   "execution_count": 297,
   "metadata": {
    "ExecuteTime": {
     "end_time": "2020-06-23T23:23:30.109332Z",
     "start_time": "2020-06-23T23:23:30.070326Z"
    },
    "hidden": true
   },
   "outputs": [
    {
     "data": {
      "text/plain": [
       "'0->4->3->2->1->5->6->7->8->9'"
      ]
     },
     "execution_count": 297,
     "metadata": {},
     "output_type": "execute_result"
    }
   ],
   "source": [
    "def ln_to_list(ln):\n",
    "    if not ln: return []\n",
    "    lst = [ln.val]\n",
    "    while(ln.next):\n",
    "        ln = ln.next\n",
    "        lst.append(ln.val)\n",
    "    return lst\n",
    "\n",
    "def prnt(ln):\n",
    "    return '->'.join(map(str, ln_to_list(ln)))\n",
    "\n",
    "def list_to_ln(lst):\n",
    "    if not lst: return None\n",
    "    lst = lst[::-1]\n",
    "    ln = ListNode(lst[0])\n",
    "    for i in lst[1:]:\n",
    "        tmp = ListNode(i, ln)\n",
    "        ln = tmp\n",
    "    return ln\n",
    "\n",
    "# lst = list(range(5))\n",
    "# prnt(list_to_ln(lst)), ln_to_list(list_to_ln(lst))\n",
    "\n",
    "def reverse_list_part(lst, n, m):\n",
    "    return lst[:n-1] + lst[n-1:m][::-1] + lst[m:]\n",
    "\n",
    "class Solution:\n",
    "    def reverseBetween(self, head: ListNode, m: int, n: int) -> ListNode:\n",
    "        return list_to_ln(reverse_list_part(ln_to_list(head), m, n))\n",
    "\n",
    "lst = list(range(10))\n",
    "n, m = 2, 5\n",
    "reverse_list_part(lst, n, m)\n",
    "solution = Solution()\n",
    "prnt(solution.reverseBetween(list_to_ln(lst), n, m))"
   ]
  },
  {
   "cell_type": "markdown",
   "metadata": {
    "heading_collapsed": true
   },
   "source": [
    "## Convert a Sorted List to a Balanced Binary Search Tree\n",
    "https://leetcode.com/problems/convert-sorted-list-to-binary-search-tree/"
   ]
  },
  {
   "cell_type": "code",
   "execution_count": 303,
   "metadata": {
    "ExecuteTime": {
     "end_time": "2020-06-24T01:39:26.589787Z",
     "start_time": "2020-06-24T01:39:26.578785Z"
    },
    "hidden": true
   },
   "outputs": [
    {
     "name": "stdout",
     "output_type": "stream",
     "text": [
      "-3\n",
      "0\n",
      "1\n",
      "3\n"
     ]
    }
   ],
   "source": [
    "class Node:\n",
    "    def __init__(self, val):\n",
    "        self.left = None\n",
    "        self.right = None\n",
    "        self.val = val\n",
    "\n",
    "# def binary_insert(root, node):\n",
    "#     if root is None:\n",
    "#         root = node\n",
    "#     else:\n",
    "#         if root.val > node.val:\n",
    "#             if root.left is None:\n",
    "#                 root.left = node\n",
    "#             else:\n",
    "#                 binary_insert(root.left, node)\n",
    "#         else:\n",
    "#             if root.right is None:\n",
    "#                 root.right = node\n",
    "#             else:\n",
    "#                 binary_insert(root.right, node)\n",
    "\n",
    "def binary_insert(root, node):\n",
    "    if root is None:\n",
    "        return node\n",
    "    if root.val > node.val:\n",
    "        root.left = binary_insert(root.left, node)\n",
    "    else:\n",
    "        root.right = binary_insert(root.right, node)\n",
    "    return root\n",
    "\n",
    "def in_order_print(root):\n",
    "    if not root:\n",
    "        return\n",
    "    in_order_print(root.left)\n",
    "    print (root.val)\n",
    "    in_order_print(root.right)\n",
    "\n",
    "def pre_order_print(root):\n",
    "    if not root:\n",
    "        return        \n",
    "    print (root.val)\n",
    "    pre_order_print(root.left)\n",
    "    pre_order_print(root.right) \n",
    "    \n",
    "    \n",
    "# Definition for singly-linked list.\n",
    "class ListNode:\n",
    "    def __init__(self, val=0, next=None):\n",
    "        self.val = val\n",
    "        self.next = next\n",
    "# Definition for a binary tree node.\n",
    "class TreeNode:\n",
    "    def __init__(self, val=0, left=None, right=None):\n",
    "        self.val = val\n",
    "        self.left = left\n",
    "        self.right = right\n",
    "class Solution:\n",
    "    def sortedListToBST(self, head: ListNode) -> TreeNode:\n",
    "        if not head: return None\n",
    "        root = TreeNode(head.val)\n",
    "        while head.next:\n",
    "            head = head.next\n",
    "            root = binary_insert(root, TreeNode(head.val))\n",
    "        return root\n",
    "        \n",
    "\n",
    "# r = Node(3)\n",
    "# r = binary_insert(r, Node(7))\n",
    "# r = binary_insert(r, Node(1))\n",
    "# r = binary_insert(r, Node(5))\n",
    "\n",
    "# in_order_print(r)\n",
    "# print()\n",
    "# pre_order_print(r)\n",
    "\n",
    "ln = ListNode(-3, ListNode(1, ListNode(0, ListNode(3))))\n",
    "solution = Solution()\n",
    "in_order_print(solution.sortedListToBST(ln))"
   ]
  },
  {
   "cell_type": "markdown",
   "metadata": {
    "heading_collapsed": true
   },
   "source": [
    "## Copy List with Random Pointer\n",
    "https://leetcode.com/problems/copy-list-with-random-pointer/"
   ]
  },
  {
   "cell_type": "code",
   "execution_count": 376,
   "metadata": {
    "ExecuteTime": {
     "end_time": "2020-06-25T01:47:01.639652Z",
     "start_time": "2020-06-25T01:47:01.623662Z"
    },
    "hidden": true
   },
   "outputs": [
    {
     "name": "stdout",
     "output_type": "stream",
     "text": [
      "\n",
      "source_nodes:\n",
      "{'val': 4, 'next': <__main__.Node object at 0x0000020A05CF4E48>, 'random': None}\n",
      "{'val': 3, 'next': <__main__.Node object at 0x0000020A05CF46D8>, 'random': None}\n",
      "{'val': 2, 'next': <__main__.Node object at 0x0000020A05CF47B8>, 'random': <__main__.Node object at 0x0000020A05CF46D8>}\n",
      "{'val': 1, 'next': <__main__.Node object at 0x0000020A05CF4518>, 'random': <__main__.Node object at 0x0000020A05CF46D8>}\n",
      "{'val': 0, 'next': None, 'random': <__main__.Node object at 0x0000020A05CF4518>}\n",
      "\n",
      "source_lists:\n",
      "0 4 -9223371896725375849 None\n",
      "1 3 -9223371896725375772 None\n",
      "2 2 -9223371896725375891 -9223371896725375891\n",
      "3 1 -9223371896725375877 -9223371896725375891\n",
      "4 0 -9223371896725375919 -9223371896725375919\n",
      "\n",
      "source_hash2ix:\n",
      "{-9223371896725375849: 0, -9223371896725375772: 1, -9223371896725375891: 2, -9223371896725375877: 3, -9223371896725375919: 4}\n",
      "\n",
      "source_random_ixs:\n",
      "[None, None, 2, 2, 4]\n",
      "{'val': 4, 'next': <__main__.Node object at 0x0000020A05CF4080>, 'random': None}\n",
      "{'val': 3, 'next': <__main__.Node object at 0x0000020A05CF44E0>, 'random': None}\n",
      "{'val': 2, 'next': <__main__.Node object at 0x0000020A05CF4828>, 'random': <__main__.Node object at 0x0000020A05CF44E0>}\n",
      "{'val': 1, 'next': <__main__.Node object at 0x0000020A05CF4D68>, 'random': <__main__.Node object at 0x0000020A05CF44E0>}\n",
      "{'val': 0, 'next': None, 'random': <__main__.Node object at 0x0000020A05CF4D68>}\n"
     ]
    }
   ],
   "source": [
    "# Definition for a Node.\n",
    "class Node:\n",
    "    def __init__(self, x: int, next: 'Node' = None, random: 'Node' = None):\n",
    "        self.val = int(x)\n",
    "        self.next = next\n",
    "        self.random = random\n",
    "        \n",
    "# def prnt(obj):\n",
    "#     def s(obj):\n",
    "#         return obj.val if obj and obj.val else \"None\"\n",
    "#     return f'obj.__hash__(): val:{s(obj)}, next:{s(obj.next)}, random:{s(obj.random)}'\n",
    "\n",
    "from collections import namedtuple\n",
    "from random import choice\n",
    "\n",
    "def prnt(node):\n",
    "    print(node.__dict__)\n",
    "    \n",
    "def generate_list(node_values, log=False):\n",
    "#     node_values = node_values[::-1]\n",
    "    node = Node(node_values[0])\n",
    "    if log: prnt(node)\n",
    "    node_pointers = [None, node]\n",
    "    for i, node_value in enumerate(node_values[1:]):\n",
    "        tmp = Node(node_value, node)\n",
    "        if log: prnt(tmp)\n",
    "        node_pointers.append(tmp)\n",
    "        node = tmp\n",
    "    head = node\n",
    "    if log: print('\\n', node_pointers)\n",
    "    node.random = choice(node_pointers)\n",
    "    if log: prnt(head)\n",
    "    while node.next:\n",
    "        node = node.next\n",
    "        node.random = choice(node_pointers)\n",
    "        if log: prnt(node)\n",
    "    return head\n",
    "\n",
    "def prnt_list(head):\n",
    "    if not head: \n",
    "        print('None')\n",
    "        return\n",
    "    print(head.__dict__)\n",
    "    while head.next:\n",
    "        head = head.next\n",
    "        print(head.__dict__)\n",
    "\n",
    "class Solution:\n",
    "    def copyRandomList(self, head: 'Node') -> 'Node':\n",
    "        if not head: return None\n",
    "        # 1. scan the node list: save nodes into lists\n",
    "#         print('\\nsource_nodes:')\n",
    "#         print(head.__dict__)\n",
    "        source_vals = [head.val]\n",
    "        source_hashes = [head.__hash__()]\n",
    "        source_random_hashes = [head.random.__hash__() if head.random else None]\n",
    "        while head.next:\n",
    "            head = head.next\n",
    "#             print(head.__dict__)\n",
    "            source_vals.append(head.val)\n",
    "            source_hashes.append(head.__hash__())\n",
    "            source_random_hashes.append(head.random.__hash__() if head.random else None)\n",
    "#         print('\\nsource_lists:')\n",
    "#         [print(i, val, hsh, random_hash) for i, val, hsh, random_hash \n",
    "#          in zip(list(range(len(source_vals))), source_vals, source_hashes, source_random_hashes)]\n",
    "            \n",
    "        # 2. from the node list create map: hash2ix (list index), [random_hash]\n",
    "        source_hash2ix = {h: ix for h, ix in zip(source_hashes, list(range(len(source_vals))))}\n",
    "#         print('\\nsource_hash2ix:')\n",
    "#         print(source_hash2ix)\n",
    "        # create [random_ix] list\n",
    "        source_random_ixs = [source_hash2ix[r_h] if r_h else None for r_h in source_random_hashes]\n",
    "#         print('\\nsource_random_ixs:')\n",
    "#         print(source_random_ixs)\n",
    "        # 3. recreate node list with nodes from lists\n",
    "        #  save node hashes\n",
    "        source_vals_reverse = source_vals[::-1]\n",
    "        new_head = Node(source_vals_reverse[0])\n",
    "        new_nodes_reverse = [new_head]\n",
    "        for val in source_vals_reverse[1:]:\n",
    "            tmp = Node(val, new_head)\n",
    "            new_nodes_reverse.append(tmp)\n",
    "            new_head = tmp\n",
    "        new_nodes = new_nodes_reverse[::-1]\n",
    "#         print('\\nnew_nodes:')\n",
    "#         [print(n.__dict__) for n in new_nodes]\n",
    "        # 5. scan the new node list and fill in random\n",
    "#         tmp = new_head\n",
    "        for i, n in enumerate(new_nodes):\n",
    "            n.random = new_nodes[source_random_ixs[i]] if source_random_ixs[i] != None else None\n",
    "        return new_head\n",
    "\n",
    "n = 5\n",
    "head = generate_list(list(range(n)))\n",
    "sol = Solution()\n",
    "head_copy = sol.copyRandomList(head)\n",
    "prnt_list(head_copy)"
   ]
  },
  {
   "cell_type": "code",
   "execution_count": 362,
   "metadata": {
    "ExecuteTime": {
     "end_time": "2020-06-25T01:03:18.166457Z",
     "start_time": "2020-06-25T01:03:18.161463Z"
    },
    "hidden": true
   },
   "outputs": [
    {
     "data": {
      "text/plain": [
       "[(2, 22), (1, 11)]"
      ]
     },
     "execution_count": 362,
     "metadata": {},
     "output_type": "execute_result"
    }
   ],
   "source": [
    "list(zip([1,2],[11,22]))[::-1]"
   ]
  },
  {
   "cell_type": "code",
   "execution_count": 323,
   "metadata": {
    "ExecuteTime": {
     "end_time": "2020-06-24T15:13:06.978047Z",
     "start_time": "2020-06-24T15:13:06.974050Z"
    },
    "hidden": true
   },
   "outputs": [
    {
     "data": {
      "text/plain": [
       "{'val': 1, 'next': None, 'random': None}"
      ]
     },
     "execution_count": 323,
     "metadata": {},
     "output_type": "execute_result"
    }
   ],
   "source": [
    "n = Node(1)\n",
    "n.__dict__\n",
    "# n.__getattribute__('val'), n.__getattribute__('some')"
   ]
  },
  {
   "cell_type": "markdown",
   "metadata": {},
   "source": [
    "## Linked List cycle\n",
    "https://leetcode.com/problems/linked-list-cycle/"
   ]
  },
  {
   "cell_type": "code",
   "execution_count": 386,
   "metadata": {
    "ExecuteTime": {
     "end_time": "2020-06-25T02:27:34.403463Z",
     "start_time": "2020-06-25T02:27:34.394460Z"
    }
   },
   "outputs": [
    {
     "name": "stdout",
     "output_type": "stream",
     "text": [
      "-9223371896725150846 2242073999400\n",
      "True\n"
     ]
    }
   ],
   "source": [
    "# Definition for singly-linked list.\n",
    "class ListNode:\n",
    "    def __init__(self, x):\n",
    "        self.val = x\n",
    "        self.next = None\n",
    "\n",
    "class Solution:\n",
    "    def hasCycle(self, head: ListNode) -> bool:\n",
    "        if not head: return False\n",
    "        node_hashes = set(str(id(head)))\n",
    "        while head.next:\n",
    "            head = head.next\n",
    "            if str(id(head)) in node_hashes:\n",
    "                return True\n",
    "            node_hashes.add(str(id(head)))\n",
    "        return False\n",
    "\n",
    "        \n",
    "ln = ListNode(0)\n",
    "print(ln.__hash__(), id(ln))\n",
    "ln.next = ListNode(1)\n",
    "ln.next.next = ListNode(2)\n",
    "ln.next.next.next = ListNode(3)\n",
    "ln.next.next.next = ln\n",
    "sol = Solution()\n",
    "print(sol.hasCycle(ln))"
   ]
  },
  {
   "cell_type": "code",
   "execution_count": 391,
   "metadata": {
    "ExecuteTime": {
     "end_time": "2020-06-25T02:29:39.818714Z",
     "start_time": "2020-06-25T02:29:29.967679Z"
    }
   },
   "outputs": [
    {
     "name": "stdout",
     "output_type": "stream",
     "text": [
      "120 ns ± 7.14 ns per loop (mean ± std. dev. of 7 runs, 10000000 loops each)\n"
     ]
    }
   ],
   "source": [
    "# two pointer approach https://en.wikipedia.org/wiki/Cycle_detection#Floyd's_Tortoise_and_Hare\n"
   ]
  },
  {
   "cell_type": "code",
   "execution_count": 392,
   "metadata": {
    "ExecuteTime": {
     "end_time": "2020-06-25T02:29:59.778795Z",
     "start_time": "2020-06-25T02:29:53.751768Z"
    }
   },
   "outputs": [
    {
     "name": "stdout",
     "output_type": "stream",
     "text": [
      "75.8 ns ± 10.2 ns per loop (mean ± std. dev. of 7 runs, 10000000 loops each)\n"
     ]
    }
   ],
   "source": [
    "%timeit id(ln)"
   ]
  },
  {
   "cell_type": "code",
   "execution_count": 396,
   "metadata": {
    "ExecuteTime": {
     "end_time": "2020-06-25T02:44:40.185128Z",
     "start_time": "2020-06-25T02:44:40.179097Z"
    }
   },
   "outputs": [
    {
     "name": "stdout",
     "output_type": "stream",
     "text": [
      "True\n"
     ]
    }
   ],
   "source": [
    "class Solution:\n",
    "    def hasCycle(self, head: ListNode) -> bool:\n",
    "        if not head or not head.next or not head.next.next:\n",
    "            return False\n",
    "        slow, fast = head, head.next\n",
    "        while slow.next != fast.next:\n",
    "            if not slow.next or not fast.next or not fast.next.next:\n",
    "                return False\n",
    "            slow, fast = slow.next, fast.next.next\n",
    "        return True\n",
    "\n",
    "ln = ListNode(0)\n",
    "ln.next = ListNode(1)\n",
    "ln.next.next = ListNode(2)\n",
    "ln.next.next.next = ListNode(3)\n",
    "ln.next.next.next = ln\n",
    "sol = Solution()\n",
    "print(sol.hasCycle(ln))"
   ]
  },
  {
   "cell_type": "markdown",
   "metadata": {},
   "source": [
    "## Linked List cycle 2\n",
    "https://leetcode.com/problems/linked-list-cycle-ii/discuss/691329/Python-two-pointers-(90-80)"
   ]
  },
  {
   "cell_type": "code",
   "execution_count": 5,
   "metadata": {
    "ExecuteTime": {
     "end_time": "2020-06-29T15:05:11.402631Z",
     "start_time": "2020-06-29T15:05:11.394631Z"
    }
   },
   "outputs": [
    {
     "name": "stdout",
     "output_type": "stream",
     "text": [
      "None\n"
     ]
    }
   ],
   "source": [
    "class ListNode:\n",
    "    def __init__(self, x):\n",
    "        self.val = x\n",
    "        self.next = None\n",
    "\n",
    "class Solution:\n",
    "    def detectCycle(self, head: ListNode) -> ListNode:\n",
    "#         if not head:\n",
    "#             return None\n",
    "        \n",
    "#         p1, p2 = head, head\n",
    "#         while p1 and p1.next:\n",
    "#             p1 = p1.next.next\n",
    "#             p2 = p2.next\n",
    "#             if p1 == p2:\n",
    "#                 break\n",
    "        \n",
    "#         if p1 == None or p1.next == None:\n",
    "#             return None\n",
    "        \n",
    "#         p2 = head\n",
    "#         while p2 != p1:\n",
    "#             p2 = p2.next\n",
    "#             p1 = p1.next\n",
    "        \n",
    "        if not head:return None\n",
    "        p1, p2 = head, head\n",
    "        while p1 and p1.next:\n",
    "            p2 = p2.next\n",
    "            p1 = p1.next.next\n",
    "            if p1 == p2:\n",
    "                break\n",
    "        if p1 != p2:\n",
    "            return None\n",
    "        \n",
    "        p1 = head\n",
    "        while p1 != p2:\n",
    "            p1 = p1.next\n",
    "            p2 = p2.next        \n",
    "        \n",
    "        return p1\n",
    "    \n",
    "\n",
    "ln = ListNode(0)\n",
    "ln.next = ListNode(1)\n",
    "ln.next.next = ListNode(2)\n",
    "ln.next.next.next = ListNode(3)\n",
    "# ln.next.next.next = ln\n",
    "sol = Solution()\n",
    "print(sol.detectCycle(ln))"
   ]
  },
  {
   "cell_type": "markdown",
   "metadata": {},
   "source": [
    "## Reorder List\n",
    "https://leetcode.com/problems/reorder-list/"
   ]
  },
  {
   "cell_type": "code",
   "execution_count": 51,
   "metadata": {
    "ExecuteTime": {
     "end_time": "2020-07-02T16:39:08.388105Z",
     "start_time": "2020-07-02T16:39:08.368105Z"
    }
   },
   "outputs": [
    {
     "name": "stdout",
     "output_type": "stream",
     "text": [
      "[1, 2]\n",
      "[1, 3]\n",
      "[1, 3, 2]\n",
      "[1, 4]\n",
      "[1, 4, 2]\n",
      "[1, 4, 2, 3]\n",
      "[1, 5]\n",
      "[1, 5, 2]\n",
      "[1, 5, 2, 4]\n",
      "[1, 5, 2, 4, 3]\n"
     ]
    },
    {
     "data": {
      "text/plain": [
       "[([], ''),\n",
       " ([1], '1'),\n",
       " ([1, 2], '1->2'),\n",
       " ([1, 2, 3], '1->3->2'),\n",
       " ([1, 2, 3, 4], '1->4->2->3'),\n",
       " ([1, 2, 3, 4, 5], '1->5->2->4->3')]"
      ]
     },
     "execution_count": 51,
     "metadata": {},
     "output_type": "execute_result"
    }
   ],
   "source": [
    "# Definition for singly-linked list.\n",
    "class ListNode:\n",
    "    def __init__(self, val=0, next=None):\n",
    "        self.val = val\n",
    "        self.next = next\n",
    "        \n",
    "\n",
    "def lnlst_to_ln(lnlst):\n",
    "    if not lnlst: return None\n",
    "    lnlst = lnlst[::-1]\n",
    "    head = lnlst[0]\n",
    "    head.next = None\n",
    "    for el in lnlst[1:]:\n",
    "        el.next = head\n",
    "        head = el\n",
    "    return head\n",
    "\n",
    "def ln_to_lnlst(ln):\n",
    "    if not ln: return []\n",
    "    lst = [ln]\n",
    "    while ln.next:\n",
    "        ln = ln.next\n",
    "        lst.append(ln)\n",
    "    return lst\n",
    "\n",
    "def pr_lnlst(lnlst):\n",
    "    return '-'.join([str(el.val) for el in lnlst])\n",
    "\n",
    "def prnt(ln):\n",
    "    if not ln: return ''\n",
    "    lst = [ln.val]\n",
    "    while ln.next:\n",
    "        ln = ln.next\n",
    "        lst.append(ln.val)\n",
    "#         print(lst)\n",
    "    return '->'.join(map(str, lst))\n",
    "\n",
    "def reorder_lst(lst):\n",
    "    if not lst: return []\n",
    "    if len(lst) < 2: return lst\n",
    "    first, last = 0, len(lst)\n",
    "    new_lst = [lst[first]]\n",
    "    while True:\n",
    "        first, last = first+1, last-1\n",
    "        if first > last:\n",
    "            break\n",
    "        if first == last:\n",
    "            new_lst += [lst[first]]\n",
    "            break\n",
    "        new_lst += [lst[last], lst[first]]\n",
    "    return new_lst\n",
    "\n",
    "class Solution:\n",
    "    def reorderList(self, head: ListNode) -> None:\n",
    "        \"\"\"\n",
    "        Do not return anything, modify head in-place instead.\n",
    "        \"\"\"\n",
    "        # travers the Node list and save nodes in a list\n",
    "        return lnlst_to_ln(reorder_lst(ln_to_lnlst(head)))\n",
    "        \n",
    "\n",
    "ln = ListNode(0, ListNode(1, ListNode(2, ListNode(3))))\n",
    "# prnt(ln), ln_to_lst(ln), prnt(lst_to_ln(ln_to_lst(ln)))\n",
    "# prnt(ln), pr_lnlst(ln_to_lnlst(ln)), prnt(lnlst_to_ln(ln_to_lnlst(ln)))\n",
    "# [(lst, prnt(lnlst_to_ln(reorder_lst(ln_to_lnlst(lst_to_ln(lst)))))) for lst in [[], [1], [1,2], [1,2,3], [1,2,3,4], [1,2,3,4,5]]]\n",
    "solution = Solution()\n",
    "[(lst, prnt(solution.reorderList(lst_to_ln(lst)))) for lst in [[], [1], [1,2], [1,2,3], [1,2,3,4], [1,2,3,4,5]]]"
   ]
  },
  {
   "cell_type": "markdown",
   "metadata": {},
   "source": [
    "## Insertion Sort List\n",
    "https://leetcode.com/problems/insertion-sort-list/"
   ]
  },
  {
   "cell_type": "code",
   "execution_count": 55,
   "metadata": {
    "ExecuteTime": {
     "end_time": "2020-07-03T14:45:57.243486Z",
     "start_time": "2020-07-03T14:45:55.606560Z"
    }
   },
   "outputs": [
    {
     "data": {
      "text/plain": [
       "('0-1-2-3', '0-1-2-3')"
      ]
     },
     "execution_count": 55,
     "metadata": {},
     "output_type": "execute_result"
    }
   ],
   "source": [
    "# Definition for singly-linked list.\n",
    "class ListNode:\n",
    "    def __init__(self, val=0, next=None):\n",
    "        self.val = val\n",
    "        self.next = next\n",
    "        \n",
    "class Solution:\n",
    "    def insertionSortList(self, head: ListNode) -> ListNode:\n",
    "        pass\n",
    "\n",
    "def ln_to_lst(ln):\n",
    "    if not ln: return []\n",
    "    lst = [ln]\n",
    "    while ln.next:\n",
    "        ln = ln.next\n",
    "        lst.append(ln)\n",
    "    return lst\n",
    "\n",
    "def lst_to_ln(lst):\n",
    "    if not lst: return None\n",
    "    lst = lst[::-1]\n",
    "    head = lst[0]\n",
    "    head.next = None\n",
    "    for el in lst[1:]:\n",
    "        el.next = head\n",
    "        head = el\n",
    "    return head\n",
    "\n",
    "def prnt(ln):\n",
    "    return '-'.join([str(el.val) for el in ln_to_lst(ln)])\n",
    "\n",
    "def sort_insertion(lst):\n",
    "    if not lst or len(lst) < 2:\n",
    "        return lst\n",
    "    for i, el in enumerate(lst):\n",
    "        for \n",
    "        \n",
    "ln = ListNode(0, ListNode(1, ListNode(2, ListNode(3))))\n",
    "prnt(ln), prnt(lst_to_ln(ln_to_lst(ln)))"
   ]
  },
  {
   "cell_type": "code",
   "execution_count": 69,
   "metadata": {
    "ExecuteTime": {
     "end_time": "2020-07-03T15:02:23.504772Z",
     "start_time": "2020-07-03T15:02:23.491735Z"
    }
   },
   "outputs": [
    {
     "name": "stdout",
     "output_type": "stream",
     "text": [
      "1 : 0\n",
      "1 : 1\n",
      "0\n",
      "1 : 2\n",
      "1\n",
      "0\n",
      "1 : 3\n",
      "2\n",
      "1\n",
      "0\n",
      "1 : 4\n",
      "3\n",
      "2\n",
      "1\n",
      "0\n",
      "1 : 5\n",
      "4\n",
      "3\n",
      "2\n",
      "1\n",
      "0\n",
      "1 : 6\n",
      "5\n",
      "4\n",
      "3\n",
      "2\n",
      "1\n",
      "0\n"
     ]
    }
   ],
   "source": [
    "lst = list(range(7))\n",
    "for i, el_fwd in enumerate(lst):\n",
    "    print(1, \":\", el_fwd)\n",
    "    for j in range(i):\n",
    "        cur = lst[i-1-j]\n",
    "        print(cur)\n",
    "        if el_fwd < cur:\n",
    "            \n"
   ]
  },
  {
   "cell_type": "code",
   "execution_count": 67,
   "metadata": {
    "ExecuteTime": {
     "end_time": "2020-07-03T14:58:39.146549Z",
     "start_time": "2020-07-03T14:58:39.138548Z"
    }
   },
   "outputs": [
    {
     "name": "stdout",
     "output_type": "stream",
     "text": [
      "1 : 0\n",
      "6\n",
      "5\n",
      "4\n",
      "3\n",
      "2\n",
      "1\n",
      "1 : 1\n",
      "1 : 2\n",
      "1\n",
      "1 : 3\n",
      "2\n",
      "1\n",
      "1 : 4\n",
      "3\n",
      "2\n",
      "1\n",
      "1 : 5\n",
      "4\n",
      "3\n",
      "2\n",
      "1\n",
      "1 : 6\n",
      "5\n",
      "4\n",
      "3\n",
      "2\n",
      "1\n"
     ]
    }
   ],
   "source": [
    "lst = list(range(7))\n",
    "for i, el_fwd in enumerate(lst):\n",
    "    print(1, \":\", el_fwd)\n",
    "    for el_back in lst[i-1:0:-1]:\n",
    "        print(el_back)"
   ]
  },
  {
   "cell_type": "code",
   "execution_count": null,
   "metadata": {},
   "outputs": [],
   "source": []
  }
 ],
 "metadata": {
  "kernelspec": {
   "display_name": "Python 3",
   "language": "python",
   "name": "python3"
  },
  "language_info": {
   "codemirror_mode": {
    "name": "ipython",
    "version": 3
   },
   "file_extension": ".py",
   "mimetype": "text/x-python",
   "name": "python",
   "nbconvert_exporter": "python",
   "pygments_lexer": "ipython3",
   "version": "3.6.4"
  },
  "toc": {
   "base_numbering": 1,
   "nav_menu": {},
   "number_sections": true,
   "sideBar": true,
   "skip_h1_title": false,
   "title_cell": "Table of Contents",
   "title_sidebar": "Contents",
   "toc_cell": false,
   "toc_position": {},
   "toc_section_display": true,
   "toc_window_display": false
  }
 },
 "nbformat": 4,
 "nbformat_minor": 2
}
