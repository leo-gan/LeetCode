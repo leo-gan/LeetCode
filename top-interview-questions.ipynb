{
 "cells": [
  {
   "cell_type": "markdown",
   "metadata": {
    "heading_collapsed": true
   },
   "source": [
    "# longest-substring-without-repeating-characters\n",
    "https://leetcode.com/problems/longest-substring-without-repeating-characters/"
   ]
  },
  {
   "cell_type": "code",
   "execution_count": 42,
   "metadata": {
    "ExecuteTime": {
     "end_time": "2020-07-31T04:13:41.119388Z",
     "start_time": "2020-07-31T04:13:41.095434Z"
    },
    "code_folding": [],
    "hidden": true
   },
   "outputs": [
    {
     "name": "stdout",
     "output_type": "stream",
     "text": [
      "\"d\"    - inside \"dvdf\"\n",
      " \"dv\" - end cycle\n",
      "\"dv\"    - inside \"dvdf\"\n",
      "    \"dvd\" - max: 2\n",
      "  \"\" - dup shift\n",
      " \"v\" - end cycle\n",
      "\"v\"    - inside \"dvdf\"\n",
      " \"vd\" - end cycle\n",
      "\"vd\"    - inside \"dvdf\"\n",
      " \"vdf\" - end cycle\n",
      "    \"vdf\" - last max: 3\n",
      "RES \"vdf\" max: 3\n",
      "\n",
      "\"1\"    - inside \"123\"\n",
      " \"12\" - end cycle\n",
      "\"12\"    - inside \"123\"\n",
      " \"123\" - end cycle\n",
      "    \"123\" - last max: 3\n",
      "RES \"123\" max: 3\n",
      "\n",
      "\"a\"    - inside \"abcabcbb\"\n",
      " \"ab\" - end cycle\n",
      "\"ab\"    - inside \"abcabcbb\"\n",
      " \"abc\" - end cycle\n",
      "\"abc\"    - inside \"abcabcbb\"\n",
      "    \"abca\" - max: 3\n",
      "  \"\" - dup shift\n",
      " \"b\" - end cycle\n",
      "\"b\"    - inside \"abcabcbb\"\n",
      " \"bc\" - end cycle\n",
      "\"bc\"    - inside \"abcabcbb\"\n",
      " \"bca\" - end cycle\n",
      "\"bca\"    - inside \"abcabcbb\"\n",
      "  \"\" - dup shift\n",
      " \"c\" - end cycle\n",
      "\"c\"    - inside \"abcabcbb\"\n",
      " \"ca\" - end cycle\n",
      "\"ca\"    - inside \"abcabcbb\"\n",
      " \"cab\" - end cycle\n",
      "\"cab\"    - inside \"abcabcbb\"\n",
      "  \"\" - dup shift\n",
      " \"a\" - end cycle\n",
      "\"a\"    - inside \"abcabcbb\"\n",
      " \"ab\" - end cycle\n",
      "\"ab\"    - inside \"abcabcbb\"\n",
      " \"abc\" - end cycle\n",
      "\"abc\"    - inside \"abcabcbb\"\n",
      "  \"\" - dup shift\n",
      " \"c\" - end cycle\n",
      "\"c\"    - inside \"abcabcbb\"\n",
      " \"cb\" - end cycle\n",
      "\"cb\"    - inside \"abcabcbb\"\n",
      "  \"\" - dup shift\n",
      " \"b\" - end cycle\n",
      "RES \"b\" max: 3\n",
      "\n",
      "\"1\"    - inside \"11\"\n",
      "  \"\" - dup shift\n",
      " \"1\" - end cycle\n",
      "RES \"1\" max: 1\n",
      "\n",
      "\"1\"    - inside \"12\"\n",
      " \"12\" - end cycle\n",
      "    \"12\" - last max: 2\n",
      "RES \"12\" max: 2\n",
      "\n",
      "\"0\"    - inside \"012304566\"\n",
      " \"01\" - end cycle\n",
      "\"01\"    - inside \"012304566\"\n",
      " \"012\" - end cycle\n",
      "\"012\"    - inside \"012304566\"\n",
      " \"0123\" - end cycle\n",
      "\"0123\"    - inside \"012304566\"\n",
      "    \"01230\" - max: 4\n",
      "  \"\" - dup shift\n",
      " \"1\" - end cycle\n",
      "\"1\"    - inside \"012304566\"\n",
      " \"12\" - end cycle\n",
      "\"12\"    - inside \"012304566\"\n",
      " \"123\" - end cycle\n",
      "\"123\"    - inside \"012304566\"\n",
      " \"1230\" - end cycle\n",
      "\"1230\"    - inside \"012304566\"\n",
      " \"12304\" - end cycle\n",
      "\"12304\"    - inside \"012304566\"\n",
      " \"123045\" - end cycle\n",
      "\"123045\"    - inside \"012304566\"\n",
      " \"1230456\" - end cycle\n",
      "\"1230456\"    - inside \"012304566\"\n",
      "    \"12304566\" - max: 7\n",
      "  \"\" - dup shift\n",
      " \"6\" - end cycle\n",
      "RES \"6\" max: 7\n",
      "\n",
      "\"1\"    - inside \"1122233\"\n",
      "  \"\" - dup shift\n",
      " \"1\" - end cycle\n",
      "\"1\"    - inside \"1122233\"\n",
      " \"12\" - end cycle\n",
      "\"12\"    - inside \"1122233\"\n",
      "    \"122\" - max: 2\n",
      "  \"\" - dup shift\n",
      " \"2\" - end cycle\n",
      "\"2\"    - inside \"1122233\"\n",
      "  \"\" - dup shift\n",
      " \"2\" - end cycle\n",
      "\"2\"    - inside \"1122233\"\n",
      " \"23\" - end cycle\n",
      "\"23\"    - inside \"1122233\"\n",
      "  \"\" - dup shift\n",
      " \"3\" - end cycle\n",
      "RES \"3\" max: 2\n",
      "\n",
      "\"1\"    - inside \"12344\"\n",
      " \"12\" - end cycle\n",
      "\"12\"    - inside \"12344\"\n",
      " \"123\" - end cycle\n",
      "\"123\"    - inside \"12344\"\n",
      " \"1234\" - end cycle\n",
      "\"1234\"    - inside \"12344\"\n",
      "    \"12344\" - max: 4\n",
      "  \"\" - dup shift\n",
      " \"4\" - end cycle\n",
      "RES \"4\" max: 4\n",
      "\n",
      "\"1\"    - inside \"112344\"\n",
      "  \"\" - dup shift\n",
      " \"1\" - end cycle\n",
      "\"1\"    - inside \"112344\"\n",
      " \"12\" - end cycle\n",
      "\"12\"    - inside \"112344\"\n",
      " \"123\" - end cycle\n",
      "\"123\"    - inside \"112344\"\n",
      " \"1234\" - end cycle\n",
      "\"1234\"    - inside \"112344\"\n",
      "    \"12344\" - max: 4\n",
      "  \"\" - dup shift\n",
      " \"4\" - end cycle\n",
      "RES \"4\" max: 4\n",
      "\n"
     ]
    },
    {
     "data": {
      "text/plain": [
       "[True, True, True, True, True, True, True, True, True, True, True]"
      ]
     },
     "execution_count": 42,
     "metadata": {},
     "output_type": "execute_result"
    }
   ],
   "source": [
    "class Solution:\n",
    "    def lengthOfLongestSubstring(self, s: str) -> int:\n",
    "        if len(s) < 2: return len(s)\n",
    "        \n",
    "#         char_num = len(s)\n",
    "#         unique_char_num = len(set(s))\n",
    "#         if char_num == unique_char_num: return unique_char_num\n",
    "        \n",
    "        left_ix, cur_ix, max_sub = 0, 1, 1\n",
    "        while cur_ix < len(s):            \n",
    "#             print(f'\"{s[left_ix:cur_ix]}\"    - inside \"{s}\"')\n",
    "            if s[cur_ix] in s[left_ix:cur_ix]:\n",
    "                if cur_ix - left_ix > max_sub:\n",
    "                    max_sub = cur_ix - left_ix\n",
    "#                     print(f'    \"{s[left_ix:cur_ix+1]}\" - max: {max_sub}')\n",
    "                duplicate_ix = s[left_ix:cur_ix].find(s[cur_ix])\n",
    "#                 if duplicate_ix < 0:\n",
    "#                     print(f' Should never happen: \"{s[cur_ix]}\" not in \"{s[left_ix: cur_ix]}\"')\n",
    "#                     raise Exception(f' Should never happen: \"{s[cur_ix]}\" not in \"{s[left_ix: cur_ix]}\"')\n",
    "                left_ix += duplicate_ix+1\n",
    "                cur_ix = left_ix\n",
    "#                 print(f'  \"{s[left_ix:cur_ix]}\" - dup shift')\n",
    "            cur_ix += 1\n",
    "#             print(f' \"{s[left_ix:cur_ix]}\" - end cycle')\n",
    "        if cur_ix - left_ix > max_sub:\n",
    "            max_sub = cur_ix - left_ix\n",
    "#             print(f'    \"{s[left_ix:cur_ix+1]}\" - last max: {max_sub}')\n",
    "#         print(f'RES \"{s[left_ix:cur_ix]}\" max: {max_sub}\\n')\n",
    "        return max_sub\n",
    "\n",
    "sol = Solution()\n",
    "\n",
    "tsts = [(\"dvdf\", 'vdf'), ('123', '123'), (\"abcabcbb\", 'abc'), ('11', '1'), ('12', '12'), ('012304566', '1230456'), ('1122233', '12'), ('', ''), ('1', '1'), ('12344', '1234'), ('112344', '1234')]\n",
    "[(sol.lengthOfLongestSubstring(tst) == len(ans)) for tst, ans in tsts]"
   ]
  },
  {
   "cell_type": "code",
   "execution_count": 11,
   "metadata": {
    "ExecuteTime": {
     "end_time": "2020-07-29T21:09:45.116553Z",
     "start_time": "2020-07-29T21:09:45.111546Z"
    },
    "hidden": true
   },
   "outputs": [
    {
     "data": {
      "text/plain": [
       "'0'"
      ]
     },
     "execution_count": 11,
     "metadata": {},
     "output_type": "execute_result"
    }
   ],
   "source": [
    "'01'[0:1]"
   ]
  },
  {
   "cell_type": "code",
   "execution_count": 33,
   "metadata": {
    "ExecuteTime": {
     "end_time": "2020-07-31T03:59:53.223791Z",
     "start_time": "2020-07-31T03:59:53.198834Z"
    },
    "hidden": true
   },
   "outputs": [
    {
     "data": {
      "text/plain": [
       "{'1', '2', '3'}"
      ]
     },
     "execution_count": 33,
     "metadata": {},
     "output_type": "execute_result"
    }
   ],
   "source": [
    "set('122333')"
   ]
  },
  {
   "cell_type": "markdown",
   "metadata": {
    "heading_collapsed": true
   },
   "source": [
    "# Reverse Integers\n",
    "https://leetcode.com/problems/reverse-integer/"
   ]
  },
  {
   "cell_type": "code",
   "execution_count": 51,
   "metadata": {
    "ExecuteTime": {
     "end_time": "2020-07-31T04:36:42.466895Z",
     "start_time": "2020-07-31T04:36:42.458650Z"
    },
    "hidden": true
   },
   "outputs": [
    {
     "data": {
      "text/plain": [
       "[True, True, True, True, True, True, True]"
      ]
     },
     "execution_count": 51,
     "metadata": {},
     "output_type": "execute_result"
    }
   ],
   "source": [
    "class Solution:\n",
    "    def reverse(self, x: int) -> int:        \n",
    "        res = int(str(abs(x))[::-1])\n",
    "        if res > 2147483647 or res < -2147483648: return 0\n",
    "        return res if x >= 0 else -res\n",
    "    \n",
    "sol = Solution()\n",
    "\n",
    "tests = [(0,0), (11, 11), (12, 21), (-12, -21), (12344, 44321), (120, 21), (1534236469, 0)]\n",
    "[(sol.reverse(t) == s) for t, s in tests]"
   ]
  },
  {
   "cell_type": "code",
   "execution_count": 49,
   "metadata": {
    "ExecuteTime": {
     "end_time": "2020-07-31T04:32:44.732186Z",
     "start_time": "2020-07-31T04:32:44.728178Z"
    },
    "hidden": true
   },
   "outputs": [
    {
     "data": {
      "text/plain": [
       "2147483648.0"
      ]
     },
     "execution_count": 49,
     "metadata": {},
     "output_type": "execute_result"
    }
   ],
   "source": [
    "import math\n",
    "\n",
    "math.pow(2, 31)"
   ]
  },
  {
   "cell_type": "code",
   "execution_count": 52,
   "metadata": {
    "ExecuteTime": {
     "end_time": "2020-07-31T04:40:48.896292Z",
     "start_time": "2020-07-31T04:40:48.888281Z"
    },
    "hidden": true
   },
   "outputs": [
    {
     "ename": "NameError",
     "evalue": "name 'sign' is not defined",
     "output_type": "error",
     "traceback": [
      "\u001b[1;31m---------------------------------------------------------------------------\u001b[0m",
      "\u001b[1;31mNameError\u001b[0m                                 Traceback (most recent call last)",
      "\u001b[1;32m<ipython-input-52-44093fb42267>\u001b[0m in \u001b[0;36m<module>\u001b[1;34m\u001b[0m\n\u001b[0;32m      1\u001b[0m \u001b[0mx\u001b[0m \u001b[1;33m=\u001b[0m \u001b[1;33m-\u001b[0m\u001b[1;36m3\u001b[0m\u001b[1;33m\u001b[0m\u001b[1;33m\u001b[0m\u001b[0m\n\u001b[1;32m----> 2\u001b[1;33m \u001b[0msign\u001b[0m\u001b[1;33m(\u001b[0m\u001b[0mx\u001b[0m\u001b[1;33m)\u001b[0m\u001b[1;33m\u001b[0m\u001b[1;33m\u001b[0m\u001b[0m\n\u001b[0m",
      "\u001b[1;31mNameError\u001b[0m: name 'sign' is not defined"
     ]
    }
   ],
   "source": [
    "x = -3\n",
    "sign(x)"
   ]
  },
  {
   "cell_type": "markdown",
   "metadata": {
    "heading_collapsed": true
   },
   "source": [
    "# Roman to integer\n",
    "https://leetcode.com/problems/roman-to-integer/\n",
    "\n",
    "Input is guaranteed to be within the range from 1 to 3999\n",
    "\n",
    "Symbol       Value\n",
    "\n",
    "I             1 (1, 11, 111, 15, 5, 51, 511, 5111, 1 10) \n",
    "\n",
    "V             5\n",
    "\n",
    "X             10 (I, II, III, IV, V, VI, VI, VIII, IX, X)\n",
    "\n",
    "L             50\n",
    "\n",
    "C             100\n",
    "\n",
    "D             500\n",
    "\n",
    "M             1000\n",
    "\n",
    "MMM CM XC IX - 3000+900+90+9"
   ]
  },
  {
   "cell_type": "code",
   "execution_count": 62,
   "metadata": {
    "ExecuteTime": {
     "end_time": "2020-07-31T06:03:09.768319Z",
     "start_time": "2020-07-31T06:03:09.755306Z"
    },
    "hidden": true
   },
   "outputs": [
    {
     "data": {
      "text/plain": [
       "[]"
      ]
     },
     "execution_count": 62,
     "metadata": {},
     "output_type": "execute_result"
    }
   ],
   "source": [
    "class Solution:\n",
    "    def romanToInt(self, s: str) -> int:\n",
    "        sym2val = {'I': 1, 'V': 5, 'X': 10, 'L': 50, 'C': 100, 'D': 500, 'M': 1000}\n",
    "        total = 0\n",
    "        lookahead = 0\n",
    "        for i, c in enumerate(s):\n",
    "            if lookahead:\n",
    "                lookahead = 0\n",
    "                continue\n",
    "            if i+1 >= len(s):\n",
    "                return total + sym2val[c]\n",
    "            elif sym2val[c] >= sym2val[s[i+1]]:\n",
    "                total += sym2val[c]\n",
    "            else:\n",
    "                total += sym2val[s[i+1]] - sym2val[c]\n",
    "                lookahead = 1            \n",
    "        return  total\n",
    "\n",
    "sol = Solution()\n",
    "tests = [('I', 1), ('II',2),('III',3),('IV', 4),('V',5),('VI',6),('VII',7),('VIII',8),('IX',9),\n",
    "        ('X', 10), ('XX',20),('XXX',30),('XL',40),('L',50),('LX',60),('LXX',70),('LXXX',80),('XC',90),\n",
    "        ('MI', 1001), ('MXXIII',1023),('MCMXCIX', 1999),('MCCCXXXIII',1333),('MDLV', 1555),\n",
    "#         ('', ), ('',),('',),('',),('',),('',),('',),('',),('',),\n",
    "        ]\n",
    "[(sol.romanToInt(t), t) for t, r in tests if sol.romanToInt(t) != r]"
   ]
  },
  {
   "cell_type": "markdown",
   "metadata": {
    "heading_collapsed": true
   },
   "source": [
    "# Longest Common Prefix\n",
    "https://leetcode.com/problems/longest-common-prefix/"
   ]
  },
  {
   "cell_type": "code",
   "execution_count": 101,
   "metadata": {
    "ExecuteTime": {
     "end_time": "2020-07-31T16:38:25.880684Z",
     "start_time": "2020-07-31T16:38:25.868152Z"
    },
    "hidden": true
   },
   "outputs": [
    {
     "data": {
      "text/plain": [
       "[]"
      ]
     },
     "execution_count": 101,
     "metadata": {},
     "output_type": "execute_result"
    }
   ],
   "source": [
    "class Solution:\n",
    "    def longestCommonPrefix(self, strs) -> str:\n",
    "        if not strs or len(strs) < 1: return ''\n",
    "        \n",
    "        prefix = ''\n",
    "        for i in range(min(map(len, strs))):\n",
    "            if len(set(map(lambda s: s[i], strs))) == 1:\n",
    "                prefix = strs[0][0:i+1]\n",
    "            else:\n",
    "                break\n",
    "        return prefix\n",
    "    \n",
    "tests = [([\"aca\",\"cba\"], ''), ([], ''), (['', ], ''), (['', ''], ''), (['1', '2', '3'], ''), (['1','1' ], '1'), (['11', '12'], '1'), \n",
    "         (['111', '1122', '111133'], '11'), (['123', '12312', '123'], '123'),  (['123', '123', '123'], '123'), ]\n",
    "sol = Solution()\n",
    "[(t, sol.longestCommonPrefix(t)) for t, r in tests if sol.longestCommonPrefix(t) != r]"
   ]
  },
  {
   "cell_type": "code",
   "execution_count": 98,
   "metadata": {
    "ExecuteTime": {
     "end_time": "2020-07-31T16:37:20.027860Z",
     "start_time": "2020-07-31T16:37:20.018886Z"
    },
    "hidden": true
   },
   "outputs": [
    {
     "data": {
      "text/plain": [
       "[]"
      ]
     },
     "execution_count": 98,
     "metadata": {},
     "output_type": "execute_result"
    }
   ],
   "source": [
    "class Solution:\n",
    "    def longestCommonPrefix(self, strs) -> str:\n",
    "#         if not strs or len(strs) < 1: return ''\n",
    "        \n",
    "        prefix = ''\n",
    "        for letters in zip(*strs):\n",
    "            if len(set(letters)) != 1:\n",
    "                return prefix\n",
    "            prefix += letters[0]\n",
    "        return prefix\n",
    "        \n",
    "\n",
    "tests = [([\"aca\",\"cba\"], ''), ([], ''), (['', ], ''), (['', ''], ''), (['1', '2', '3'], ''), (['1','1' ], '1'), (['11', '12'], '1'), \n",
    "         (['111', '1122', '111133'], '11'), (['123', '12312', '123'], '123'),  (['123', '123', '123'], '123'), ]\n",
    "sol = Solution()\n",
    "[(t, sol.longestCommonPrefix(t)) for t, r in tests if sol.longestCommonPrefix(t) != r]"
   ]
  },
  {
   "cell_type": "code",
   "execution_count": 77,
   "metadata": {
    "ExecuteTime": {
     "end_time": "2020-07-31T16:11:49.708373Z",
     "start_time": "2020-07-31T16:11:49.705260Z"
    },
    "hidden": true
   },
   "outputs": [],
   "source": [
    "l = ['',]\n",
    "i = 1\n",
    "for i in list(range(min(map(len, l)))):\n",
    "    print(i)"
   ]
  },
  {
   "cell_type": "markdown",
   "metadata": {
    "heading_collapsed": true
   },
   "source": [
    "# Valid Parenthesis\n",
    "https://leetcode.com/problems/valid-parentheses/"
   ]
  },
  {
   "cell_type": "code",
   "execution_count": 118,
   "metadata": {
    "ExecuteTime": {
     "end_time": "2020-07-31T18:54:10.306390Z",
     "start_time": "2020-07-31T18:54:10.294945Z"
    },
    "code_folding": [],
    "hidden": true
   },
   "outputs": [
    {
     "data": {
      "text/plain": [
       "[]"
      ]
     },
     "execution_count": 118,
     "metadata": {},
     "output_type": "execute_result"
    }
   ],
   "source": [
    "class Solution:\n",
    "    def isValid(self, s: str) -> bool:\n",
    "        if not s: return True\n",
    "        if len(s)%2: return False\n",
    "        \n",
    "        pairs = ['()', '[]', '{}']\n",
    "        stack = []\n",
    "        for c in s:\n",
    "            for pair in pairs:\n",
    "                if c == pair[0]:\n",
    "                    stack.append(c)\n",
    "                elif c == pair[1]:\n",
    "                    if not stack:\n",
    "                        return False\n",
    "                    prev_c = stack.pop()\n",
    "                    if prev_c != pair[0]:\n",
    "                        return False\n",
    "        return True if not stack else False\n",
    "        \n",
    "        \n",
    "    \n",
    "tests = [('', True), ('[]', True), ('{}', True), ('()', True), ('[', False), ('[(', False), \n",
    "        ('[({})]', True), ('{{}}', True), ('({[})', False), ('((())', False), ('())', False),]\n",
    "sol = Solution()\n",
    "[(t, sol.isValid(t)) for t, r in tests if r != sol.isValid(t)]"
   ]
  },
  {
   "cell_type": "markdown",
   "metadata": {
    "heading_collapsed": true
   },
   "source": [
    "# Remove Duplicates from Sorted Array\n",
    "https://leetcode.com/problems/remove-duplicates-from-sorted-array/"
   ]
  },
  {
   "cell_type": "code",
   "execution_count": 121,
   "metadata": {
    "ExecuteTime": {
     "end_time": "2020-07-31T21:04:46.794658Z",
     "start_time": "2020-07-31T21:04:46.786639Z"
    },
    "hidden": true
   },
   "outputs": [
    {
     "data": {
      "text/plain": [
       "[]"
      ]
     },
     "execution_count": 121,
     "metadata": {},
     "output_type": "execute_result"
    }
   ],
   "source": [
    "class Solution:\n",
    "    def removeDuplicates(self, nums) -> int:\n",
    "        nums = sorted(list(set(nums)))\n",
    "        return len(nums)\n",
    "    \n",
    "tests = [([], 0), ([1], 1), ([1,2,3], 3), ([1,1,2], 2), ([1,2,2], 2), ([1,2,2,3], 3), ([1,1,2,2,3,3], 3)]\n",
    "sol = Solution()\n",
    "[(t, sol.removeDuplicates(t)) for t, res in tests if sol.removeDuplicates(t) != res]\n",
    "        "
   ]
  },
  {
   "cell_type": "code",
   "execution_count": 127,
   "metadata": {
    "ExecuteTime": {
     "end_time": "2020-07-31T21:16:20.312480Z",
     "start_time": "2020-07-31T21:16:20.302492Z"
    },
    "hidden": true
   },
   "outputs": [
    {
     "data": {
      "text/plain": [
       "[]"
      ]
     },
     "execution_count": 127,
     "metadata": {},
     "output_type": "execute_result"
    }
   ],
   "source": [
    "class Solution:\n",
    "    def removeDuplicates(self, nums) -> int:\n",
    "        if len(nums) < 2: return len(nums)\n",
    "        left_ix = 0\n",
    "        for cur in nums[1:]:\n",
    "            if cur != nums[left_ix]:\n",
    "                left_ix += 1\n",
    "                nums[left_ix] = cur\n",
    "        return left_ix+1\n",
    "    \n",
    "tests = [([], 0), ([1], 1), ([1,2,3], 3), ([1,1,2], 2), ([1,2,2], 2), ([1,2,2,3], 3), ([1,1,2,2,3,3], 3)]\n",
    "sol = Solution()\n",
    "[(t, sol.removeDuplicates(t)) for t, res in tests if sol.removeDuplicates(t) != res]"
   ]
  },
  {
   "cell_type": "code",
   "execution_count": 130,
   "metadata": {
    "ExecuteTime": {
     "end_time": "2020-07-31T21:30:48.819937Z",
     "start_time": "2020-07-31T21:30:48.810766Z"
    },
    "hidden": true
   },
   "outputs": [
    {
     "data": {
      "text/plain": [
       "[]"
      ]
     },
     "execution_count": 130,
     "metadata": {},
     "output_type": "execute_result"
    }
   ],
   "source": [
    "class Solution:\n",
    "    def removeDuplicates(self, nums) -> int:\n",
    "        ix = 0\n",
    "        while True:\n",
    "            if len(nums) <= ix+1: break\n",
    "            if nums[ix] == nums[ix+1]:\n",
    "                nums.pop(ix+1)\n",
    "            else:\n",
    "                ix += 1\n",
    "        return len(nums)\n",
    "    \n",
    "tests = [([], 0), ([1], 1), ([1,2,3], 3), ([1,1,2], 2), ([1,2,2], 2), ([1,2,2,3], 3), ([1,1,2,2,3,3], 3)]\n",
    "sol = Solution()\n",
    "[(t, sol.removeDuplicates(t)) for t, res in tests if sol.removeDuplicates(t) != res]"
   ]
  },
  {
   "cell_type": "markdown",
   "metadata": {
    "heading_collapsed": true
   },
   "source": [
    "# Implement strStr\n",
    "https://leetcode.com/problems/implement-strstr/"
   ]
  },
  {
   "cell_type": "code",
   "execution_count": 142,
   "metadata": {
    "ExecuteTime": {
     "end_time": "2020-07-31T22:26:27.255563Z",
     "start_time": "2020-07-31T22:26:27.245177Z"
    },
    "hidden": true
   },
   "outputs": [
    {
     "data": {
      "text/plain": [
       "[]"
      ]
     },
     "execution_count": 142,
     "metadata": {},
     "output_type": "execute_result"
    }
   ],
   "source": [
    "class Solution:\n",
    "    def strStr(self, haystack: str, needle: str) -> int:\n",
    "        return haystack.find(needle)\n",
    "    \n",
    "tests = [('', '', 0), ('', '1', -1), ('1', '', 0), ('1', '1', 0), ('123', '2', 1), ('123', '3', 2), \n",
    "        ('1123', '2', 2), ('1123', '1', 0), ('12333', '3', 2),('12333', '4', -1), ]\n",
    "sol = Solution()\n",
    "[(h, n, sol.strStr(h, n)) for h, n, r in tests if sol.strStr(h, n) != r]"
   ]
  },
  {
   "cell_type": "code",
   "execution_count": 141,
   "metadata": {
    "ExecuteTime": {
     "end_time": "2020-07-31T22:26:14.050938Z",
     "start_time": "2020-07-31T22:26:14.045952Z"
    },
    "hidden": true
   },
   "outputs": [
    {
     "data": {
      "text/plain": [
       "0"
      ]
     },
     "execution_count": 141,
     "metadata": {},
     "output_type": "execute_result"
    }
   ],
   "source": [
    "'asd'.find('')"
   ]
  },
  {
   "cell_type": "markdown",
   "metadata": {},
   "source": [
    "# Count and Say\n",
    "https://leetcode.com/problems/count-and-say/\n",
    "\n",
    "Stupid!"
   ]
  },
  {
   "cell_type": "markdown",
   "metadata": {
    "heading_collapsed": true
   },
   "source": [
    "# Maximum Subarray\n",
    "https://leetcode.com/problems/maximum-subarray/"
   ]
  },
  {
   "cell_type": "code",
   "execution_count": 148,
   "metadata": {
    "ExecuteTime": {
     "end_time": "2020-07-31T23:25:55.072913Z",
     "start_time": "2020-07-31T23:25:55.062899Z"
    },
    "hidden": true
   },
   "outputs": [
    {
     "data": {
      "text/plain": [
       "[]"
      ]
     },
     "execution_count": 148,
     "metadata": {},
     "output_type": "execute_result"
    }
   ],
   "source": [
    "from functools import reduce\n",
    "\n",
    "class Solution:\n",
    "    def maxSubArray(self, nums: list) -> int:\n",
    "        if not nums: return 0\n",
    "        max_sum = cur_sum = nums[0]\n",
    "        for el in nums[1:]:\n",
    "            cur_sum = max(el, cur_sum+el)\n",
    "            max_sum = max(max_sum, cur_sum)\n",
    "        return max_sum\n",
    "    \n",
    "tests = [([], 0), ([1], 1), ([1,1], 2), ([-1, 1], 1), ([-1,1,-1], 1), ([-1,1,1,-1], 2), ([-1,1,-1,1], 1), ([-1,1,-1,1,-1], 1), \n",
    "       ([1,2,-2, 1], 3), ([1,2, 0, -1, 2], 4), ]\n",
    "sol = Solution()\n",
    "[(t, sol.maxSubArray(t)) for t, res in tests if sol.maxSubArray(t) != res]\n"
   ]
  },
  {
   "cell_type": "code",
   "execution_count": 150,
   "metadata": {
    "ExecuteTime": {
     "end_time": "2020-07-31T23:48:18.781922Z",
     "start_time": "2020-07-31T23:48:18.776950Z"
    },
    "hidden": true
   },
   "outputs": [
    {
     "data": {
      "text/plain": [
       "4"
      ]
     },
     "execution_count": 150,
     "metadata": {},
     "output_type": "execute_result"
    }
   ],
   "source": [
    "from functools import reduce\n",
    "reduce(max, [1,2,3,4])"
   ]
  },
  {
   "cell_type": "markdown",
   "metadata": {
    "heading_collapsed": true
   },
   "source": [
    "# Plus One\n",
    "https://leetcode.com/problems/plus-one/"
   ]
  },
  {
   "cell_type": "code",
   "execution_count": 156,
   "metadata": {
    "ExecuteTime": {
     "end_time": "2020-08-01T00:03:53.801840Z",
     "start_time": "2020-08-01T00:03:53.792847Z"
    },
    "hidden": true
   },
   "outputs": [
    {
     "data": {
      "text/plain": [
       "[]"
      ]
     },
     "execution_count": 156,
     "metadata": {},
     "output_type": "execute_result"
    }
   ],
   "source": [
    "class Solution:\n",
    "    def plusOne(self, digits: list) -> list:\n",
    "        if not digits: return digits\n",
    "        return [int(el) for el in str(int(''.join([str(ss) for ss in digits]))+1)]\n",
    "\n",
    "tests = [([0], [1]), ([1], [2]), ([9], [1, 0]), ([1,0], [1, 1]), ([1,9], [2, 0]), \n",
    "         ([0, 1, 2, 3, 4, 5, 6, 7, 8, 9], [1, 2,3,4,5,6,7,9, 0]),\n",
    "        ([9,9,9], [1,0,0,0])]\n",
    "sol = Solution()\n",
    "[(t, res, sol.plusOne(t)) for t, res in tests if sol.plusOne(t) != res]"
   ]
  },
  {
   "cell_type": "markdown",
   "metadata": {
    "heading_collapsed": true
   },
   "source": [
    "# Sqrt(x)\n",
    "https://leetcode.com/problems/sqrtx/"
   ]
  },
  {
   "cell_type": "code",
   "execution_count": 159,
   "metadata": {
    "ExecuteTime": {
     "end_time": "2020-08-03T02:09:14.302393Z",
     "start_time": "2020-08-03T02:09:14.296444Z"
    },
    "hidden": true
   },
   "outputs": [
    {
     "data": {
      "text/plain": [
       "2"
      ]
     },
     "execution_count": 159,
     "metadata": {},
     "output_type": "execute_result"
    }
   ],
   "source": [
    "import math\n",
    "\n",
    "class Solution:\n",
    "    def mySqrt(self, x: int) -> int:\n",
    "        return int(math.sqrt(x))\n",
    "\n",
    "sol = Solution()\n",
    "sol.mySqrt(5)"
   ]
  },
  {
   "cell_type": "markdown",
   "metadata": {
    "heading_collapsed": true
   },
   "source": [
    "# Climbing Stairs\n",
    "https://leetcode.com/problems/climbing-stairs/"
   ]
  },
  {
   "cell_type": "code",
   "execution_count": 222,
   "metadata": {
    "ExecuteTime": {
     "end_time": "2020-08-03T03:16:59.025284Z",
     "start_time": "2020-08-03T03:16:59.018303Z"
    },
    "hidden": true
   },
   "outputs": [
    {
     "data": {
      "text/plain": [
       "[]"
      ]
     },
     "execution_count": 222,
     "metadata": {},
     "output_type": "execute_result"
    }
   ],
   "source": [
    "from math import sqrt\n",
    "\n",
    "class Solution:\n",
    "    def climbStairs(self, n: int) -> int:\n",
    "        return round((0.5+sqrt(5)/2)**(n+1)/sqrt(5))\n",
    "    \n",
    "sol = Solution()\n",
    "tests = [(1,1), (2, 2), (3,3), (4,5), (5,8)]\n",
    "[(t, sol.climbStairs(t), r) for t, r in tests if sol.climbStairs(t) != r]"
   ]
  },
  {
   "cell_type": "code",
   "execution_count": 232,
   "metadata": {
    "ExecuteTime": {
     "end_time": "2020-08-03T03:30:27.730349Z",
     "start_time": "2020-08-03T03:30:27.721365Z"
    },
    "hidden": true
   },
   "outputs": [
    {
     "data": {
      "text/plain": [
       "[]"
      ]
     },
     "execution_count": 232,
     "metadata": {},
     "output_type": "execute_result"
    }
   ],
   "source": [
    "from itertools import combinations\n",
    "\n",
    "class Solution:\n",
    "    def climbStairs(self, n: int) -> int:\n",
    "        return (4 << n*(3+n)) // ((4 << 2*n) - (2 << n) - 1) & ((2 << n) - 1)\n",
    "    \n",
    "sol = Solution()\n",
    "tests = [(1,1), (2, 2), (3,3), (4,5), (5,8)]\n",
    "[(t, sol.climbStairs(t), r) for t, r in tests if sol.climbStairs(t) != r]"
   ]
  },
  {
   "cell_type": "code",
   "execution_count": 183,
   "metadata": {
    "ExecuteTime": {
     "end_time": "2020-08-03T02:46:58.206740Z",
     "start_time": "2020-08-03T02:46:58.200714Z"
    },
    "hidden": true
   },
   "outputs": [
    {
     "data": {
      "text/plain": [
       "[(1, 2, 1), (2, 1, 1), (1, 1, 2)]"
      ]
     },
     "execution_count": 183,
     "metadata": {},
     "output_type": "execute_result"
    }
   ],
   "source": [
    "lst = [1,1,2]\n",
    "[i for i in set(permutations(lst, len(lst)))]"
   ]
  },
  {
   "cell_type": "markdown",
   "metadata": {
    "heading_collapsed": true
   },
   "source": [
    "# Find Winner on a Tic-Tac-Toe game\n",
    "https://leetcode.com/problems/find-winner-on-a-tic-tac-toe-game/"
   ]
  },
  {
   "cell_type": "code",
   "execution_count": 260,
   "metadata": {
    "ExecuteTime": {
     "end_time": "2020-08-05T01:58:50.275933Z",
     "start_time": "2020-08-05T01:58:50.250003Z"
    },
    "hidden": true
   },
   "outputs": [
    {
     "data": {
      "text/plain": [
       "[]"
      ]
     },
     "execution_count": 260,
     "metadata": {},
     "output_type": "execute_result"
    }
   ],
   "source": [
    "class Solution:\n",
    "    def __init__(self):\n",
    "        self.board = [[0,0,0], [0,0,0], [0,0,0]]\n",
    "        self.players = [{'name': 'A', 'val': 1}, {'name': 'B', 'val': -1}, ]\n",
    "        \n",
    "    def tictactoe(self, moves) -> str:\n",
    "        self.__init__()\n",
    "        for i, move in enumerate(moves):            \n",
    "            self.do_move(i%2, move)\n",
    "            res = self.find_winner()\n",
    "#             self.print()\n",
    "            if res: return res\n",
    "#         self.print()\n",
    "        return 'Draw' if len(moves) == 9 else 'Pending'\n",
    "    \n",
    "    def do_move(self, player_ix, move):\n",
    "        self.board[move[0]][move[1]] = self.players[player_ix]['val']\n",
    "    \n",
    "    def find_winner(self):\n",
    "        checked_dimensions = [\n",
    "            [[0,0],[0,1],[0,2]], [[1,0],[1,1],[1,2]], [[2,0],[2,1],[2,2]], \n",
    "            [[0,0],[1,0],[2,0]], [[0,1],[1,1],[2,1]], [[0,2],[1,2],[2,2]],  \n",
    "            [[0,0],[1,1],[2,2]],  [[2,0],[1,1],[0,2]]\n",
    "        ]\n",
    "        sums = [sum(self.board[el[0]][el[1]] for el in dim) for dim in checked_dimensions]\n",
    "#         print(sums)\n",
    "        if 3 in sums:\n",
    "            return self.players[0]['name']\n",
    "        elif -3 in sums:\n",
    "            return self.players[1]['name']\n",
    "        else:\n",
    "            return None\n",
    "    \n",
    "    def print(self):\n",
    "        val = {0: '-', 1: 'X', -1: 'O'}\n",
    "        print()\n",
    "        for line in self.board:\n",
    "            [print(f'{val[line[0]]} {val[line[1]]} {val[line[2]]}')]\n",
    "            \n",
    "sol = Solution()\n",
    "# sol.print()\n",
    "\n",
    "tests = [\n",
    "    ([[0,0],[2,0],[1,1],[2,1],[2,2]], 'A'), \n",
    "         ([[0,0],[1,1],[0,1],[0,2],[1,0],[2,0]], 'B'), \n",
    "         ([[0,0],[1,1],[2,0],[1,0],[1,2],[2,1],[0,1],[0,2],[2,2]], 'Draw'),\n",
    "         ([[0,0],[1,1],[2,0],[1,0],[1,2],[2,1],[0,1],[0,2]], 'Pending'),\n",
    "        ]\n",
    "\n",
    "[(t, sol.tictactoe(t), res) for t, res in tests if sol.tictactoe(t) != res]"
   ]
  },
  {
   "cell_type": "markdown",
   "metadata": {
    "heading_collapsed": true
   },
   "source": [
    "# Toeplitx Matrix\n",
    "https://leetcode.com/problems/toeplitz-matrix/"
   ]
  },
  {
   "cell_type": "code",
   "execution_count": 278,
   "metadata": {
    "ExecuteTime": {
     "end_time": "2020-08-05T22:22:27.604842Z",
     "start_time": "2020-08-05T22:22:27.577615Z"
    },
    "hidden": true
   },
   "outputs": [
    {
     "name": "stdout",
     "output_type": "stream",
     "text": [
      "\n",
      " [[1], [2]]\n",
      "  arg True\n",
      "\n",
      " [[1, 2], [1, 1]]\n",
      "[1, 2]\n",
      "[1]\n",
      "[1]\n",
      "True\n",
      "\n",
      " [[1, 2], [2, 1], [3, 2]]\n",
      "[1, 2]\n",
      "[1]\n",
      "[1]\n",
      "[2, 1]\n",
      "[2]\n",
      "[2]\n",
      "True\n",
      "\n",
      " [[1, 2, 3, 4], [2, 2, 3, 4]]\n",
      "[1, 2, 3, 4]\n",
      "[1, 2, 3]\n",
      "[2, 3, 4]\n",
      "False\n",
      "\n",
      " [[1, 2, 3, 4], [2, 3, 3, 4]]\n",
      "[1, 2, 3, 4]\n",
      "[1, 2, 3]\n",
      "[3, 3, 4]\n",
      "False\n",
      "\n",
      " [[1, 2, 3, 4], [2, 2, 3, 4]]\n",
      "[1, 2, 3, 4]\n",
      "[1, 2, 3]\n",
      "[2, 3, 4]\n",
      "False\n"
     ]
    },
    {
     "data": {
      "text/plain": [
       "[]"
      ]
     },
     "execution_count": 278,
     "metadata": {},
     "output_type": "execute_result"
    }
   ],
   "source": [
    "class Solution:\n",
    "    def isToeplitzMatrix(self, matrix) -> bool:\n",
    "        print('\\n', matrix)\n",
    "        if min(len(matrix), len(matrix[0])) < 2: \n",
    "            print('  arg True')\n",
    "            return True\n",
    "        row_size = len(matrix[0])\n",
    "        for i, row in enumerate(matrix[:-1]):\n",
    "            print(row)\n",
    "            print(matrix[i][:-1])\n",
    "            print(matrix[i+1][1:])\n",
    "            if matrix[i][:-1] != matrix[i+1][1:]:\n",
    "                print(False)\n",
    "                return False\n",
    "        print(True)\n",
    "        return True\n",
    "    \n",
    "tests = [\n",
    "    ([[1], [2]], True), ([[1, 2], [1, 1]], True),  ([[1, 2], [2, 1], [3,2]], True), \n",
    "    ([[1, 2,3,4], [2,2,3,4]], False), ([[1,2,3,4], [2,3,3, 4]], False), ([[1,2,3,4], [2,2,3,4]], False), \n",
    "]\n",
    "\n",
    "sol = Solution()\n",
    "[(t, res, sol.isToeplitzMatrix(t)) for t, res in tests if sol.isToeplitzMatrix(t) != res]"
   ]
  },
  {
   "cell_type": "code",
   "execution_count": 269,
   "metadata": {
    "ExecuteTime": {
     "end_time": "2020-08-05T22:08:37.822848Z",
     "start_time": "2020-08-05T22:08:37.816832Z"
    },
    "hidden": true
   },
   "outputs": [
    {
     "data": {
      "text/plain": [
       "(False, 0)"
      ]
     },
     "execution_count": 269,
     "metadata": {},
     "output_type": "execute_result"
    }
   ],
   "source": [
    "[1,2,3] == [1,2], len([])"
   ]
  },
  {
   "cell_type": "markdown",
   "metadata": {},
   "source": [
    "# Merge Sorted Arrays\n",
    "https://leetcode.com/problems/merge-sorted-array/"
   ]
  },
  {
   "cell_type": "code",
   "execution_count": 297,
   "metadata": {
    "ExecuteTime": {
     "end_time": "2020-08-05T23:36:42.783689Z",
     "start_time": "2020-08-05T23:36:42.764759Z"
    }
   },
   "outputs": [
    {
     "name": "stdout",
     "output_type": "stream",
     "text": [
      "\n",
      " [] 0 [] 0\n",
      "Border: []\n",
      "\n",
      " [1] 1 [] 0\n",
      "Border: [1]\n",
      "\n",
      " [0] 0 [1] 1\n",
      "Border: [1]\n",
      "\n",
      " [1, 11] 2 [] 0\n",
      "Border: [1, 11]\n",
      "\n",
      " [0, 0] 0 [2, 22] 2\n",
      "Border: [2, 22]\n",
      "\n",
      " [1, 2, 0, 0] 2 [3, 4] 2\n",
      "cur_s: 3, cur_1: 1, cur_2: 1\n",
      "  [1, 2, 0, 4] :: cur_s: 2, cur_1: 1, cur_2: 0\n",
      "  [1, 2, 3, 4] :: cur_s: 1, cur_1: 1, cur_2: -1\n",
      "cur_1 > 0 :: [1, 2] <- [2, 3]\n",
      "\n",
      " [1, 4, 0, 0] 2 [2, 3] 2\n",
      "cur_s: 3, cur_1: 1, cur_2: 1\n",
      "  [1, 4, 0, 4] :: cur_s: 2, cur_1: 0, cur_2: 1\n",
      "  [1, 4, 3, 4] :: cur_s: 1, cur_1: 0, cur_2: 0\n",
      "  [1, 2, 3, 4] :: cur_s: 0, cur_1: 0, cur_2: -1\n",
      "cur_1 > 0 :: [1] <- [1]\n",
      "\n",
      " [1, 3, 0, 0] 2 [2, 4] 2\n",
      "cur_s: 3, cur_1: 1, cur_2: 1\n",
      "  [1, 3, 0, 4] :: cur_s: 2, cur_1: 1, cur_2: 0\n",
      "  [1, 3, 3, 4] :: cur_s: 1, cur_1: 0, cur_2: 0\n",
      "  [1, 2, 3, 4] :: cur_s: 0, cur_1: 0, cur_2: -1\n",
      "cur_1 > 0 :: [1] <- [1]\n",
      "\n",
      " [2, 4, 5, 0, 0, 0] 3 [1, 3, 6] 3\n",
      "cur_s: 5, cur_1: 2, cur_2: 2\n",
      "  [2, 4, 5, 0, 0, 6] :: cur_s: 4, cur_1: 2, cur_2: 1\n",
      "  [2, 4, 5, 0, 5, 6] :: cur_s: 3, cur_1: 1, cur_2: 1\n",
      "  [2, 4, 5, 4, 5, 6] :: cur_s: 2, cur_1: 0, cur_2: 1\n",
      "  [2, 4, 3, 4, 5, 6] :: cur_s: 1, cur_1: 0, cur_2: 0\n",
      "  [2, 2, 3, 4, 5, 6] :: cur_s: 0, cur_1: -1, cur_2: 0\n",
      "cur_2 > 0 :: [2] <- [1]\n"
     ]
    },
    {
     "data": {
      "text/plain": [
       "[]"
      ]
     },
     "execution_count": 297,
     "metadata": {},
     "output_type": "execute_result"
    }
   ],
   "source": [
    "class Solution:\n",
    "    def merge(self, nums1, m: int, nums2, n: int) -> None:\n",
    "        \"\"\"\n",
    "        Do not return anything, modify nums1 in-place instead.\n",
    "        \"\"\"\n",
    "        print('\\n', nums1, m, nums2, n)\n",
    "        len_1, len_2 = m, n\n",
    "        if len_1 == 0 or len_2 == 0:\n",
    "            nums1 = nums1[:m] + nums2\n",
    "            print('Border:', nums1)\n",
    "            return nums1\n",
    "        len_s = len_1 + len_2\n",
    "#         nums1 += [0]*len_2\n",
    "        cur_1, cur_2, cur_s = len_1 - 1, len_2 - 1, len_s - 1\n",
    "        print(f'cur_s: {cur_s}, cur_1: {cur_1}, cur_2: {cur_2}')\n",
    "        while cur_1 >= 0 and cur_2 >= 0:\n",
    "            if nums1[cur_1] >= nums2[cur_2]:\n",
    "                nums1[cur_s] = nums1[cur_1]\n",
    "                cur_1 -= 1\n",
    "            else:\n",
    "                nums1[cur_s] = nums2[cur_2]\n",
    "                cur_2 -= 1\n",
    "            cur_s -= 1\n",
    "            print(f'  {nums1} :: cur_s: {cur_s}, cur_1: {cur_1}, cur_2: {cur_2}')\n",
    "        if cur_1 >= 0:\n",
    "            print(f'cur_1 > 0 :: {nums1[:cur_s+1]} <- {nums1[cur_1:cur_1+cur_s+1]}')\n",
    "#             nums1[:cur_s+1] = nums1[cur_1:cur_1+cur_s+1]\n",
    "        elif cur_2 >= 0:\n",
    "            print(f'cur_2 > 0 :: {nums1[:cur_s+1]} <- {nums2[cur_2:cur_2+cur_s+1]}')\n",
    "            nums1[:cur_s+1] = nums2[cur_2:cur_2+cur_s+1]\n",
    "        return nums1\n",
    "            \n",
    "        \n",
    "tests = [([], [], []), ([1], [], [1]), ([], [1], [1]), ([1, 11], [], [1, 11]), ([], [2, 22], [2, 22]), \n",
    "        ([1, 2], [3, 4], [1,2,3,4]), ([1, 4], [2,3], [1,2,3,4]), ([1,3], [2,4], [1,2,3,4]), \n",
    "         ([2,4,5], [1,3,6], [1,2,3,4,5,6]), ]        \n",
    "sol = Solution()\n",
    "[((m1,m2), sol.merge(m1+[0]*len(m2), len(m1), m2, len(m2)), res) for m1, m2, res in tests \n",
    " if sol.merge(m1+[0]*len(m2), len(m1), m2, len(m2)) != res]"
   ]
  },
  {
   "cell_type": "code",
   "execution_count": 301,
   "metadata": {
    "ExecuteTime": {
     "end_time": "2020-08-06T01:01:52.991408Z",
     "start_time": "2020-08-06T01:01:52.975424Z"
    }
   },
   "outputs": [
    {
     "name": "stdout",
     "output_type": "stream",
     "text": [
      "\n",
      " [] 0 [] 0\n",
      "\n",
      " [1] 1 [] 0\n",
      "\n",
      " [0] 0 [1] 1\n",
      "\n",
      " [1, 11] 2 [] 0\n",
      "\n",
      " [0, 0] 0 [2, 22] 2\n",
      "\n",
      " [1, 2, 0, 0] 2 [3, 4] 2\n",
      "\n",
      " [1, 4, 0, 0] 2 [2, 3] 2\n",
      "\n",
      " [1, 3, 0, 0] 2 [2, 4] 2\n",
      "\n",
      " [2, 4, 5, 0, 0, 0] 3 [1, 3, 6] 3\n"
     ]
    },
    {
     "data": {
      "text/plain": [
       "[]"
      ]
     },
     "execution_count": 301,
     "metadata": {},
     "output_type": "execute_result"
    }
   ],
   "source": [
    "class Solution:\n",
    "    def merge(self, nums1, m: int, nums2, n: int) -> None:\n",
    "        \"\"\"\n",
    "        Do not return anything, modify nums1 in-place instead.\n",
    "        \"\"\"\n",
    "        print('\\n', nums1, m, nums2, n)\n",
    "        if nums2: nums1[-n:] = nums2\n",
    "        nums1.sort()\n",
    "        return nums1\n",
    "            \n",
    "        \n",
    "tests = [([], [], []), ([1], [], [1]), ([], [1], [1]), ([1, 11], [], [1, 11]), ([], [2, 22], [2, 22]), \n",
    "        ([1, 2], [3, 4], [1,2,3,4]), ([1, 4], [2,3], [1,2,3,4]), ([1,3], [2,4], [1,2,3,4]), \n",
    "         ([2,4,5], [1,3,6], [1,2,3,4,5,6]), ]        \n",
    "sol = Solution()\n",
    "[((m1,m2), sol.merge(m1+[0]*len(m2), len(m1), m2, len(m2)), res) for m1, m2, res in tests \n",
    " if sol.merge(m1+[0]*len(m2), len(m1), m2, len(m2)) != res]"
   ]
  },
  {
   "cell_type": "code",
   "execution_count": null,
   "metadata": {},
   "outputs": [],
   "source": []
  }
 ],
 "metadata": {
  "kernelspec": {
   "display_name": "Python 3",
   "language": "python",
   "name": "python3"
  },
  "language_info": {
   "codemirror_mode": {
    "name": "ipython",
    "version": 3
   },
   "file_extension": ".py",
   "mimetype": "text/x-python",
   "name": "python",
   "nbconvert_exporter": "python",
   "pygments_lexer": "ipython3",
   "version": "3.6.4"
  },
  "toc": {
   "base_numbering": 1,
   "nav_menu": {},
   "number_sections": true,
   "sideBar": true,
   "skip_h1_title": false,
   "title_cell": "Table of Contents",
   "title_sidebar": "Contents",
   "toc_cell": false,
   "toc_position": {},
   "toc_section_display": true,
   "toc_window_display": false
  }
 },
 "nbformat": 4,
 "nbformat_minor": 4
}
