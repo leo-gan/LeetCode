{
 "cells": [
  {
   "cell_type": "markdown",
   "metadata": {
    "heading_collapsed": true
   },
   "source": [
    "# Same Tree\n",
    "https://leetcode.com/problems/same-tree/"
   ]
  },
  {
   "cell_type": "code",
   "execution_count": 9,
   "metadata": {
    "ExecuteTime": {
     "end_time": "2020-08-07T04:23:35.072710Z",
     "start_time": "2020-08-07T04:23:35.057745Z"
    },
    "hidden": true
   },
   "outputs": [
    {
     "name": "stdout",
     "output_type": "stream",
     "text": [
      "0 - 0\n",
      "TRUE:  not p and not q\n",
      "TRUE:  not p and not q\n",
      "0 - 0\n",
      "1 - 1\n",
      "TRUE:  not p and not q\n",
      "TRUE:  not p and not q\n",
      "TRUE:  not p and not q\n",
      "0 - 0\n",
      "FALSE:  not p or not q\n",
      "0 - 0\n",
      "1 - 1\n",
      "TRUE:  not p and not q\n",
      "TRUE:  not p and not q\n",
      "2 - 2\n",
      "TRUE:  not p and not q\n",
      "TRUE:  not p and not q\n",
      "0 - 0\n",
      "FALSE:  p.val != q.val\n"
     ]
    },
    {
     "data": {
      "text/plain": [
       "[]"
      ]
     },
     "execution_count": 9,
     "metadata": {},
     "output_type": "execute_result"
    }
   ],
   "source": [
    "# Definition for a binary tree node.\n",
    "class TreeNode:\n",
    "    def __init__(self, val=0, left=None, right=None):\n",
    "        self.val = val\n",
    "        self.left = left\n",
    "        self.right = right\n",
    "        \n",
    "        \n",
    "class Solution:\n",
    "    def isSameTree(self, p: TreeNode, q: TreeNode) -> bool:\n",
    "        if not p and not q:\n",
    "            print('TRUE:  not p and not q')\n",
    "            return True\n",
    "        elif not p or not q: \n",
    "            print('FALSE:  not p or not q')\n",
    "            return False\n",
    "        elif  p.val != q.val:\n",
    "            print('FALSE:  p.val != q.val')\n",
    "            return False\n",
    "        print(f'{p.val} - {q.val}')\n",
    "        return self.isSameTree(p.left, q.left) and self.isSameTree(p.right, q.right)\n",
    "        \n",
    "        \n",
    "tests = [(TreeNode(), TreeNode(), True), \n",
    "         (TreeNode(0, TreeNode(1)), TreeNode(0, TreeNode(1)), True), \n",
    "       (TreeNode(0, TreeNode(1)), TreeNode(0, None, TreeNode(1)), False), \n",
    "       (TreeNode(0, TreeNode(1), TreeNode(2)), TreeNode(0, TreeNode(1), TreeNode(2)), True), \n",
    "       (TreeNode(0, TreeNode(1), TreeNode(2)), TreeNode(0, TreeNode(2), TreeNode(1)), False), \n",
    "       ]\n",
    "    \n",
    "sol = Solution()\n",
    "[((p, q), sol.isSameTree(p, q), res) for p, q, res in tests if sol.isSameTree(p, q) != res]"
   ]
  },
  {
   "cell_type": "markdown",
   "metadata": {
    "heading_collapsed": true
   },
   "source": [
    "# Symmetric Tree\n",
    "https://leetcode.com/problems/symmetric-tree/"
   ]
  },
  {
   "cell_type": "code",
   "execution_count": 14,
   "metadata": {
    "ExecuteTime": {
     "end_time": "2020-08-12T17:40:07.601664Z",
     "start_time": "2020-08-12T17:40:07.584662Z"
    },
    "hidden": true
   },
   "outputs": [
    {
     "name": "stdout",
     "output_type": "stream",
     "text": [
      "\n",
      "None\n",
      "\n",
      "0\n",
      " <__main__.TreeNode object at 0x000001CC73C42D68> / \\ <__main__.TreeNode object at 0x000001CC73C422E8>\n",
      "   None / 0 \\ None,   None / 0 \\ None\n",
      " None / \\ None\n",
      "   True \"not left and not right\"\n",
      " None / \\ None\n",
      "   True \"not left and not right\"\n",
      "\n",
      "11\n",
      " <__main__.TreeNode object at 0x000001CC73C42DD8> / \\ <__main__.TreeNode object at 0x000001CC73D61710>\n",
      "   <__main__.TreeNode object at 0x000001CC73C42F98> / 2 \\ None,   None / 2 \\ <__main__.TreeNode object at 0x000001CC73C62908>\n",
      " <__main__.TreeNode object at 0x000001CC73C42F98> / \\ <__main__.TreeNode object at 0x000001CC73C62908>\n",
      "   None / 3 \\ None,   None / 3 \\ None\n",
      " None / \\ None\n",
      "   True \"not left and not right\"\n",
      " None / \\ None\n",
      "   True \"not left and not right\"\n",
      " None / \\ None\n",
      "   True \"not left and not right\"\n",
      "\n",
      "22\n",
      " <__main__.TreeNode object at 0x000001CC73D61780> / \\ <__main__.TreeNode object at 0x000001CC73D612E8>\n",
      "   None / 1 \\ None,   None / 2 \\ None\n",
      "   False 1 != 2 \"left.val != right.val\"\n"
     ]
    },
    {
     "data": {
      "text/plain": [
       "[]"
      ]
     },
     "execution_count": 14,
     "metadata": {},
     "output_type": "execute_result"
    }
   ],
   "source": [
    "#Definition for a binary tree node.\n",
    "class TreeNode:\n",
    "    def __init__(self, val=0, left=None, right=None):\n",
    "        self.val = val\n",
    "        self.left = left\n",
    "        self.right = right\n",
    "        \n",
    "class Solution:\n",
    "    def isSymmetric(self, root: TreeNode) -> bool:\n",
    "#         print(f'\\n{root if not root else root.val}')\n",
    "        if not root: return True\n",
    "        return is2Symmetric(root.left, root.right)\n",
    "    \n",
    "def is2Symmetric(left, right) -> bool:\n",
    "#     print(f' {left} / \\ {right}')\n",
    "    if not left and not right: \n",
    "#         print('   True \"not left and not right\"')\n",
    "        return True # both\n",
    "    if not left or not right: \n",
    "#         print('   False \"not left or not right\"')\n",
    "        return False # only one\n",
    "    print(f'   {left.left} / {left.val} \\ {left.right},   {right.left} / {right.val} \\ {right.right}')\n",
    "    if left.val != right.val: \n",
    "#         print(f'   False {left.val} != {right.val} \"left.val != right.val\"')\n",
    "        return False # values\n",
    "    return is2Symmetric(left.left, right.right) and is2Symmetric(left.right, right.left)\n",
    "    \n",
    "tests = [\n",
    "    (None, True), \n",
    "    (TreeNode(0, TreeNode(), TreeNode()), True), \n",
    "    (TreeNode(11, TreeNode(2, TreeNode(3), None), TreeNode(2, None, TreeNode(3))), True), \n",
    "    (TreeNode(22, TreeNode(1), TreeNode(2)), False), \n",
    "]\n",
    "\n",
    "sol = Solution()\n",
    "[((t.val if t else t), sol.isSymmetric(t), res) for t, res in tests if sol.isSymmetric(t) != res]"
   ]
  },
  {
   "cell_type": "markdown",
   "metadata": {
    "heading_collapsed": true
   },
   "source": [
    "# Xtract test"
   ]
  },
  {
   "cell_type": "code",
   "execution_count": 47,
   "metadata": {
    "ExecuteTime": {
     "end_time": "2020-08-09T22:18:17.495974Z",
     "start_time": "2020-08-09T22:18:17.481504Z"
    },
    "hidden": true
   },
   "outputs": [
    {
     "name": "stdout",
     "output_type": "stream",
     "text": [
      "1 []\n",
      "2 []\n",
      "3 []\n",
      "4 []\n",
      "5 []\n",
      "6 []\n",
      "7 []\n",
      "8 []\n",
      "9 []\n",
      "10 []\n",
      "11 []\n",
      "12 []\n",
      "13 []\n",
      "14 []\n",
      "15 []\n",
      "16 []\n",
      "17 []\n",
      "18 []\n",
      "19 []\n",
      "20 []\n",
      "21 []\n",
      "22 []\n",
      "23 []\n",
      "24 []\n",
      "25 []\n",
      "26 []\n",
      "27 []\n",
      "28 []\n",
      "29 []\n",
      "30 []\n",
      "31 []\n",
      "32 []\n",
      "33 []\n",
      "34 []\n",
      "35 []\n",
      "36 []\n",
      "37 []\n",
      "38 []\n",
      "39 []\n",
      "40 []\n",
      "41 []\n",
      "42 []\n",
      "43 []\n",
      "44 []\n",
      "45 []\n",
      "46 []\n",
      "47 []\n",
      "48 []\n",
      "49 []\n"
     ]
    }
   ],
   "source": [
    "from random import shuffle\n",
    "from operator import itemgetter\n",
    "\n",
    "def merge(preds):\n",
    "    if not preds: return []\n",
    "    preds = sorted(sorted(preds, key=itemgetter(1), reverse=True), key=itemgetter(0))\n",
    "    res = []\n",
    "    comp = preds[0]\n",
    "    for i, el in enumerate(preds[1:]):\n",
    "        if comp[1] < el[0]: # not overlap\n",
    "            res.append(comp)\n",
    "            comp = el\n",
    "        else:\n",
    "            comp = (comp[0], max(comp[1], el[1]))\n",
    "        if i == len(preds)-2: # last element\n",
    "            res.append(comp)\n",
    "    return res\n",
    "\n",
    "tests = [\n",
    "            (0, 1), (0, 2), \n",
    "            (3, 5), (4, 6), (5, 7),\n",
    "            (8, 10),\n",
    "            (12, 15), (13, 14),\n",
    "            (16, 22), (17, 21), (19, 20),\n",
    "            (23, 24), (23, 25), (23, 26)\n",
    "]\n",
    "results = [\n",
    "            (0, 2),\n",
    "            (3, 7),\n",
    "            (8,10),\n",
    "            (12, 15),\n",
    "            (16, 22),\n",
    "            (23, 26)\n",
    "] \n",
    "for t in range(1, 50):\n",
    "    shuffle(tests) # to make sure the result is irrelevant to the order of elements\n",
    "    print(t, [(i, el, res[i]) for i, el in enumerate(merge(tests)) if results[i] != el])\n",
    "\n"
   ]
  },
  {
   "cell_type": "code",
   "execution_count": 21,
   "metadata": {
    "ExecuteTime": {
     "end_time": "2020-08-09T21:33:52.669938Z",
     "start_time": "2020-08-09T21:33:52.665949Z"
    },
    "hidden": true
   },
   "outputs": [
    {
     "name": "stdout",
     "output_type": "stream",
     "text": [
      "[]\n"
     ]
    }
   ],
   "source": [
    "x = ()\n",
    "print([] if not x else 'not empty')"
   ]
  },
  {
   "cell_type": "code",
   "execution_count": 61,
   "metadata": {
    "ExecuteTime": {
     "end_time": "2020-08-10T20:35:23.529622Z",
     "start_time": "2020-08-10T20:35:23.522643Z"
    },
    "hidden": true
   },
   "outputs": [
    {
     "data": {
      "text/plain": [
       "['skill',\n",
       " 'certification',\n",
       " 'institution',\n",
       " 'workType',\n",
       " 'education_levels',\n",
       " 'employment_types',\n",
       " 'certificate_presented',\n",
       " 'license_presented',\n",
       " 'years_of_experience']"
      ]
     },
     "execution_count": 61,
     "metadata": {},
     "output_type": "execute_result"
    }
   ],
   "source": [
    "from itertools import chain\n",
    "\n",
    "elements = {'entities': ['skill', 'certification', 'institution', 'workType'],\n",
    "            'non_entities': ['education_levels', 'employment_types', 'certificate_presented', 'license_presented'],\n",
    "            'years_of_experience': ['years_of_experience']}\n",
    "els = []\n",
    "[vv for v in elements.values() for vv in v]\n"
   ]
  },
  {
   "cell_type": "code",
   "execution_count": 66,
   "metadata": {
    "ExecuteTime": {
     "end_time": "2020-08-10T20:58:15.175719Z",
     "start_time": "2020-08-10T20:58:15.167740Z"
    },
    "hidden": true
   },
   "outputs": [
    {
     "data": {
      "text/plain": [
       "('   ', '')"
      ]
     },
     "execution_count": 66,
     "metadata": {},
     "output_type": "execute_result"
    }
   ],
   "source": [
    "text = ' '\n",
    "title = ''\n",
    "text2 = f'{text} {title} '.strip()\n",
    "text = f'{text} {title} '\n",
    "text, text2"
   ]
  },
  {
   "cell_type": "markdown",
   "metadata": {
    "heading_collapsed": true
   },
   "source": [
    "# Maximum Depth of Binary Tree\n",
    "https://leetcode.com/problems/maximum-depth-of-binary-tree/"
   ]
  },
  {
   "cell_type": "code",
   "execution_count": 6,
   "metadata": {
    "ExecuteTime": {
     "end_time": "2020-08-12T22:30:01.559535Z",
     "start_time": "2020-08-12T22:30:01.546525Z"
    },
    "hidden": true
   },
   "outputs": [
    {
     "data": {
      "text/plain": [
       "[(5, 4)]"
      ]
     },
     "execution_count": 6,
     "metadata": {},
     "output_type": "execute_result"
    }
   ],
   "source": [
    "# Definition for a binary tree node.\n",
    "class TreeNode:\n",
    "    def __init__(self, val=0, left=None, right=None):\n",
    "        self.val = val\n",
    "        self.left = left\n",
    "        self.right = right\n",
    "        \n",
    "class Solution:\n",
    "    def maxDepth(self, root: TreeNode) -> int:\n",
    "        self.max_depth = self.cur_depth = 0\n",
    "        self.visit(root)\n",
    "        return self.max_depth\n",
    "    \n",
    "    def visit(self, node):\n",
    "        if not node: return\n",
    "        self.cur_depth += 1\n",
    "        self.max_depth = max(self.max_depth, self.cur_depth)\n",
    "        self.visit(node.left)\n",
    "        self.visit(node.right)\n",
    "        self.cur_depth -= 1\n",
    "        return\n",
    "    \n",
    "\n",
    "tests = [\n",
    "            (None, 0), \n",
    "            (TreeNode(0), 1),\n",
    "            (TreeNode(0, TreeNode(0), TreeNode(0)), 2), \n",
    "            (TreeNode(11, TreeNode(2, TreeNode(3), None), TreeNode(2, None, TreeNode(3))), 3), \n",
    "            (TreeNode(22, TreeNode(2, TreeNode(3), TreeNode(3)), TreeNode(2, None, None)), 3), \n",
    "            (TreeNode(33, TreeNode(2, TreeNode(3, TreeNode(4, TreeNode(5))))), 4), \n",
    "]\n",
    "\n",
    "sol = Solution()\n",
    "[(sol.maxDepth(t), res) for t, res in tests if sol.maxDepth(t) != res]    "
   ]
  },
  {
   "cell_type": "code",
   "execution_count": 8,
   "metadata": {
    "ExecuteTime": {
     "end_time": "2020-08-12T22:33:58.851551Z",
     "start_time": "2020-08-12T22:33:58.841571Z"
    },
    "hidden": true
   },
   "outputs": [
    {
     "data": {
      "text/plain": [
       "[(5, 4)]"
      ]
     },
     "execution_count": 8,
     "metadata": {},
     "output_type": "execute_result"
    }
   ],
   "source": [
    "# Definition for a binary tree node.\n",
    "class TreeNode:\n",
    "    def __init__(self, val=0, left=None, right=None):\n",
    "        self.val = val\n",
    "        self.left = left\n",
    "        self.right = right\n",
    "        \n",
    "class Solution:\n",
    "    def maxDepth(self, root: TreeNode) -> int:\n",
    "        if not root: return 0\n",
    "        return max(1 + self.maxDepth(root.left), 1 + self.maxDepth(root.right))\n",
    "\n",
    "tests = [\n",
    "            (None, 0), \n",
    "            (TreeNode(0), 1),\n",
    "            (TreeNode(0, TreeNode(0), TreeNode(0)), 2), \n",
    "            (TreeNode(11, TreeNode(2, TreeNode(3), None), TreeNode(2, None, TreeNode(3))), 3), \n",
    "            (TreeNode(22, TreeNode(2, TreeNode(3), TreeNode(3)), TreeNode(2, None, None)), 3), \n",
    "            (TreeNode(33, TreeNode(2, TreeNode(3, TreeNode(4, TreeNode(5))))), 5), \n",
    "]\n",
    "\n",
    "sol = Solution()\n",
    "[(sol.maxDepth(t), res) for t, res in tests if sol.maxDepth(t) != res]    "
   ]
  },
  {
   "cell_type": "markdown",
   "metadata": {
    "heading_collapsed": true
   },
   "source": [
    "# Binary Tree Level Order Traversal II\n",
    "https://leetcode.com/problems/binary-tree-level-order-traversal-ii/"
   ]
  },
  {
   "cell_type": "code",
   "execution_count": 13,
   "metadata": {
    "ExecuteTime": {
     "end_time": "2020-08-13T16:45:38.650206Z",
     "start_time": "2020-08-13T16:45:38.633222Z"
    },
    "hidden": true
   },
   "outputs": [
    {
     "data": {
      "text/plain": [
       "[]"
      ]
     },
     "execution_count": 13,
     "metadata": {},
     "output_type": "execute_result"
    }
   ],
   "source": [
    "# Definition for a binary tree node.\n",
    "class TreeNode:\n",
    "    def __init__(self, val=0, left=None, right=None):\n",
    "        self.val = val\n",
    "        self.left = left\n",
    "        self.right = right\n",
    "        \n",
    "from collections import defaultdict, OrderedDict\n",
    "\n",
    "class Solution:\n",
    "    def levelOrderBottom(self, root: TreeNode):\n",
    "        if not root: return []\n",
    "        self.levels = defaultdict(list)\n",
    "        self.level_num = 0\n",
    "        self.visit(root)\n",
    "        return [self.levels[k] for k in sorted(self.levels.keys(), reverse=True)]\n",
    "        \n",
    "    def visit(self, node):\n",
    "        if not node: return\n",
    "        self.level_num += 1\n",
    "        self.levels[self.level_num].append(node.val)\n",
    "        self.visit(node.left)\n",
    "        self.visit(node.right)\n",
    "        self.level_num -= 1\n",
    "        \n",
    "\n",
    "tests = [\n",
    "            (None, []), \n",
    "            (TreeNode(0), [[0]]),\n",
    "            (TreeNode(0, TreeNode(1), TreeNode(2)), [[0],[1,2]][::-1]), \n",
    "            (TreeNode(0, TreeNode(1, TreeNode(2), None), TreeNode(4, None, TreeNode(5))), [[0],[1,4], [2,5]][::-1]), \n",
    "            (TreeNode(0, TreeNode(1, TreeNode(2), TreeNode(3)), TreeNode(4, None, None)),  [[0],[1,4], [2,3]][::-1]), \n",
    "            (TreeNode(0, TreeNode(1, TreeNode(2, TreeNode(3, TreeNode(4))))),  [[0],[1], [2], [3], [4]][::-1]), \n",
    "]\n",
    "\n",
    "sol = Solution()\n",
    "[(sol.levelOrderBottom(t), res) for t, res in tests if sol.levelOrderBottom(t) != res]    "
   ]
  },
  {
   "cell_type": "code",
   "execution_count": 5,
   "metadata": {
    "ExecuteTime": {
     "end_time": "2020-08-13T16:42:12.348262Z",
     "start_time": "2020-08-13T16:42:12.342220Z"
    },
    "hidden": true
   },
   "outputs": [
    {
     "data": {
      "text/plain": [
       "[[444], [3, 33, 333], [22], [1, 11]]"
      ]
     },
     "execution_count": 5,
     "metadata": {},
     "output_type": "execute_result"
    }
   ],
   "source": [
    "d = {2:[22], 1:[1,11], 4:[444], 3:[3,33,333]}\n",
    "sorted(d.keys(), reverse=True)\n",
    "[d[k] for k in sorted(d.keys(), reverse=True)]"
   ]
  },
  {
   "cell_type": "code",
   "execution_count": 11,
   "metadata": {
    "ExecuteTime": {
     "end_time": "2020-08-13T16:44:27.100288Z",
     "start_time": "2020-08-13T16:44:27.094267Z"
    },
    "hidden": true
   },
   "outputs": [
    {
     "data": {
      "text/plain": [
       "False"
      ]
     },
     "execution_count": 11,
     "metadata": {},
     "output_type": "execute_result"
    }
   ],
   "source": [
    "[[0],[1,4], [2,5]] == [[0],[1,4], [5,2]]"
   ]
  },
  {
   "cell_type": "markdown",
   "metadata": {
    "heading_collapsed": true
   },
   "source": [
    "# Convert Sorted Array to Binary Search Tree\n",
    "https://leetcode.com/problems/convert-sorted-array-to-binary-search-tree/"
   ]
  },
  {
   "cell_type": "code",
   "execution_count": 9,
   "metadata": {
    "ExecuteTime": {
     "end_time": "2020-09-01T18:27:07.888917Z",
     "start_time": "2020-09-01T18:27:07.857913Z"
    },
    "hidden": true
   },
   "outputs": [
    {
     "name": "stdout",
     "output_type": "stream",
     "text": [
      "[-10, -3, 0, 5]\n",
      " 0\n",
      "[-10, -3]\n",
      " -3\n",
      "[-10]\n",
      " -10\n",
      "[]\n",
      "[]\n",
      "[]\n",
      "[5]\n",
      " 5\n",
      "[]\n",
      "[]\n",
      "result: [-10, -3, 0, 5]\n",
      "\n",
      "[-10, -3, 0, 5, 9, 9, 11, 12]\n",
      " 9\n",
      "[-10, -3, 0, 5]\n",
      " 0\n",
      "[-10, -3]\n",
      " -3\n",
      "[-10]\n",
      " -10\n",
      "[]\n",
      "[]\n",
      "[]\n",
      "[5]\n",
      " 5\n",
      "[]\n",
      "[]\n",
      "[9, 11, 12]\n",
      " 11\n",
      "[9]\n",
      " 9\n",
      "[]\n",
      "[]\n",
      "[12]\n",
      " 12\n",
      "[]\n",
      "[]\n",
      "result: [-10, -3, 0, 5, 9, 9, 11, 12]\n",
      "\n",
      "[]\n",
      "result: []\n",
      "\n",
      "[1]\n",
      " 1\n",
      "[]\n",
      "[]\n",
      "result: [1]\n",
      "\n",
      "[-10, -3, 0, 5, 9]\n",
      " 0\n",
      "[-10, -3]\n",
      " -3\n",
      "[-10]\n",
      " -10\n",
      "[]\n",
      "[]\n",
      "[]\n",
      "[5, 9]\n",
      " 9\n",
      "[5]\n",
      " 5\n",
      "[]\n",
      "[]\n",
      "[]\n",
      "result: [-10, -3, 0, 5, 9]\n",
      "\n",
      "[-10, -3, 0, 5]\n",
      " 0\n",
      "[-10, -3]\n",
      " -3\n",
      "[-10]\n",
      " -10\n",
      "[]\n",
      "[]\n",
      "[]\n",
      "[5]\n",
      " 5\n",
      "[]\n",
      "[]\n",
      "result: [-10, -3, 0, 5]\n",
      "\n",
      "[-10, -3, 0, 5, 9, 9, 11, 12]\n",
      " 9\n",
      "[-10, -3, 0, 5]\n",
      " 0\n",
      "[-10, -3]\n",
      " -3\n",
      "[-10]\n",
      " -10\n",
      "[]\n",
      "[]\n",
      "[]\n",
      "[5]\n",
      " 5\n",
      "[]\n",
      "[]\n",
      "[9, 11, 12]\n",
      " 11\n",
      "[9]\n",
      " 9\n",
      "[]\n",
      "[]\n",
      "[12]\n",
      " 12\n",
      "[]\n",
      "[]\n",
      "result: [-10, -3, 0, 5, 9, 9, 11, 12]\n",
      "\n"
     ]
    },
    {
     "data": {
      "text/plain": [
       "[]"
      ]
     },
     "execution_count": 9,
     "metadata": {},
     "output_type": "execute_result"
    }
   ],
   "source": [
    "# Definition for a binary tree node.\n",
    "class TreeNode:\n",
    "    def __init__(self, val=0, left=None, right=None):\n",
    "        self.val = val\n",
    "        self.left = left\n",
    "        self.right = right\n",
    "        \n",
    "def TreeNode2SortedList(root):\n",
    "    def traverse(node):\n",
    "        if not node: return\n",
    "        res.append(node.val)\n",
    "        traverse(node.left)\n",
    "        traverse(node.right)\n",
    "    res = []\n",
    "    traverse(root)\n",
    "    return sorted(res)\n",
    "    \n",
    "    \n",
    "        \n",
    "class Solution:\n",
    "    def sortedArrayToBST(self, nums: list) -> TreeNode:\n",
    "            def visit(arr):\n",
    "                print(arr)\n",
    "                if not arr: return None\n",
    "                m = len(arr)//2\n",
    "                node = TreeNode(arr[m])\n",
    "                print( f' {arr[m]}')\n",
    "                node.left = visit(arr[:m])\n",
    "                node.right = visit(arr[m+1:])\n",
    "                return node\n",
    "            res = visit(nums)\n",
    "            print(f'result: {TreeNode2SortedList(res)}')\n",
    "            print()\n",
    "            return res\n",
    "        \n",
    "sol = Solution()\n",
    "tests = [([], None), \n",
    "         ([1], TreeNode(1)),\n",
    "         ([-10,-3,0,5,9], TreeNode(0, TreeNode(-3, TreeNode(-10)), TreeNode(9, TreeNode(5)))),\n",
    "         ([-10,-3,0,5], sol.sortedArrayToBST([-10,-3,0,5])),\n",
    "         ([-10,-3,0,5,9,9,11,12], sol.sortedArrayToBST([-10,-3,0,5,9,9,11,12])),\n",
    "        ]\n",
    "# [(t, TreeNode2SortedList(res)) for t, res in tests]\n",
    "[(t, TreeNode2SortedList(sol.sortedArrayToBST(t)), res) for t, res in tests\n",
    " if TreeNode2SortedList(sol.sortedArrayToBST(t)) != t]"
   ]
  },
  {
   "cell_type": "markdown",
   "metadata": {
    "heading_collapsed": true
   },
   "source": [
    "# Balanced Binary Tree\n",
    "https://leetcode.com/problems/balanced-binary-tree/"
   ]
  },
  {
   "cell_type": "code",
   "execution_count": 4,
   "metadata": {
    "ExecuteTime": {
     "end_time": "2020-09-04T17:58:19.754901Z",
     "start_time": "2020-09-04T17:58:19.721898Z"
    },
    "hidden": true
   },
   "outputs": [
    {
     "name": "stdout",
     "output_type": "stream",
     "text": [
      "\n",
      "  leaf\n",
      "  leaf\n",
      " 1  / \\ 1\n",
      "\n",
      "  leaf\n",
      "  leaf\n",
      " 2  / \\ 2\n",
      "  leaf\n",
      " 2  / \\ 1\n",
      "\n",
      "  leaf\n",
      "  leaf\n",
      " 3  / \\ 3\n",
      "  leaf\n",
      " 3  / \\ 2\n",
      "  leaf\n",
      " 3  / \\ 1\n",
      "  *** StopIteration \n",
      "  *** StopIteration \n",
      "\n",
      "  leaf\n",
      "  leaf\n",
      " 3  / \\ 3\n",
      "  leaf\n",
      " 3  / \\ 2\n",
      "  leaf\n",
      "  leaf\n",
      " 2  / \\ 2\n",
      " 3  / \\ 2\n"
     ]
    },
    {
     "data": {
      "text/plain": [
       "[]"
      ]
     },
     "execution_count": 4,
     "metadata": {},
     "output_type": "execute_result"
    }
   ],
   "source": [
    "# Definition for a binary tree node.\n",
    "class TreeNode:\n",
    "    def __init__(self, val=0, left=None, right=None):\n",
    "        self.val = val\n",
    "        self.left = left\n",
    "        self.right = right\n",
    "        \n",
    "class Solution:\n",
    "    def isBalanced(self, root: TreeNode) -> bool:\n",
    "        try:\n",
    "            print()\n",
    "            get_height(root, 0)\n",
    "        except StopIteration:\n",
    "            return False\n",
    "        return True\n",
    "\n",
    "def get_height(node, h):\n",
    "    if not node: \n",
    "        print('  leaf')\n",
    "        return h\n",
    "    lh, rh = get_height(node.left, h+1), get_height(node.right, h+1)\n",
    "    print(f' {lh}  / \\ {rh}')\n",
    "    if abs(lh-rh) > 1:\n",
    "        print(f'  *** StopIteration ')\n",
    "        raise StopIteration()\n",
    "    return max(lh, rh)\n",
    "        \n",
    "\n",
    "tests = [(TreeNode(0), True),\n",
    "        (TreeNode(0, TreeNode(1)), True),\n",
    "        (TreeNode(0, TreeNode(1, TreeNode(11))), False),\n",
    "        (TreeNode(0, TreeNode(1, TreeNode(11)), TreeNode(2)), True),        \n",
    "        ]\n",
    "sol = Solution()\n",
    "[(t, sol.isBalanced(t)) for t, res in tests if sol.isBalanced(t) != res]"
   ]
  },
  {
   "cell_type": "markdown",
   "metadata": {
    "heading_collapsed": true
   },
   "source": [
    "# Minimum Depth of Binary Tree\n",
    "https://leetcode.com/problems/minimum-depth-of-binary-tree/"
   ]
  },
  {
   "cell_type": "code",
   "execution_count": 38,
   "metadata": {
    "ExecuteTime": {
     "end_time": "2020-09-04T22:44:54.734736Z",
     "start_time": "2020-09-04T22:44:54.703738Z"
    },
    "hidden": true
   },
   "outputs": [
    {
     "name": "stdout",
     "output_type": "stream",
     "text": [
      "\n",
      "[0, 1]\n",
      " 0 from [1]\n",
      "  depth++  [1, 1] \n",
      " 1 from [1]\n",
      "\n",
      "[0, 12]\n",
      " 0 from [12]\n",
      "  depth++  [12, 1] \n",
      " 12 from [1]\n",
      "  [1, 1, None]\n",
      " 1 from [1, None]\n",
      "  depth++  [1, None, 2] \n",
      " 1 from [None, 2]\n",
      "\n",
      "[0, 123]\n",
      " 0 from [123]\n",
      "  depth++  [123, 1] \n",
      " 123 from [1]\n",
      "  [1, 1, None]\n",
      " 1 from [1, None]\n",
      "  depth++  [1, None, 2] \n",
      " 1 from [None, 2]\n",
      "  [None, 2, 11, None]\n",
      " None from [2, 11, None]\n",
      " 2 from [11, None]\n",
      "  depth++  [11, None, 3] \n",
      " 11 from [None, 3]\n",
      "\n",
      "[0, 123]\n",
      " 0 from [123]\n",
      "  depth++  [123, 1] \n",
      " 123 from [1]\n",
      "  [1, 1, None]\n",
      " 1 from [1, None]\n",
      "  depth++  [1, None, 2] \n",
      " 1 from [None, 2]\n",
      "  [None, 2, 11, None]\n",
      " None from [2, 11, None]\n",
      " 2 from [11, None]\n",
      "  depth++  [11, None, 3] \n",
      " 11 from [None, 3]\n",
      "\n",
      "[0, 1234]\n",
      " 0 from [1234]\n",
      "  depth++  [1234, 1] \n",
      " 1234 from [1]\n",
      "  [1, 1, 2]\n",
      " 1 from [1, 2]\n",
      "  depth++  [1, 2, 2] \n",
      " 1 from [2, 2]\n",
      "  [2, 2, 11, None]\n",
      " 2 from [2, 11, None]\n",
      "\n",
      "[0, 12345]\n",
      " 0 from [12345]\n",
      "  depth++  [12345, 1] \n",
      " 12345 from [1]\n",
      "  [1, 1, 2]\n",
      " 1 from [1, 2]\n",
      "  depth++  [1, 2, 2] \n",
      " 1 from [2, 2]\n",
      "  [2, 2, 11, None]\n",
      " 2 from [2, 11, None]\n"
     ]
    },
    {
     "data": {
      "text/plain": [
       "[(123, 3, 2)]"
      ]
     },
     "execution_count": 38,
     "metadata": {},
     "output_type": "execute_result"
    }
   ],
   "source": [
    "# Definition for a binary tree node.\n",
    "class TreeNode:\n",
    "    def __init__(self, val=0, left=None, right=None):\n",
    "        self.val = val\n",
    "        self.left = left\n",
    "        self.right = right\n",
    "        \n",
    "    def __repr__(self):\n",
    "        return str(self.val)\n",
    "        \n",
    "class Solution:\n",
    "    def minDepth(self, root: TreeNode) -> int:      \n",
    "        if not root: return 0\n",
    "        depth = 0    \n",
    "        queue = [depth, root]\n",
    "        print(f'\\n{queue}')\n",
    "        while len(queue):\n",
    "            el = queue.pop(0)\n",
    "            print(f' {el} from {queue}')\n",
    "            if type(el) == int:\n",
    "                depth += 1\n",
    "                queue.append(depth)\n",
    "                print(f'  depth++  {queue} ')\n",
    "                continue\n",
    "            if not el:\n",
    "                continue\n",
    "            elif el.left or el.right:            \n",
    "                queue.append(el.left)\n",
    "                queue.append(el.right)\n",
    "            else:\n",
    "                break\n",
    "            print(f'  {queue}')\n",
    "        return depth\n",
    "    \n",
    "    \n",
    " \n",
    "\n",
    "tests = [\n",
    "    (None, 0),\n",
    "    (TreeNode(1), 1),\n",
    "    (TreeNode(12, TreeNode(1)), 2),\n",
    "    (TreeNode(123, TreeNode(1, TreeNode(11))), 2),\n",
    "    (TreeNode(1234, TreeNode(1, TreeNode(11)), TreeNode(2)), 2),        \n",
    "    (TreeNode(12345, TreeNode(1, TreeNode(11, TreeNode(111))), TreeNode(2)), 2),        \n",
    "]\n",
    "sol = Solution()\n",
    "[(t, sol.minDepth(t), res) for t, res in tests if sol.minDepth(t) != res]\n",
    "        "
   ]
  },
  {
   "cell_type": "code",
   "execution_count": 23,
   "metadata": {
    "ExecuteTime": {
     "end_time": "2020-09-04T22:04:30.432058Z",
     "start_time": "2020-09-04T22:04:30.414055Z"
    },
    "hidden": true
   },
   "outputs": [
    {
     "name": "stdout",
     "output_type": "stream",
     "text": [
      "1 [1, 2, 3]\n",
      "  1 from [2, 3]\n",
      "  4 into [2, 3, 4]\n",
      "3 [2, 3, 4]\n",
      "  2 from [3, 4]\n",
      "  6 into [3, 4, 6]\n",
      "6 [3, 4, 6]\n",
      "  3 from [4, 6]\n",
      "  9 into [4, 6, 9]\n"
     ]
    }
   ],
   "source": [
    "class Solution:\n",
    "    def minDepth(self, root: TreeNode) -> int:      \n",
    "        if not root: return 0\n",
    "        depth = 1    \n",
    "        queue = [root, depth]\n",
    "        # print(f'\\n{queue}')\n",
    "        while len(queue):\n",
    "            el = queue.pop(0)\n",
    "            # print(f' {el} from {queue}')\n",
    "            if type(el) == int:\n",
    "                depth += 1\n",
    "                queue.append(depth)\n",
    "                # print(f'  depth++  {queue} ')\n",
    "                continue\n",
    "            if not el:\n",
    "                continue\n",
    "            elif el.left or el.right:            \n",
    "                queue.append(el.left)\n",
    "                queue.append(el.right)\n",
    "            else:\n",
    "                break\n",
    "            # print(f'  {queue}')\n",
    "        return depth\n",
    "\n"
   ]
  },
  {
   "cell_type": "markdown",
   "metadata": {},
   "source": [
    "# Path Sum\n",
    "https://leetcode.com/problems/path-sum/"
   ]
  },
  {
   "cell_type": "code",
   "execution_count": 1,
   "metadata": {
    "ExecuteTime": {
     "end_time": "2020-09-05T05:38:35.859653Z",
     "start_time": "2020-09-05T05:38:35.805368Z"
    }
   },
   "outputs": [
    {
     "data": {
      "text/plain": [
       "[]"
      ]
     },
     "execution_count": 1,
     "metadata": {},
     "output_type": "execute_result"
    }
   ],
   "source": [
    "# Definition for a binary tree node.\n",
    "class TreeNode:\n",
    "    def __init__(self, val=0, left=None, right=None):\n",
    "        self.val = val\n",
    "        self.left = left\n",
    "        self.right = right\n",
    "        \n",
    "class Solution:\n",
    "    def hasPathSum(self, root: TreeNode, sum: int) -> bool:\n",
    "        if not root: return False\n",
    "        return visit(root, 0, sum)\n",
    "        \n",
    "def visit(node, path_sum, sum):\n",
    "    if not node:\n",
    "        return False\n",
    "    if not node.left and not node.right:\n",
    "        return True if path_sum + node.val == sum else False\n",
    "    return visit(node.left, path_sum + node.val, sum) or visit(node.right, path_sum + node.val, sum)\n",
    "                \n",
    "            \n",
    "    \n",
    "    \n",
    "tests = [\n",
    "    (None, 0, False),\n",
    "    (TreeNode(1), 1, True),\n",
    "    (TreeNode(12, TreeNode(1)), 13, True),\n",
    "    (TreeNode(12, TreeNode(1)), 12, False),\n",
    "    (TreeNode(123, TreeNode(1, TreeNode(11))), 124, False),\n",
    "    (TreeNode(123, TreeNode(1, TreeNode(11))), 135, True),\n",
    "    (TreeNode(1234, TreeNode(1, TreeNode(11)), TreeNode(2)), 1235, False),        \n",
    "    (TreeNode(1234, TreeNode(1, TreeNode(11)), TreeNode(2)), 1246, True),        \n",
    "    (TreeNode(1234, TreeNode(1, TreeNode(11)), TreeNode(2)), 1236, True),        \n",
    "    (TreeNode(12345, TreeNode(1, TreeNode(11, TreeNode(111))), TreeNode(2)), 12347, True),        \n",
    "    (TreeNode(12345, TreeNode(1, TreeNode(11, TreeNode(111))), TreeNode(2)), 12468, True),        \n",
    "]\n",
    "sol = Solution()\n",
    "[(sol.hasPathSum(t, sum), sum, res) for t, sum, res in tests if sol.hasPathSum(t, sum) != res]\n",
    "        \n"
   ]
  },
  {
   "cell_type": "code",
   "execution_count": null,
   "metadata": {},
   "outputs": [],
   "source": []
  }
 ],
 "metadata": {
  "kernelspec": {
   "display_name": "Python 3",
   "language": "python",
   "name": "python3"
  },
  "language_info": {
   "codemirror_mode": {
    "name": "ipython",
    "version": 3
   },
   "file_extension": ".py",
   "mimetype": "text/x-python",
   "name": "python",
   "nbconvert_exporter": "python",
   "pygments_lexer": "ipython3",
   "version": "3.6.4"
  },
  "toc": {
   "base_numbering": 1,
   "nav_menu": {},
   "number_sections": true,
   "sideBar": true,
   "skip_h1_title": false,
   "title_cell": "Table of Contents",
   "title_sidebar": "Contents",
   "toc_cell": false,
   "toc_position": {},
   "toc_section_display": true,
   "toc_window_display": false
  }
 },
 "nbformat": 4,
 "nbformat_minor": 4
}
