{
 "cells": [
  {
   "cell_type": "markdown",
   "metadata": {
    "heading_collapsed": true
   },
   "source": [
    "# Merge Intervals\n",
    "https://leetcode.com/problems/merge-intervals/"
   ]
  },
  {
   "cell_type": "code",
   "execution_count": 25,
   "metadata": {
    "ExecuteTime": {
     "end_time": "2020-07-03T16:25:36.299478Z",
     "start_time": "2020-07-03T16:25:36.282468Z"
    },
    "hidden": true
   },
   "outputs": [
    {
     "name": "stdout",
     "output_type": "stream",
     "text": [
      "\n",
      "inervals:: []\n",
      "\n",
      "inervals:: [[1, 2]]\n",
      "\n",
      "inervals:: [[1, 3], [2, 6], [8, 10], [15, 18]]\n",
      "ret: [], cur: [1, 3]\n",
      "ret: [], cur: [1, 6]\n",
      "ret: [[1, 6]], cur: [8, 10]\n",
      "ret: [[1, 6], [8, 10]], cur: [15, 18]\n",
      "RET: [[1, 6], [8, 10], [15, 18]]\n",
      "\n",
      "inervals:: [[1, 4], [4, 5]]\n",
      "ret: [], cur: [1, 4]\n",
      "ret: [], cur: [1, 5]\n",
      "RET: [[1, 5]]\n",
      "\n",
      "inervals:: [[1, 4], [4, 5], [4, 5]]\n",
      "ret: [], cur: [1, 4]\n",
      "ret: [], cur: [1, 5]\n",
      "ret: [], cur: [1, 5]\n",
      "RET: [[1, 5]]\n",
      "\n",
      "inervals:: [[1, 4], [0, 4]]\n",
      "ret: [], cur: [0, 4]\n",
      "ret: [], cur: [0, 4]\n",
      "RET: [[0, 4]]\n",
      "\n",
      "inervals:: [[1, 4], [4, 5], [0, 5]]\n",
      "ret: [], cur: [0, 5]\n",
      "ret: [], cur: [0, 5]\n",
      "ret: [], cur: [0, 5]\n",
      "RET: [[0, 5]]\n",
      "\n",
      "inervals:: [[1, 4], [2, 3]]\n",
      "ret: [], cur: [1, 4]\n",
      "ret: [], cur: [1, 4]\n",
      "RET: [[1, 4]]\n"
     ]
    },
    {
     "data": {
      "text/plain": [
       "[([], []),\n",
       " ([[1, 2]], [[1, 2]]),\n",
       " ([[1, 3], [2, 6], [8, 10], [15, 18]], [[1, 6], [8, 10], [15, 18]]),\n",
       " ([[1, 4], [4, 5]], [[1, 5]]),\n",
       " ([[1, 4], [4, 5], [4, 5]], [[1, 5]]),\n",
       " ([[1, 4], [0, 4]], [[0, 4]]),\n",
       " ([[1, 4], [4, 5], [0, 5]], [[0, 5]]),\n",
       " ([[1, 4], [2, 3]], [[1, 4]])]"
      ]
     },
     "execution_count": 25,
     "metadata": {},
     "output_type": "execute_result"
    }
   ],
   "source": [
    "class Solution:\n",
    "    def merge(self, intervals):\n",
    "        print(f'\\ninervals:: {intervals}')\n",
    "        if not intervals or len(intervals) < 2: return intervals\n",
    "        ret = []\n",
    "        intervals = sorted(intervals, key=lambda x: x[0])\n",
    "        cur = intervals[0]\n",
    "        print(f'ret: {ret}, cur: {cur}')\n",
    "        for i in range(1, len(intervals)):\n",
    "            right = intervals[i]\n",
    "            if cur[1] >= right[0]:\n",
    "                cur = [cur[0], max(cur[1], right[1])]\n",
    "            else:\n",
    "                ret.append(cur)\n",
    "                cur = right\n",
    "            print(f'ret: {ret}, cur: {cur}')\n",
    "        ret.append(cur)\n",
    "        print(f'RET: {ret}')\n",
    "        return ret\n",
    "            \n",
    "\n",
    "    \n",
    "solution = Solution()\n",
    "tsts =[[], [[1,2]], [[1,3],[2,6],[8,10],[15,18]], [[1,4],[4,5]], [[1,4],[4,5], [4,5]],\n",
    "      [[1,4],[0,4]], [[1,4],[4,5], [0,5]], [[1,4],[2,3]]]\n",
    "[(tst, solution.merge(tst)) for tst in tsts]"
   ]
  },
  {
   "cell_type": "markdown",
   "metadata": {
    "heading_collapsed": true
   },
   "source": [
    "# Insert Interval\n",
    "https://leetcode.com/problems/insert-interval/"
   ]
  },
  {
   "cell_type": "code",
   "execution_count": 45,
   "metadata": {
    "ExecuteTime": {
     "end_time": "2020-07-04T01:25:44.731016Z",
     "start_time": "2020-07-04T01:25:44.698046Z"
    },
    "hidden": true
   },
   "outputs": [
    {
     "name": "stdout",
     "output_type": "stream",
     "text": [
      "\n",
      "([],   [])\n",
      "\n",
      "([],   [1, 2])\n",
      " intervals: [[1, 2]]\n",
      "  ret: []  cur: [1, 2]\n",
      " ret: [[1, 2]]\n",
      "\n",
      "([[1, 2]],   [1, 4])\n",
      " intervals: [[1, 2], [1, 4]]\n",
      "  ret: []  cur: [1, 2]\n",
      "  ret: []  cur: [1, 4]\n",
      " ret: [[1, 4]]\n",
      "\n",
      "([[1, 2], [1, 4]],   [1, 6])\n",
      " intervals: [[1, 2], [1, 4], [1, 6]]\n",
      "  ret: []  cur: [1, 2]\n",
      "  ret: []  cur: [1, 4]\n",
      "  ret: []  cur: [1, 6]\n",
      " ret: [[1, 6]]\n",
      "\n",
      "([[1, 2]],   [])\n",
      " intervals: [[1, 2]]\n",
      "  ret: []  cur: [1, 2]\n",
      " ret: [[1, 2]]\n",
      "\n",
      "([[1, 2]],   [1, 2])\n",
      " intervals: [[1, 2], [1, 2]]\n",
      "  ret: []  cur: [1, 2]\n",
      "  ret: []  cur: [1, 2]\n",
      " ret: [[1, 2]]\n",
      "\n",
      "([[1, 2], [1, 2]],   [1, 4])\n",
      " intervals: [[1, 2], [1, 2], [1, 4]]\n",
      "  ret: []  cur: [1, 2]\n",
      "  ret: []  cur: [1, 2]\n",
      "  ret: []  cur: [1, 4]\n",
      " ret: [[1, 4]]\n",
      "\n",
      "([[1, 2], [1, 2], [1, 4]],   [1, 6])\n",
      " intervals: [[1, 2], [1, 2], [1, 4], [1, 6]]\n",
      "  ret: []  cur: [1, 2]\n",
      "  ret: []  cur: [1, 2]\n",
      "  ret: []  cur: [1, 4]\n",
      "  ret: []  cur: [1, 6]\n",
      " ret: [[1, 6]]\n",
      "\n",
      "([[1, 3], [2, 6], [8, 10], [15, 18]],   [])\n",
      " intervals: [[1, 3], [2, 6], [8, 10], [15, 18]]\n",
      "  ret: []  cur: [1, 3]\n",
      "  ret: []  cur: [1, 6]\n",
      "  ret: [[1, 6]]  cur: [8, 10]\n",
      "  ret: [[1, 6], [8, 10]]  cur: [15, 18]\n",
      " ret: [[1, 6], [8, 10], [15, 18]]\n",
      "\n",
      "([[1, 3], [2, 6], [8, 10], [15, 18]],   [1, 2])\n",
      " intervals: [[1, 3], [1, 2], [2, 6], [8, 10], [15, 18]]\n",
      "  ret: []  cur: [1, 3]\n",
      "  ret: []  cur: [1, 3]\n",
      "  ret: []  cur: [1, 6]\n",
      "  ret: [[1, 6]]  cur: [8, 10]\n",
      "  ret: [[1, 6], [8, 10]]  cur: [15, 18]\n",
      " ret: [[1, 6], [8, 10], [15, 18]]\n",
      "\n",
      "([[1, 3], [2, 6], [8, 10], [15, 18], [1, 2]],   [1, 4])\n",
      " intervals: [[1, 3], [1, 2], [1, 4], [2, 6], [8, 10], [15, 18]]\n",
      "  ret: []  cur: [1, 3]\n",
      "  ret: []  cur: [1, 3]\n",
      "  ret: []  cur: [1, 4]\n",
      "  ret: []  cur: [1, 6]\n",
      "  ret: [[1, 6]]  cur: [8, 10]\n",
      "  ret: [[1, 6], [8, 10]]  cur: [15, 18]\n",
      " ret: [[1, 6], [8, 10], [15, 18]]\n",
      "\n",
      "([[1, 3], [2, 6], [8, 10], [15, 18], [1, 2], [1, 4]],   [1, 6])\n",
      " intervals: [[1, 3], [1, 2], [1, 4], [1, 6], [2, 6], [8, 10], [15, 18]]\n",
      "  ret: []  cur: [1, 3]\n",
      "  ret: []  cur: [1, 3]\n",
      "  ret: []  cur: [1, 4]\n",
      "  ret: []  cur: [1, 6]\n",
      "  ret: []  cur: [1, 6]\n",
      "  ret: [[1, 6]]  cur: [8, 10]\n",
      "  ret: [[1, 6], [8, 10]]  cur: [15, 18]\n",
      " ret: [[1, 6], [8, 10], [15, 18]]\n",
      "\n",
      "([[1, 4], [4, 5]],   [])\n",
      " intervals: [[1, 4], [4, 5]]\n",
      "  ret: []  cur: [1, 4]\n",
      "  ret: []  cur: [1, 5]\n",
      " ret: [[1, 5]]\n",
      "\n",
      "([[1, 4], [4, 5]],   [1, 2])\n",
      " intervals: [[1, 4], [1, 2], [4, 5]]\n",
      "  ret: []  cur: [1, 4]\n",
      "  ret: []  cur: [1, 4]\n",
      "  ret: []  cur: [1, 5]\n",
      " ret: [[1, 5]]\n",
      "\n",
      "([[1, 4], [4, 5], [1, 2]],   [1, 4])\n",
      " intervals: [[1, 4], [1, 2], [1, 4], [4, 5]]\n",
      "  ret: []  cur: [1, 4]\n",
      "  ret: []  cur: [1, 4]\n",
      "  ret: []  cur: [1, 4]\n",
      "  ret: []  cur: [1, 5]\n",
      " ret: [[1, 5]]\n",
      "\n",
      "([[1, 4], [4, 5], [1, 2], [1, 4]],   [1, 6])\n",
      " intervals: [[1, 4], [1, 2], [1, 4], [1, 6], [4, 5]]\n",
      "  ret: []  cur: [1, 4]\n",
      "  ret: []  cur: [1, 4]\n",
      "  ret: []  cur: [1, 4]\n",
      "  ret: []  cur: [1, 6]\n",
      "  ret: []  cur: [1, 6]\n",
      " ret: [[1, 6]]\n",
      "\n",
      "([[1, 4], [4, 5], [4, 5]],   [])\n",
      " intervals: [[1, 4], [4, 5], [4, 5]]\n",
      "  ret: []  cur: [1, 4]\n",
      "  ret: []  cur: [1, 5]\n",
      "  ret: []  cur: [1, 5]\n",
      " ret: [[1, 5]]\n",
      "\n",
      "([[1, 4], [4, 5], [4, 5]],   [1, 2])\n",
      " intervals: [[1, 4], [1, 2], [4, 5], [4, 5]]\n",
      "  ret: []  cur: [1, 4]\n",
      "  ret: []  cur: [1, 4]\n",
      "  ret: []  cur: [1, 5]\n",
      "  ret: []  cur: [1, 5]\n",
      " ret: [[1, 5]]\n",
      "\n",
      "([[1, 4], [4, 5], [4, 5], [1, 2]],   [1, 4])\n",
      " intervals: [[1, 4], [1, 2], [1, 4], [4, 5], [4, 5]]\n",
      "  ret: []  cur: [1, 4]\n",
      "  ret: []  cur: [1, 4]\n",
      "  ret: []  cur: [1, 4]\n",
      "  ret: []  cur: [1, 5]\n",
      "  ret: []  cur: [1, 5]\n",
      " ret: [[1, 5]]\n",
      "\n",
      "([[1, 4], [4, 5], [4, 5], [1, 2], [1, 4]],   [1, 6])\n",
      " intervals: [[1, 4], [1, 2], [1, 4], [1, 6], [4, 5], [4, 5]]\n",
      "  ret: []  cur: [1, 4]\n",
      "  ret: []  cur: [1, 4]\n",
      "  ret: []  cur: [1, 4]\n",
      "  ret: []  cur: [1, 6]\n",
      "  ret: []  cur: [1, 6]\n",
      "  ret: []  cur: [1, 6]\n",
      " ret: [[1, 6]]\n",
      "\n",
      "([[1, 4], [0, 4]],   [])\n",
      " intervals: [[1, 4], [0, 4]]\n",
      "  ret: []  cur: [1, 4]\n",
      "  ret: []  cur: [1, 4]\n",
      " ret: [[1, 4]]\n",
      "\n",
      "([[1, 4], [0, 4]],   [1, 2])\n",
      " intervals: [[0, 4], [1, 4], [1, 2]]\n",
      "  ret: []  cur: [0, 4]\n",
      "  ret: []  cur: [0, 4]\n",
      "  ret: []  cur: [0, 4]\n",
      " ret: [[0, 4]]\n",
      "\n",
      "([[1, 4], [0, 4], [1, 2]],   [1, 4])\n",
      " intervals: [[0, 4], [1, 4], [1, 2], [1, 4]]\n",
      "  ret: []  cur: [0, 4]\n",
      "  ret: []  cur: [0, 4]\n",
      "  ret: []  cur: [0, 4]\n",
      "  ret: []  cur: [0, 4]\n",
      " ret: [[0, 4]]\n",
      "\n",
      "([[1, 4], [0, 4], [1, 2], [1, 4]],   [1, 6])\n",
      " intervals: [[0, 4], [1, 4], [1, 2], [1, 4], [1, 6]]\n",
      "  ret: []  cur: [0, 4]\n",
      "  ret: []  cur: [0, 4]\n",
      "  ret: []  cur: [0, 4]\n",
      "  ret: []  cur: [0, 4]\n",
      "  ret: []  cur: [0, 6]\n",
      " ret: [[0, 6]]\n",
      "\n",
      "([[1, 4], [4, 5], [0, 5]],   [])\n",
      " intervals: [[1, 4], [4, 5], [0, 5]]\n",
      "  ret: []  cur: [1, 4]\n",
      "  ret: []  cur: [1, 5]\n",
      "  ret: []  cur: [1, 5]\n",
      " ret: [[1, 5]]\n",
      "\n",
      "([[1, 4], [4, 5], [0, 5]],   [1, 2])\n",
      " intervals: [[0, 5], [1, 4], [1, 2], [4, 5]]\n",
      "  ret: []  cur: [0, 5]\n",
      "  ret: []  cur: [0, 5]\n",
      "  ret: []  cur: [0, 5]\n",
      "  ret: []  cur: [0, 5]\n",
      " ret: [[0, 5]]\n",
      "\n",
      "([[1, 4], [4, 5], [0, 5], [1, 2]],   [1, 4])\n",
      " intervals: [[0, 5], [1, 4], [1, 2], [1, 4], [4, 5]]\n",
      "  ret: []  cur: [0, 5]\n",
      "  ret: []  cur: [0, 5]\n",
      "  ret: []  cur: [0, 5]\n",
      "  ret: []  cur: [0, 5]\n",
      "  ret: []  cur: [0, 5]\n",
      " ret: [[0, 5]]\n",
      "\n",
      "([[1, 4], [4, 5], [0, 5], [1, 2], [1, 4]],   [1, 6])\n",
      " intervals: [[0, 5], [1, 4], [1, 2], [1, 4], [1, 6], [4, 5]]\n",
      "  ret: []  cur: [0, 5]\n",
      "  ret: []  cur: [0, 5]\n",
      "  ret: []  cur: [0, 5]\n",
      "  ret: []  cur: [0, 5]\n",
      "  ret: []  cur: [0, 6]\n",
      "  ret: []  cur: [0, 6]\n",
      " ret: [[0, 6]]\n",
      "\n",
      "([[1, 4], [2, 3]],   [])\n",
      " intervals: [[1, 4], [2, 3]]\n",
      "  ret: []  cur: [1, 4]\n",
      "  ret: []  cur: [1, 4]\n",
      " ret: [[1, 4]]\n",
      "\n",
      "([[1, 4], [2, 3]],   [1, 2])\n",
      " intervals: [[1, 4], [1, 2], [2, 3]]\n",
      "  ret: []  cur: [1, 4]\n",
      "  ret: []  cur: [1, 4]\n",
      "  ret: []  cur: [1, 4]\n",
      " ret: [[1, 4]]\n",
      "\n",
      "([[1, 4], [2, 3], [1, 2]],   [1, 4])\n",
      " intervals: [[1, 4], [1, 2], [1, 4], [2, 3]]\n",
      "  ret: []  cur: [1, 4]\n",
      "  ret: []  cur: [1, 4]\n",
      "  ret: []  cur: [1, 4]\n",
      "  ret: []  cur: [1, 4]\n",
      " ret: [[1, 4]]\n",
      "\n",
      "([[1, 4], [2, 3], [1, 2], [1, 4]],   [1, 6])\n",
      " intervals: [[1, 4], [1, 2], [1, 4], [1, 6], [2, 3]]\n",
      "  ret: []  cur: [1, 4]\n",
      "  ret: []  cur: [1, 4]\n",
      "  ret: []  cur: [1, 4]\n",
      "  ret: []  cur: [1, 6]\n",
      "  ret: []  cur: [1, 6]\n",
      " ret: [[1, 6]]\n"
     ]
    },
    {
     "data": {
      "text/plain": [
       "[([[1, 2], [1, 4], [1, 6]], [], '->', [[1, 2], [1, 4], [1, 6]]),\n",
       " ([[1, 2], [1, 4], [1, 6]], [1, 2], '->', [[1, 2]]),\n",
       " ([[1, 2], [1, 4], [1, 6]], [1, 4], '->', [[1, 4]]),\n",
       " ([[1, 2], [1, 4], [1, 6]], [1, 6], '->', [[1, 6]]),\n",
       " ([[1, 2], [1, 2], [1, 4], [1, 6]], [], '->', [[1, 2]]),\n",
       " ([[1, 2], [1, 2], [1, 4], [1, 6]], [1, 2], '->', [[1, 2]]),\n",
       " ([[1, 2], [1, 2], [1, 4], [1, 6]], [1, 4], '->', [[1, 4]]),\n",
       " ([[1, 2], [1, 2], [1, 4], [1, 6]], [1, 6], '->', [[1, 6]]),\n",
       " ([[1, 3], [2, 6], [8, 10], [15, 18], [1, 2], [1, 4], [1, 6]],\n",
       "  [],\n",
       "  '->',\n",
       "  [[1, 6], [8, 10], [15, 18]]),\n",
       " ([[1, 3], [2, 6], [8, 10], [15, 18], [1, 2], [1, 4], [1, 6]],\n",
       "  [1, 2],\n",
       "  '->',\n",
       "  [[1, 6], [8, 10], [15, 18]]),\n",
       " ([[1, 3], [2, 6], [8, 10], [15, 18], [1, 2], [1, 4], [1, 6]],\n",
       "  [1, 4],\n",
       "  '->',\n",
       "  [[1, 6], [8, 10], [15, 18]]),\n",
       " ([[1, 3], [2, 6], [8, 10], [15, 18], [1, 2], [1, 4], [1, 6]],\n",
       "  [1, 6],\n",
       "  '->',\n",
       "  [[1, 6], [8, 10], [15, 18]]),\n",
       " ([[1, 4], [4, 5], [1, 2], [1, 4], [1, 6]], [], '->', [[1, 5]]),\n",
       " ([[1, 4], [4, 5], [1, 2], [1, 4], [1, 6]], [1, 2], '->', [[1, 5]]),\n",
       " ([[1, 4], [4, 5], [1, 2], [1, 4], [1, 6]], [1, 4], '->', [[1, 5]]),\n",
       " ([[1, 4], [4, 5], [1, 2], [1, 4], [1, 6]], [1, 6], '->', [[1, 6]]),\n",
       " ([[1, 4], [4, 5], [4, 5], [1, 2], [1, 4], [1, 6]], [], '->', [[1, 5]]),\n",
       " ([[1, 4], [4, 5], [4, 5], [1, 2], [1, 4], [1, 6]], [1, 2], '->', [[1, 5]]),\n",
       " ([[1, 4], [4, 5], [4, 5], [1, 2], [1, 4], [1, 6]], [1, 4], '->', [[1, 5]]),\n",
       " ([[1, 4], [4, 5], [4, 5], [1, 2], [1, 4], [1, 6]], [1, 6], '->', [[1, 6]]),\n",
       " ([[1, 4], [0, 4], [1, 2], [1, 4], [1, 6]], [], '->', [[1, 4]]),\n",
       " ([[1, 4], [0, 4], [1, 2], [1, 4], [1, 6]], [1, 2], '->', [[0, 4]]),\n",
       " ([[1, 4], [0, 4], [1, 2], [1, 4], [1, 6]], [1, 4], '->', [[0, 4]]),\n",
       " ([[1, 4], [0, 4], [1, 2], [1, 4], [1, 6]], [1, 6], '->', [[0, 6]]),\n",
       " ([[1, 4], [4, 5], [0, 5], [1, 2], [1, 4], [1, 6]], [], '->', [[1, 5]]),\n",
       " ([[1, 4], [4, 5], [0, 5], [1, 2], [1, 4], [1, 6]], [1, 2], '->', [[0, 5]]),\n",
       " ([[1, 4], [4, 5], [0, 5], [1, 2], [1, 4], [1, 6]], [1, 4], '->', [[0, 5]]),\n",
       " ([[1, 4], [4, 5], [0, 5], [1, 2], [1, 4], [1, 6]], [1, 6], '->', [[0, 6]]),\n",
       " ([[1, 4], [2, 3], [1, 2], [1, 4], [1, 6]], [], '->', [[1, 4]]),\n",
       " ([[1, 4], [2, 3], [1, 2], [1, 4], [1, 6]], [1, 2], '->', [[1, 4]]),\n",
       " ([[1, 4], [2, 3], [1, 2], [1, 4], [1, 6]], [1, 4], '->', [[1, 4]]),\n",
       " ([[1, 4], [2, 3], [1, 2], [1, 4], [1, 6]], [1, 6], '->', [[1, 6]])]"
      ]
     },
     "execution_count": 45,
     "metadata": {},
     "output_type": "execute_result"
    }
   ],
   "source": [
    "class Solution:\n",
    "    def insert(self, intervals, newInterval):\n",
    "        print(f'\\n({intervals},   {newInterval})')\n",
    "        if not intervals and not newInterval: return intervals\n",
    "        if newInterval and len(newInterval)==2: \n",
    "            intervals.append(newInterval)\n",
    "            intervals = sorted(intervals, key=lambda x: x[0])\n",
    "        print(f' intervals: {intervals}')\n",
    "        ret = []\n",
    "        cur = intervals[0]\n",
    "        print(f'  ret: {ret}  cur: {cur}')\n",
    "        for el in intervals[1:]:\n",
    "            if cur[1] < el[0]:\n",
    "                ret.append(cur)\n",
    "                cur = el\n",
    "            else:\n",
    "                cur = [cur[0], max(cur[1], el[1])]\n",
    "            print(f'  ret: {ret}  cur: {cur}')\n",
    "        ret.append(cur)\n",
    "        print(f' ret: {ret}')\n",
    "        return ret\n",
    "    \n",
    "solution = Solution()\n",
    "tsts =[[], [[1,2]], [[1,3],[2,6],[8,10],[15,18]], [[1,4],[4,5]], [[1,4],[4,5], [4,5]],\n",
    "      [[1,4],[0,4]], [[1,4],[4,5], [0,5]], [[1,4],[2,3]]]\n",
    "ints = [[], [1,2], [1,4], [1,6]]\n",
    "[(tst,i, '->', solution.insert(tst, i)) for tst in tsts for i in ints]"
   ]
  },
  {
   "cell_type": "markdown",
   "metadata": {
    "heading_collapsed": true
   },
   "source": [
    "# Sort Colors\n",
    "https://leetcode.com/problems/sort-colors/"
   ]
  },
  {
   "cell_type": "code",
   "execution_count": 13,
   "metadata": {
    "ExecuteTime": {
     "end_time": "2020-07-05T05:30:54.948260Z",
     "start_time": "2020-07-05T05:30:54.937262Z"
    },
    "hidden": true
   },
   "outputs": [
    {
     "data": {
      "text/plain": [
       "[([], []),\n",
       " ([0, 1, 2], [0, 1, 2]),\n",
       " ([1, 0, 2], [0, 1, 2]),\n",
       " ([0, 2, 1], [0, 1, 2]),\n",
       " ([1, 2, 0], [0, 1, 2]),\n",
       " ([2, 1, 0], [0, 1, 2]),\n",
       " ([0, 0, 1, 2], [0, 0, 1, 2]),\n",
       " ([1, 1, 0, 2], [0, 1, 1, 2]),\n",
       " ([0, 2, 2, 1], [0, 1, 2, 2]),\n",
       " ([1, 2, 0, 0], [0, 0, 1, 2]),\n",
       " ([2, 1, 0, 2, 1, 0], [0, 0, 1, 1, 2, 2])]"
      ]
     },
     "execution_count": 13,
     "metadata": {},
     "output_type": "execute_result"
    }
   ],
   "source": [
    "class Solution:\n",
    "    def sortColors(self, nums):\n",
    "        \"\"\"\n",
    "        Do not return anything, modify nums in-place instead.\n",
    "        \"\"\"\n",
    "        if len(nums) < 2: return nums\n",
    "        nums = nums[:]\n",
    "        p_0, p_2, p = 0, len(nums)-1, 0\n",
    "        while p <= p_2:\n",
    "            if nums[p] == 1:\n",
    "                p += 1\n",
    "            elif nums[p] == 0:\n",
    "                nums[p_0], nums[p] = nums[p], nums[p_0]\n",
    "                p_0 += 1\n",
    "                p = p_0\n",
    "            else: # nums[p] == 2\n",
    "                nums[p_2], nums[p] = nums[p], nums[p_2]\n",
    "                p_2 -= 1\n",
    "        return nums\n",
    "        \n",
    "tests = [[],[0,1,2], [1,0,2], [0,2,1], [1,2,0], [2,1,0],\n",
    "        [0,0,1,2], [1,1,0,2], [0,2,2,1], [1,2,0,0], [2,1,0,2,1,0]]\n",
    "sol = Solution()\n",
    "[(t, sol.sortColors(t)) for t in tests]"
   ]
  },
  {
   "cell_type": "markdown",
   "metadata": {
    "heading_collapsed": true
   },
   "source": [
    "# Insertion Sort List\n",
    "https://leetcode.com/problems/insertion-sort-list/"
   ]
  },
  {
   "cell_type": "markdown",
   "metadata": {
    "heading_collapsed": true,
    "hidden": true
   },
   "source": [
    "## the first solution\n",
    "Convert to list; make all transfromations in the list; convert list back to the linked list"
   ]
  },
  {
   "cell_type": "code",
   "execution_count": 3,
   "metadata": {
    "ExecuteTime": {
     "end_time": "2020-07-06T23:09:24.304005Z",
     "start_time": "2020-07-06T23:09:24.297002Z"
    },
    "hidden": true
   },
   "outputs": [],
   "source": [
    "# Definition for singly-linked list.\n",
    "class ListNode:\n",
    "    def __init__(self, val=0, next=None):\n",
    "        self.val = val\n",
    "        self.next = next\n",
    "        \n",
    "class Solution:\n",
    "    def insertionSortList(self, head: ListNode) -> ListNode:\n",
    "        pass"
   ]
  },
  {
   "cell_type": "code",
   "execution_count": 72,
   "metadata": {
    "ExecuteTime": {
     "end_time": "2020-07-07T22:24:21.268708Z",
     "start_time": "2020-07-07T22:24:21.250708Z"
    },
    "hidden": true
   },
   "outputs": [
    {
     "name": "stdout",
     "output_type": "stream",
     "text": [
      "[2, -1] ->  0<>1  => [-1, 2]\n",
      "[1, 3, 2] ->  1<>2  => [1, 2, 3]\n",
      "[1, 3, 2, 4, 3] ->  1<>2  => [1, 2, 3, 4, 3]\n",
      "[1, 2, 3, 4, 3] ->  3<>4  => [1, 2, 3, 3, 4]\n",
      "[-1, 5, 4, 3, 0] ->  1<>2  => [-1, 4, 5, 3, 0]\n",
      "[-1, 4, 5, 3, 0] ->  2<>3  => [-1, 4, 3, 5, 0]\n",
      "[-1, 4, 3, 5, 0] ->  1<>2  => [-1, 3, 4, 5, 0]\n",
      "[-1, 3, 4, 5, 0] ->  3<>4  => [-1, 3, 4, 0, 5]\n",
      "[-1, 3, 4, 0, 5] ->  2<>3  => [-1, 3, 0, 4, 5]\n",
      "[-1, 3, 0, 4, 5] ->  1<>2  => [-1, 0, 3, 4, 5]\n"
     ]
    },
    {
     "data": {
      "text/plain": [
       "[([], ''),\n",
       " ([1], '1'),\n",
       " ([2, -1], '-1->2'),\n",
       " ([1, 3, 2], '1->2->3'),\n",
       " ([1, 3, 2, 4, 3], '1->2->3->3->4'),\n",
       " ([-1, 5, 4, 3, 0], '-1->0->3->4->5')]"
      ]
     },
     "execution_count": 72,
     "metadata": {},
     "output_type": "execute_result"
    }
   ],
   "source": [
    "def ln_to_lst(ln):\n",
    "    if not ln: return []\n",
    "    lst = [ln.val]\n",
    "    while ln.next:\n",
    "        ln = ln.next\n",
    "        lst.append(ln.val)\n",
    "    return lst\n",
    "\n",
    "def lst_to_ln(lst):\n",
    "    if not lst: return None\n",
    "    lst = lst[::-1]\n",
    "    ln = ListNode(lst[0])\n",
    "    for i in lst[1:]:\n",
    "        tmp = ListNode(i)\n",
    "        tmp.next = ln\n",
    "        ln = tmp\n",
    "    return ln\n",
    "\n",
    "def prnt(ln):\n",
    "    return '->'.join(map(str, ln_to_lst(ln)))\n",
    "\n",
    "# ln = ListNode(0, ListNode(1, ListNode(2, ListNode(3))))\n",
    "# prnt(ln), prnt(lst_to_ln(ln_to_lst(ln)))\n",
    "\n",
    "def insertion_sort_lst(lst):\n",
    "    if not lst or len(lst) < 2: return lst\n",
    "#     lst = lst[:]\n",
    "    for ii in range(1, len(lst)):\n",
    "        for i in range(ii-1,-1,-1):\n",
    "            if lst[i] > lst[i+1]:\n",
    "                print(f'{lst} ->  ', end='')\n",
    "                lst[i], lst[i+1] = lst[i+1], lst[i]\n",
    "                print(f'{i}<>{i+1}  => {lst}')\n",
    "    return lst\n",
    "\n",
    "class Solution:\n",
    "    def insertionSortList(self, head: ListNode) -> ListNode:\n",
    "        return lst_to_ln(insertion_sort_lst(ln_to_lst(head)))\n",
    "    \n",
    "sol = Solution()\n",
    "tsts = [[], [1], [2,-1], [1,3,2], [1,3,2,4,3], [-1, 5,4,3,0]]\n",
    "[(t, prnt(sol.insertionSortList(lst_to_ln(t)))) for t in tsts]"
   ]
  },
  {
   "cell_type": "code",
   "execution_count": 52,
   "metadata": {
    "ExecuteTime": {
     "end_time": "2020-07-05T06:35:12.021022Z",
     "start_time": "2020-07-05T06:35:12.014022Z"
    },
    "hidden": true
   },
   "outputs": [
    {
     "data": {
      "text/plain": [
       "([0, 1, 2, 3, 4, 5, 6], [6, 5, 4, 3, 2, 1, 0])"
      ]
     },
     "execution_count": 52,
     "metadata": {},
     "output_type": "execute_result"
    }
   ],
   "source": [
    "list(range(7)), list(range(6,-1,-1))"
   ]
  },
  {
   "cell_type": "code",
   "execution_count": 1,
   "metadata": {
    "ExecuteTime": {
     "end_time": "2020-07-06T15:18:35.540971Z",
     "start_time": "2020-07-06T15:18:35.529970Z"
    },
    "hidden": true
   },
   "outputs": [
    {
     "name": "stdout",
     "output_type": "stream",
     "text": [
      "1\n",
      "  0\n",
      "2\n",
      "  0\n",
      "  1\n",
      "3\n",
      "  0\n",
      "  1\n",
      "  2\n",
      "4\n",
      "  0\n",
      "  1\n",
      "  2\n",
      "  3\n",
      "5\n",
      "  0\n",
      "  1\n",
      "  2\n",
      "  3\n",
      "  4\n",
      "6\n",
      "  0\n",
      "  1\n",
      "  2\n",
      "  3\n",
      "  4\n",
      "  5\n"
     ]
    }
   ],
   "source": [
    "sz = 7\n",
    "for ii in range(1, sz):\n",
    "    print(ii)\n",
    "    for i in range(0, ii):\n",
    "        print(' ', i)"
   ]
  },
  {
   "cell_type": "markdown",
   "metadata": {
    "heading_collapsed": true,
    "hidden": true
   },
   "source": [
    "## second solution\n",
    "with both-way pointers\n",
    "It timeouted in the LeetCode. "
   ]
  },
  {
   "cell_type": "code",
   "execution_count": 66,
   "metadata": {
    "ExecuteTime": {
     "end_time": "2020-07-07T22:09:01.430400Z",
     "start_time": "2020-07-07T22:09:01.401380Z"
    },
    "hidden": true
   },
   "outputs": [
    {
     "name": "stdout",
     "output_type": "stream",
     "text": [
      "5->2->0->5->0\n",
      "prev-p-next : None-5-2\n",
      "prev-p-next : 5-2-0\n",
      " ** p_left ... p : None ... 2\n",
      " p_left: None\n",
      "pop_node: 2\n",
      " move>  prev-p-next : None-2-5\n",
      "2->5->0->5->0\n",
      "prev-p-next : 2-5-0\n",
      "prev-p-next : 5-0-5\n",
      "   * p_left ... p : 2 ... 0\n",
      " ** p_left ... p : None ... 0\n",
      " p_left: None\n",
      "pop_node: 0\n",
      " move>  prev-p-next : None-0-2\n",
      "0->2->5->5->0\n",
      "prev-p-next : 0-2-5\n",
      "prev-p-next : 2-5-5\n",
      "prev-p-next : 5-5-0\n",
      "prev-p-next : 5-0-None\n",
      "   * p_left ... p : 5 ... 0\n",
      "   * p_left ... p : 2 ... 0\n",
      "   * p_left ... p : 0 ... 0\n",
      " ** p_left ... p : 0 ... 0\n",
      " p_left: 0\n",
      "pop_node: 0\n",
      " move>  prev-p-next : 0-0-2\n",
      "0->0->2->5->5\n",
      "prev-p-next : 0-2-5\n",
      "prev-p-next : 2-5-5\n",
      "prev-p-next : 5-5-None\n"
     ]
    },
    {
     "data": {
      "text/plain": [
       "('5->2->0->5->0', '0->0->2->5->5')"
      ]
     },
     "execution_count": 66,
     "metadata": {},
     "output_type": "execute_result"
    }
   ],
   "source": [
    "# Timeout in the LeetCode ????\n",
    "\n",
    "# Second solution:\n",
    "# add a forward pointer to eacn ListNode. It allows to trawers list in both directions.\n",
    "class Solution:\n",
    "    def __init__(self):\n",
    "        self.head = None\n",
    "        self.p = None\n",
    "        self.left_p = None\n",
    "        \n",
    "    def pop_node(self, p):\n",
    "        if not p: return \n",
    "        if not p.previous: # head\n",
    "            p.next.previous = None\n",
    "            self.head = p.next\n",
    "        elif not p.next: # tail\n",
    "            p.previous.next = None\n",
    "        else:\n",
    "            p.previous.next, p.next.previous = p.next, p.previous\n",
    "        print(f'pop_node: {p.val}')\n",
    "            \n",
    "    def insert_node(self, p_left, p):\n",
    "        '''Insert p after p_left'''\n",
    "        if not p: return\n",
    "        if not p_left: # insert as a head\n",
    "            p.next, p.previous = self.head, None\n",
    "            p.next.previous = p\n",
    "            self.head = p\n",
    "        else:\n",
    "            p.previous, p_left.next.previous = p_left, p\n",
    "            p_left.next, p.next = p, p_left.next        \n",
    "    \n",
    "    def get_left(self, p):\n",
    "        \"\"\"\n",
    "        Returns the most left node (for move after it) or p (no cursor change) if not to move.\n",
    "        All left nodes are also sorted.\n",
    "        \"\"\"\n",
    "        if not p.previous: return p # p is a head\n",
    "        if p.previous.val <= p.val: return p # all left nodes are sorted\n",
    "        p_left = p.previous\n",
    "        while p_left.val > p.val:\n",
    "            if not p_left.previous: # p_left is head\n",
    "                p_left = None\n",
    "                break\n",
    "            p_left = p_left.previous\n",
    "            print(f'   * p_left ... p : {p_left.val if p_left else None} ... {p.val}')\n",
    "        print(f' ** p_left ... p : {p_left.val if p_left else None} ... {p.val}')\n",
    "        return p_left         \n",
    "    \n",
    "    def insertionSortList(self, head):\n",
    "        print(prnt(head))\n",
    "        if not head or not head.next: return head\n",
    "        self.head = head\n",
    "        self.head.previous = None\n",
    "        p = self.head\n",
    "        print(f'prev-p-next : {p.previous.val if p.previous else None}-{p.val}-{p.next.val if p.next else None}')\n",
    "        while p.next:\n",
    "            p.next.previous = p # add a new attribute, the \"previous\"\n",
    "            p = p.next\n",
    "            print(f'prev-p-next : {p.previous.val if p.previous else None}-{p.val}-{p.next.val if p.next else None}')\n",
    "            p_left = self.get_left(p)\n",
    "            if p_left != p: # move node\n",
    "                print(f' p_left: {p_left.val if p_left else None}')\n",
    "                self.pop_node(p)\n",
    "                self.insert_node(p_left, p)\n",
    "                print(f' move>  prev-p-next : {p.previous.val if p.previous else None}-{p.val}-{p.next.val if p.next else None}')\n",
    "                print(prnt(self.head))\n",
    "        return self.head\n",
    "\n",
    "\n",
    "ln = ListNode(5, ListNode(2, ListNode(0, ListNode(5, ListNode(0)))))\n",
    "# prnt(ln), prnt(lst_to_ln(ln_to_lst(ln)))\n",
    "\n",
    "sol = Solution()\n",
    "prnt(ln), prnt(sol.insertionSortList(ln))"
   ]
  },
  {
   "cell_type": "code",
   "execution_count": null,
   "metadata": {
    "hidden": true
   },
   "outputs": [],
   "source": []
  },
  {
   "cell_type": "code",
   "execution_count": 28,
   "metadata": {
    "ExecuteTime": {
     "end_time": "2020-07-07T14:44:15.149134Z",
     "start_time": "2020-07-07T14:44:15.031157Z"
    },
    "hidden": true
   },
   "outputs": [
    {
     "data": {
      "text/plain": [
       "'[{\"type\": \"job\", \"source\": \"www.indeed.com\", \"sourceId\": \"13d0b03de5c3d0a8\", \"sourceUri\": \"https://www.indeed.com/viewjob?jk=13d0b03de5c3d0a8\", \"originalTitle\": \"Patrol Officer. Full-Time, Variable, UHHS- Westlake, Protective Services Community Hospitals\", \"employmentTypes\": [], \"qualifications\": [\"high school\"], \"certificates\": true, \"licenses\": true, \"location\": {\"originalLocation\": \"Cleveland, OH\", \"locationParsed\": false, \"city\": null, \"state\": null, \"zip\": null, \"countryCode\": null, \"longitude\": 0, \"latitude\": 0}, \"salary\": {\"originalSalary\": null, \"salaryParsed\": false, \"rangeFrom\": 0, \"rangeTo\": 0, \"currency\": 0, \"salaryType\": 0}, \"needsScore\": 0, \"originalCreationDate\": \"2020-07-07T00:00:00.001Z\", \"firstSeen\": \"2020-07-07T00:00:00.001Z\", \"lastSeen\": \"2020-07-07T00:00:00.001Z\", \"originalText\": \"Description\\\\n\\\\n\\\\nThe patrol officer is responsible to help ensure the safety and welfare of patients, visitors and other staff members of UH. Helps to keep the hospital and grounds a safe environment free of theft and other criminal activities. Exercises independent judgment when dealing with potentially dangerous or unusual situations while exercising safety practices and procedures. Can work under stressful, high risk conditions.Relates to and works effectively with people of diverse cultural, economic and ethnic backgroundsPatrols assigned area for unusual or criminal activity or conditions that may endanger public safety while maintaining high visibility. Conducts security checks. Is approachable and offers assistance when needed by patients, visitors, guests or other employees.Responds to emergency calls appropriately. Prepares and processes required reports in a timely manner. Maintains security of assigned zone to ensure safety of medical staff, employees, patients and visitors.Communicates with patients, visitors, and staff to gather information Courteously and promptly assists other employees, visitors or patients when incidents occur. Qualifications\\\\n\\\\n\\\\nHigh School Equivalent / GED OPOTA Ohio Police Officer Training Academy Ohio drivers license. OPOTA Private Security Certificate or a current and valid OPOTA Peace Officer Certificate.\", \"processedText\": null, \"locale\": \"en-US\", \"skills\": null, \"skillExtractionMethod\": \"\", \"originalCompanyName\": \"University Hospitals\", \"clusteredCompanyName\": null, \"yearsOfExperience\": {\"from\": null, \"to\": null}}]'"
      ]
     },
     "execution_count": 28,
     "metadata": {},
     "output_type": "execute_result"
    }
   ],
   "source": [
    "import json\n",
    "\n",
    "t = [{'type': 'job', 'source': 'www.indeed.com', 'sourceId': '13d0b03de5c3d0a8', 'sourceUri': 'https://www.indeed.com/viewjob?jk=13d0b03de5c3d0a8', 'originalTitle': 'Patrol Officer. Full-Time, Variable, UHHS- Westlake, Protective Services Community Hospitals', 'employmentTypes': [], 'qualifications': ['high school'], 'certificates': True, 'licenses': True, 'location': {'originalLocation': 'Cleveland, OH', 'locationParsed': False, 'city': None, 'state': None, 'zip': None, 'countryCode': None, 'longitude': 0, 'latitude': 0}, 'salary': {'originalSalary': None, 'salaryParsed': False, 'rangeFrom': 0, 'rangeTo': 0, 'currency': 0, 'salaryType': 0}, 'needsScore': 0, 'originalCreationDate': '2020-07-07T00:00:00.001Z', 'firstSeen': '2020-07-07T00:00:00.001Z', 'lastSeen': '2020-07-07T00:00:00.001Z', 'originalText': 'Description\\n\\n\\nThe patrol officer is responsible to help ensure the safety and welfare of patients, visitors and other staff members of UH. Helps to keep the hospital and grounds a safe environment free of theft and other criminal activities. Exercises independent judgment when dealing with potentially dangerous or unusual situations while exercising safety practices and procedures. Can work under stressful, high risk conditions.Relates to and works effectively with people of diverse cultural, economic and ethnic backgroundsPatrols assigned area for unusual or criminal activity or conditions that may endanger public safety while maintaining high visibility. Conducts security checks. Is approachable and offers assistance when needed by patients, visitors, guests or other employees.Responds to emergency calls appropriately. Prepares and processes required reports in a timely manner. Maintains security of assigned zone to ensure safety of medical staff, employees, patients and visitors.Communicates with patients, visitors, and staff to gather information Courteously and promptly assists other employees, visitors or patients when incidents occur. Qualifications\\n\\n\\nHigh School Equivalent / GED OPOTA Ohio Police Officer Training Academy Ohio drivers license. OPOTA Private Security Certificate or a current and valid OPOTA Peace Officer Certificate.', 'processedText': None, 'locale': 'en-US', 'skills': None, 'skillExtractionMethod': '', 'originalCompanyName': 'University Hospitals', 'clusteredCompanyName': None, 'yearsOfExperience': {'from': None, 'to': None}}]\n",
    "    \n",
    "json.dumps(t)"
   ]
  },
  {
   "cell_type": "markdown",
   "metadata": {
    "hidden": true
   },
   "source": [
    "## one-way solution\n"
   ]
  },
  {
   "cell_type": "code",
   "execution_count": 102,
   "metadata": {
    "ExecuteTime": {
     "end_time": "2020-07-08T04:09:49.454925Z",
     "start_time": "2020-07-08T04:09:49.439936Z"
    },
    "hidden": true
   },
   "outputs": [
    {
     "name": "stdout",
     "output_type": "stream",
     "text": [
      "prev 4 cur 2  inner 4  : 4->2->1->3->6\n",
      "\n",
      "  moved 2\n",
      "    SWAP to head : 2->4->1->3->6\n",
      "\n",
      "  moved 1\n",
      "    SWAP to head : 1->2->4->3->6\n",
      "\n",
      "  moved 3\n",
      "    Swap not to head: inner-1 : 1->2->4->6\n",
      "      inner-2 : 1->2->4->6\n",
      "    Swap not to head: result : 1->2->3->4->6\n",
      "\n",
      " NO swap: prev 6 cur 6 : 1->2->3->4->6\n"
     ]
    },
    {
     "data": {
      "text/plain": [
       "('4->2->1->3->6', '1->2->3->4->6')"
      ]
     },
     "execution_count": 102,
     "metadata": {},
     "output_type": "execute_result"
    }
   ],
   "source": [
    "class ListNode:\n",
    "    def __init__(self, val=0, next=None):\n",
    "        self.val = val\n",
    "        self.next = next\n",
    "        \n",
    "class Solution:\n",
    "    def insertionSortList(self, head: ListNode) -> ListNode:\n",
    "        if not head or not head.next: return head # also one node \n",
    "        prev = head\n",
    "        cur = head.next\n",
    "        inner = head\n",
    "        print(f'prev {prev.val} cur {cur.val}  inner {inner.val}  : {prnt(head)}')\n",
    "        while cur:\n",
    "            print()\n",
    "            if cur.val >= prev.val:\n",
    "                prev = cur\n",
    "                print(f' NO swap: prev {prev.val} cur {cur.val} : {prnt(head)}')\n",
    "                cur = cur.next\n",
    "            else:\n",
    "                moved = cur\n",
    "                cur = cur.next\n",
    "                prev.next = cur # pop cur\n",
    "                # start from head\n",
    "                print(f'  moved {moved.val}')\n",
    "                if moved.val < head.val:\n",
    "                    moved.next = head\n",
    "                    head = moved\n",
    "                    print(f'    SWAP to head : {prnt(head)}')\n",
    "                else:\n",
    "                    inner = head\n",
    "                    print(f'    Swap not to head: inner-{inner.val} : {prnt(head)}')\n",
    "                    while inner.next.val < moved.val:\n",
    "                        inner = inner.next\n",
    "                        print(f'      inner-{inner.val} : {prnt(head)}')\n",
    "                    inner.next, moved.next  = moved, inner.next\n",
    "                    print(f'    Swap not to head: result : {prnt(head)}')\n",
    "        return head\n",
    "                        \n",
    "ln = ListNode(4, ListNode(2, ListNode(1, ListNode(3, ListNode(6)))))\n",
    "# prnt(ln), prnt(lst_to_ln(ln_to_lst(ln)))\n",
    "\n",
    "sol = Solution()\n",
    "prnt(ln), prnt(sol.insertionSortList(ln))"
   ]
  },
  {
   "cell_type": "markdown",
   "metadata": {},
   "source": [
    "# Sort List\n",
    "https://leetcode.com/problems/sort-list/"
   ]
  },
  {
   "cell_type": "markdown",
   "metadata": {
    "heading_collapsed": true
   },
   "source": [
    "## ln -> lst -> ln"
   ]
  },
  {
   "cell_type": "code",
   "execution_count": 35,
   "metadata": {
    "ExecuteTime": {
     "end_time": "2020-07-09T03:25:10.313614Z",
     "start_time": "2020-07-09T03:25:10.187613Z"
    },
    "hidden": true
   },
   "outputs": [
    {
     "data": {
      "text/plain": [
       "[([59, 27, 37, 67, 80, 83, 84], '27->37->59->67->80->83->84'),\n",
       " ([47, 41, 48], '41->47->48'),\n",
       " ([86, 55, 11, 42, 27, 39, 5, 26], '5->11->26->27->39->42->55->86'),\n",
       " ([90, 68], '68->90'),\n",
       " ([96, 14, 85, 24, 52, 29], '14->24->29->52->85->96')]"
      ]
     },
     "execution_count": 35,
     "metadata": {},
     "output_type": "execute_result"
    }
   ],
   "source": [
    "# Definition for singly-linked list.\n",
    "class ListNode:\n",
    "    def __init__(self, val=0, next=None):\n",
    "        self.val = val\n",
    "        self.next = next\n",
    "        \n",
    "class Solution:\n",
    "    def sortList(self, head: ListNode) -> ListNode:\n",
    "        return lst_to_ln(sort_lst(ln_to_lst(head)))\n",
    "    \n",
    "def ln_to_lst(ln):\n",
    "    if not ln: return []\n",
    "    lst = [ln.val]\n",
    "    while ln.next:\n",
    "        ln = ln.next\n",
    "        lst.append(ln.val)\n",
    "    return lst\n",
    "\n",
    "# def prnt(ln):\n",
    "#     return '->'.join(map(str, ln_to_lst(ln)))\n",
    "    \n",
    "def lst_to_ln(lst):\n",
    "    if not lst: return None\n",
    "    lst = lst[::-1]\n",
    "    ln = ListNode(lst[0])\n",
    "    for el in lst[1:]:\n",
    "        tmp = ListNode(el, ln)\n",
    "        ln = tmp\n",
    "    return ln\n",
    "\n",
    "def sort_lst(lst):\n",
    "    if not lst or len(lst) < 2: return lst # sorted :)\n",
    "    left, right = split_lst(lst)\n",
    "    return merge_lsts(sort_lst(left), sort_lst(right))\n",
    "\n",
    "def split_lst(lst):\n",
    "    if not lst or len(lst) < 2: return [], lst\n",
    "    middle = len(lst)//2\n",
    "    return lst[0:middle], lst[middle:]\n",
    "    \n",
    "def merge_lsts(left, right):\n",
    "    if not left or not right: return \n",
    "    lst, left_ix, right_ix = [], 0, 0\n",
    "    while left_ix < len(left) and right_ix < len(right):\n",
    "        if left[left_ix] < right[right_ix]:\n",
    "            lst.append(left[left_ix])\n",
    "            left_ix += 1\n",
    "        else:\n",
    "            lst.append(right[right_ix])\n",
    "            right_ix += 1\n",
    "    return lst + (left[left_ix:] if left_ix < len(left) else right[right_ix:])\n",
    "#     \n",
    "    \n",
    "tests = [[], [0], [0, 1], [0, 1,2], [0,1,2,3], \n",
    "        [2, 1], [2, 1,2], [0,1,4,3], \n",
    "        [2, 1], [3, 2,1], [4, 3, 2,1]]\n",
    "tests = [random.sample(range(0,100), random.randint(0,8)) for i in range(5)]\n",
    "# [(t, sort_lst(t)) for t in tests]\n",
    "\n",
    "sol = Solution()\n",
    "# tests = [[], [0], [0, 1], [0, 1,2], [0,1,2,3]]\n",
    "# tests = [random.sample(range(0,100), random.randint(0,5)) for i in range(10)]\n",
    "[(t, prnt(sol.sortList(lst_to_ln(t)))) for t in tests]\n"
   ]
  },
  {
   "cell_type": "markdown",
   "metadata": {},
   "source": [
    "## fast and slow pointers"
   ]
  },
  {
   "cell_type": "code",
   "execution_count": 102,
   "metadata": {
    "ExecuteTime": {
     "end_time": "2020-07-13T22:40:00.785499Z",
     "start_time": "2020-07-13T22:40:00.671527Z"
    }
   },
   "outputs": [
    {
     "name": "stdout",
     "output_type": "stream",
     "text": [
      "sortList(0->-1->2->3->4->-5)\n",
      "split(0->-1->2->3->4->-5)\n",
      "  split => 3->4->-5\n",
      "sortList(0->-1->2)\n",
      "split(0->-1->2)\n",
      "  split => -1->2\n",
      "sortList(0)\n",
      " 1.sortList => 0\n",
      "sortList(-1->2)\n",
      "split(-1->2)\n",
      "  split => 2\n",
      "sortList(-1)\n",
      " 1.sortList => -1\n",
      "sortList(2)\n",
      " 1.sortList => 2\n",
      "merge(-1, 2)\n",
      "  merge => -1->2\n",
      "merge(0, -1->2)\n",
      "  merge => -1->0->2\n",
      "sortList(3->4->-5)\n",
      "split(3->4->-5)\n",
      "  split => 4->-5\n",
      "sortList(3)\n",
      " 1.sortList => 3\n",
      "sortList(4->-5)\n",
      "split(4->-5)\n",
      "  split => -5\n",
      "sortList(4)\n",
      " 1.sortList => 4\n",
      "sortList(-5)\n",
      " 1.sortList => -5\n",
      "merge(4, -5)\n",
      "  merge => -5->4\n",
      "merge(3, -5->4)\n",
      "  merge => -5->3->4\n",
      "merge(-1->0->2, -5->3->4)\n",
      "  merge => -5->-1->0->2->3->4\n"
     ]
    },
    {
     "data": {
      "text/plain": [
       "'-5->-1->0->2->3->4'"
      ]
     },
     "execution_count": 102,
     "metadata": {},
     "output_type": "execute_result"
    }
   ],
   "source": [
    "def prnt(ln):\n",
    "    if not ln: return '*'\n",
    "    s = str(ln.val)\n",
    "    while ln.next:\n",
    "        ln = ln.next\n",
    "        s += f'->{ln.val}'\n",
    "    return s\n",
    "\n",
    "class ListNode:\n",
    "    def __init__(self, val=0, next=None):\n",
    "        self.val = val\n",
    "        self.next = next\n",
    "        \n",
    "class Solution:\n",
    "    def sortList(self, head: ListNode) -> ListNode:\n",
    "        print(f'sortList({prnt(head)})')\n",
    "        if not head or not head.next: \n",
    "            print(f' 1.sortList => {prnt(head)}')\n",
    "            return head\n",
    "        right = split(head)\n",
    "        return merge_sorted(self.sortList(head), self.sortList(right))\n",
    "\n",
    "\n",
    "def split(ln):\n",
    "    print(f'split({prnt(ln)})')\n",
    "    if not ln or not ln.next: \n",
    "        print(f'  split => None')\n",
    "        return None\n",
    "    slow_prev = slow = fast = ln\n",
    "    i = 0\n",
    "    while fast and fast.next:\n",
    "        slow_prev, slow, fast = slow, slow.next, fast.next.next\n",
    "#         print(f' {i} slow_p?rev {prnt(slow_prev)}  slow {prnt(slow)}  fast {prnt(fast)}  ')\n",
    "        i += 1\n",
    "        if i > 10: break\n",
    "    slow_prev.next = None\n",
    "    print(f'  split => {prnt(slow)}')\n",
    "    return slow\n",
    "\n",
    "def merge_sorted(left, right):\n",
    "    print(f'merge({prnt(left)}, {prnt(right)})')\n",
    "    if not left or not right: \n",
    "        print(f'  merge => {prnt(left or right)}')\n",
    "        return left or right\n",
    "    head = cur = ListNode()\n",
    "    i = 0\n",
    "    while left and right:\n",
    "        if left.val > right.val:\n",
    "            left, right = right, left\n",
    "        cur.next, left = left, left.next\n",
    "        cur = cur.next\n",
    "#         print(f' {i} cur:{prnt(cur)}  left-right {prnt(left)} - {prnt(right)}')\n",
    "        i += 1\n",
    "        if i > 10: \n",
    "#             print(f' {i} > 5 cur:{prnt(cur)}  left-right {prnt(left)} - {prnt(right)}')\n",
    "            break\n",
    "            \n",
    "            \n",
    "    cur.next = left or right\n",
    "    print(f'  merge => {prnt(head.next)}')\n",
    "    return head.next\n",
    "        \n",
    "        \n",
    "ln = ListNode(0, ListNode(-1, ListNode(2, ListNode(3, ListNode(4, ListNode(-5))))))     \n",
    "# print(prnt(ln))\n",
    "# right = split(ln)\n",
    "# left = ln\n",
    "# print(prnt(left), prnt(right))\n",
    "# prnt(merge_sorted(left, right))\n",
    "\n",
    "sol = Solution()\n",
    "prnt(sol.sortList(ln))"
   ]
  },
  {
   "cell_type": "code",
   "execution_count": null,
   "metadata": {},
   "outputs": [],
   "source": []
  },
  {
   "cell_type": "code",
   "execution_count": 87,
   "metadata": {
    "ExecuteTime": {
     "end_time": "2020-07-13T20:29:40.850180Z",
     "start_time": "2020-07-13T20:29:40.829174Z"
    }
   },
   "outputs": [
    {
     "name": "stdout",
     "output_type": "stream",
     "text": [
      "sortList():: head: 7->5->7->1->4\n",
      " halve():: node: 7->5->7->1->4\n",
      "  halve():: => 7->1->4\n",
      "sortList():: head: 7->5\n",
      " halve():: node: 7->5\n",
      "  halve():: => 5\n",
      "sortList():: head: 7\n",
      " halve():: node: 7\n",
      "  halve():: => 7\n",
      " sortList() => 7\n",
      "sortList():: head: 5\n",
      " halve():: node: 5\n",
      "  halve():: => 5\n",
      " sortList() => 5\n",
      " merge(7, 5)\n",
      "    merge() => 5->7\n",
      "sortList():: head: 7->1->4\n",
      " halve():: node: 7->1->4\n",
      "  halve():: => 1->4\n",
      "sortList():: head: 7\n",
      " halve():: node: 7\n",
      "  halve():: => 7\n",
      " sortList() => 7\n",
      "sortList():: head: 1->4\n",
      " halve():: node: 1->4\n",
      "  halve():: => 4\n",
      "sortList():: head: 1\n",
      " halve():: node: 1\n",
      "  halve():: => 1\n",
      " sortList() => 1\n",
      "sortList():: head: 4\n",
      " halve():: node: 4\n",
      "  halve():: => 4\n",
      " sortList() => 4\n",
      " merge(1, 4)\n",
      "    merge() => 1->4\n",
      " merge(7, 1->4)\n",
      "    merge() => 1->4->7\n",
      " merge(5->7, 1->4->7)\n",
      "    merge() => 1->4->5->7->7\n"
     ]
    },
    {
     "data": {
      "text/plain": [
       "'1->4->5->7->7'"
      ]
     },
     "execution_count": 87,
     "metadata": {},
     "output_type": "execute_result"
    }
   ],
   "source": [
    "class Solution:\n",
    "    def sortList(self, head: ListNode) -> ListNode:\n",
    "        print(f'sortList():: head: {prnt(head)}')\n",
    "        half = self.halve(head)\n",
    "        if not half or head == half: \n",
    "            print(f' sortList() => {prnt(head)}')\n",
    "            return head \n",
    "        return self.merge(self.sortList(head), self.sortList(half))\n",
    "    \n",
    "    \n",
    "    def halve(self, node: ListNode) -> ListNode: \n",
    "        \"\"\"Break the list into two parts and return the head of 2nd half\"\"\"\n",
    "        print(f' halve():: node: {prnt(node)}')\n",
    "        fast = prev = slow = node \n",
    "        while fast and fast.next:\n",
    "            fast, prev, slow = fast.next.next, slow, slow.next\n",
    "        if prev: prev.next = None #break linked list\n",
    "        print(f'  halve():: => {prnt(slow)}')\n",
    "        return slow\n",
    "    \n",
    "    \n",
    "    def merge(self, list1: ListNode, list2: ListNode) -> ListNode: \n",
    "        \"\"\"Merge two sorted lists into a sorted list\"\"\"\n",
    "        print(f' merge({prnt(list1)}, {prnt(list2)})')\n",
    "        dummy = node = ListNode()\n",
    "        while list1 and list2: \n",
    "            if list1.val > list2.val: list1, list2 = list2, list1\n",
    "            node.next = list1\n",
    "            node, list1 = node.next, list1.next \n",
    "        node.next = list1 or list2\n",
    "        print(f'    merge() => {prnt(dummy.next)}')\n",
    "        return dummy.next \n",
    "\n",
    "def prnt(ln):\n",
    "    if not ln: return '*'\n",
    "    s = str(ln.val)\n",
    "    while ln.next:\n",
    "        ln = ln.next\n",
    "        s += f'->{ln.val}'\n",
    "    return s\n",
    "    \n",
    "ln = ListNode(7, ListNode(5, ListNode(7, ListNode(1, ListNode(4)))))     \n",
    "# print(prnt(ln))\n",
    "# right = split(ln)\n",
    "# left = ln\n",
    "# print(prnt(left), prnt(right))\n",
    "# prnt(merge_sorted(left, right))\n",
    "\n",
    "sol = Solution()\n",
    "prnt(sol.sortList(ln))"
   ]
  },
  {
   "cell_type": "code",
   "execution_count": null,
   "metadata": {},
   "outputs": [],
   "source": []
  }
 ],
 "metadata": {
  "kernelspec": {
   "display_name": "Python 3",
   "language": "python",
   "name": "python3"
  },
  "language_info": {
   "codemirror_mode": {
    "name": "ipython",
    "version": 3
   },
   "file_extension": ".py",
   "mimetype": "text/x-python",
   "name": "python",
   "nbconvert_exporter": "python",
   "pygments_lexer": "ipython3",
   "version": "3.6.4"
  },
  "toc": {
   "base_numbering": 1,
   "nav_menu": {},
   "number_sections": true,
   "sideBar": true,
   "skip_h1_title": false,
   "title_cell": "Table of Contents",
   "title_sidebar": "Contents",
   "toc_cell": false,
   "toc_position": {},
   "toc_section_display": true,
   "toc_window_display": false
  }
 },
 "nbformat": 4,
 "nbformat_minor": 2
}
